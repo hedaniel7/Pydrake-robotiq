{
 "cells": [
  {
   "cell_type": "markdown",
   "metadata": {
    "id": "EgiF12Hf1Dhs",
    "colab_type": "text",
    "cell_id": "4c1228d114de4758ade60bcb9d38a55d",
    "deepnote_cell_type": "markdown"
   },
   "source": [
    "This notebook provides examples to go along with the [textbook](http://manipulation.csail.mit.edu/pick.html).  I recommend having both windows open, side-by-side!"
   ],
   "block_group": "5f0a8ed9fe114e9d88efbec8df0e8f4e"
  },
  {
   "cell_type": "code",
   "outputs": [],
   "source": [
    "import pydot\n",
    "from IPython.display import SVG, display\n",
    "from pydrake.all import MultibodyPlant, Parser\n",
    "\n",
    "from manipulation.utils import ConfigureParser"
   ],
   "metadata": {
    "collapsed": false,
    "ExecuteTime": {
     "end_time": "2024-04-25T08:57:51.234238Z",
     "start_time": "2024-04-25T08:57:50.713318Z"
    }
   },
   "execution_count": 1
  },
  {
   "cell_type": "markdown",
   "source": [
    "# Inspecting the kinematic tree\n",
    "\n",
    "Here is a simple example that demonstrates how to inspect the kinematic tree stored in a `MultibodyPlant`."
   ],
   "metadata": {
    "collapsed": false
   }
  },
  {
   "cell_type": "code",
   "outputs": [
    {
     "data": {
      "text/plain": "<IPython.core.display.SVG object>",
      "image/svg+xml": "<svg xmlns=\"http://www.w3.org/2000/svg\" xmlns:xlink=\"http://www.w3.org/1999/xlink\" width=\"1410pt\" height=\"468pt\" viewBox=\"0.00 0.00 1410.00 468.00\">\n<g id=\"graph0\" class=\"graph\" transform=\"scale(1 1) rotate(0) translate(4 464)\">\n<title>MultibodyPlant</title>\n<polygon fill=\"white\" stroke=\"transparent\" points=\"-4,4 -4,-464 1406,-464 1406,4 -4,4\"/>\n<g id=\"clust1\" class=\"cluster\">\n<title>cluster0</title>\n<polygon fill=\"none\" stroke=\"black\" points=\"607,-377 607,-452 771,-452 771,-377 607,-377\"/>\n<text text-anchor=\"middle\" x=\"689\" y=\"-384.8\" font-family=\"Times,serif\" font-size=\"14.00\">WorldModelInstance</text>\n</g>\n<g id=\"clust3\" class=\"cluster\">\n<title>cluster2</title>\n<polygon fill=\"none\" stroke=\"black\" points=\"8,-8 8,-344 1347,-344 1347,-8 8,-8\"/>\n<text text-anchor=\"middle\" x=\"677.5\" y=\"-15.8\" font-family=\"Times,serif\" font-size=\"14.00\">robotiq85_gripper</text>\n</g>\n<!-- body0 -->\n<g id=\"node1\" class=\"node\">\n<title>body0</title>\n<ellipse fill=\"none\" stroke=\"black\" cx=\"689\" cy=\"-426\" rx=\"37.09\" ry=\"18\"/>\n<text text-anchor=\"middle\" x=\"689\" y=\"-422.3\" font-family=\"Times,serif\" font-size=\"14.00\">world</text>\n</g>\n<!-- body1 -->\n<g id=\"node2\" class=\"node\">\n<title>body1</title>\n<ellipse fill=\"none\" stroke=\"black\" cx=\"689\" cy=\"-318\" rx=\"104.78\" ry=\"18\"/>\n<text text-anchor=\"middle\" x=\"689\" y=\"-314.3\" font-family=\"Times,serif\" font-size=\"14.00\">robotiq_coupler_link</text>\n</g>\n<!-- body1&#45;&gt;body0 -->\n<g id=\"edge10\" class=\"edge\">\n<title>body1-&gt;body0</title>\n<path fill=\"none\" stroke=\"black\" d=\"M689,-336.03C689,-352.62 689,-378.12 689,-397.57\"/>\n<polygon fill=\"black\" stroke=\"black\" points=\"685.5,-397.66 689,-407.66 692.5,-397.66 685.5,-397.66\"/>\n<text text-anchor=\"middle\" x=\"838.5\" y=\"-357.8\" font-family=\"Times,serif\" font-size=\"14.00\">robotiq_coupler_link [quaternion_floating]</text>\n</g>\n<!-- body2 -->\n<g id=\"node3\" class=\"node\">\n<title>body2</title>\n<ellipse fill=\"none\" stroke=\"black\" cx=\"689\" cy=\"-231\" rx=\"92.88\" ry=\"18\"/>\n<text text-anchor=\"middle\" x=\"689\" y=\"-227.3\" font-family=\"Times,serif\" font-size=\"14.00\">gripper_base_link</text>\n</g>\n<!-- body2&#45;&gt;body1 -->\n<g id=\"edge1\" class=\"edge\">\n<title>body2-&gt;body1</title>\n<path fill=\"none\" stroke=\"black\" d=\"M689,-249.2C689,-260.84 689,-276.45 689,-289.76\"/>\n<polygon fill=\"black\" stroke=\"black\" points=\"685.5,-289.82 689,-299.82 692.5,-289.82 685.5,-289.82\"/>\n<text text-anchor=\"middle\" x=\"779.5\" y=\"-270.8\" font-family=\"Times,serif\" font-size=\"14.00\">gripper_base_joint [weld]</text>\n</g>\n<!-- body3 -->\n<g id=\"node4\" class=\"node\">\n<title>body3</title>\n<ellipse fill=\"none\" stroke=\"black\" cx=\"1195\" cy=\"-144\" rx=\"144.07\" ry=\"18\"/>\n<text text-anchor=\"middle\" x=\"1195\" y=\"-140.3\" font-family=\"Times,serif\" font-size=\"14.00\">gripper_finger1_knuckle_link</text>\n</g>\n<!-- body3&#45;&gt;body2 -->\n<g id=\"edge2\" class=\"edge\">\n<title>body3-&gt;body2</title>\n<path fill=\"none\" stroke=\"black\" d=\"M1167.39,-161.68C1147.03,-173.12 1118.24,-187.53 1091,-195 1036.05,-210.06 888.63,-220.11 788.43,-225.44\"/>\n<polygon fill=\"black\" stroke=\"black\" points=\"788.09,-221.95 778.28,-225.97 788.45,-228.94 788.09,-221.95\"/>\n<text text-anchor=\"middle\" x=\"1241.5\" y=\"-183.8\" font-family=\"Times,serif\" font-size=\"14.00\">gripper_finger1_joint [revolute]</text>\n</g>\n<!-- body4 -->\n<g id=\"node5\" class=\"node\">\n<title>body4</title>\n<ellipse fill=\"none\" stroke=\"black\" cx=\"888\" cy=\"-144\" rx=\"144.07\" ry=\"18\"/>\n<text text-anchor=\"middle\" x=\"888\" y=\"-140.3\" font-family=\"Times,serif\" font-size=\"14.00\">gripper_finger2_knuckle_link</text>\n</g>\n<!-- body4&#45;&gt;body2 -->\n<g id=\"edge3\" class=\"edge\">\n<title>body4-&gt;body2</title>\n<path fill=\"none\" stroke=\"black\" d=\"M876.97,-162.37C869.1,-173.36 857.52,-186.97 844,-195 824.37,-206.65 801.23,-214.43 778.91,-219.62\"/>\n<polygon fill=\"black\" stroke=\"black\" points=\"778.09,-216.21 769.06,-221.75 779.58,-223.05 778.09,-216.21\"/>\n<text text-anchor=\"middle\" x=\"974.5\" y=\"-183.8\" font-family=\"Times,serif\" font-size=\"14.00\">gripper_finger2_joint [revolute]</text>\n</g>\n<!-- body5 -->\n<g id=\"node6\" class=\"node\">\n<title>body5</title>\n<ellipse fill=\"none\" stroke=\"black\" cx=\"1103\" cy=\"-57\" rx=\"135.68\" ry=\"18\"/>\n<text text-anchor=\"middle\" x=\"1103\" y=\"-53.3\" font-family=\"Times,serif\" font-size=\"14.00\">gripper_finger1_finger_link</text>\n</g>\n<!-- body5&#45;&gt;body3 -->\n<g id=\"edge4\" class=\"edge\">\n<title>body5-&gt;body3</title>\n<path fill=\"none\" stroke=\"black\" d=\"M1121.62,-75.2C1135.3,-87.84 1154.06,-105.18 1169.19,-119.15\"/>\n<polygon fill=\"black\" stroke=\"black\" points=\"1167,-121.9 1176.72,-126.11 1171.75,-116.76 1167,-121.9\"/>\n<text text-anchor=\"middle\" x=\"1278\" y=\"-96.8\" font-family=\"Times,serif\" font-size=\"14.00\">gripper_finger1_finger_joint [weld]</text>\n</g>\n<!-- body6 -->\n<g id=\"node7\" class=\"node\">\n<title>body6</title>\n<ellipse fill=\"none\" stroke=\"black\" cx=\"813\" cy=\"-57\" rx=\"135.68\" ry=\"18\"/>\n<text text-anchor=\"middle\" x=\"813\" y=\"-53.3\" font-family=\"Times,serif\" font-size=\"14.00\">gripper_finger2_finger_link</text>\n</g>\n<!-- body6&#45;&gt;body4 -->\n<g id=\"edge5\" class=\"edge\">\n<title>body6-&gt;body4</title>\n<path fill=\"none\" stroke=\"black\" d=\"M812.04,-75.2C812.3,-85.58 814.22,-98.58 821,-108 824.67,-113.1 829.32,-117.52 834.44,-121.33\"/>\n<polygon fill=\"black\" stroke=\"black\" points=\"832.54,-124.27 842.82,-126.83 836.38,-118.42 832.54,-124.27\"/>\n<text text-anchor=\"middle\" x=\"945\" y=\"-96.8\" font-family=\"Times,serif\" font-size=\"14.00\">gripper_finger2_finger_joint [weld]</text>\n</g>\n<!-- body7 -->\n<g id=\"node8\" class=\"node\">\n<title>body7</title>\n<ellipse fill=\"none\" stroke=\"black\" cx=\"553\" cy=\"-144\" rx=\"172.77\" ry=\"18\"/>\n<text text-anchor=\"middle\" x=\"553\" y=\"-140.3\" font-family=\"Times,serif\" font-size=\"14.00\">gripper_finger1_inner_knuckle_link</text>\n</g>\n<!-- body7&#45;&gt;body2 -->\n<g id=\"edge6\" class=\"edge\">\n<title>body7-&gt;body2</title>\n<path fill=\"none\" stroke=\"black\" d=\"M525.94,-161.98C513.82,-171.7 504.04,-184.09 513,-195 524.02,-208.43 558.84,-216.8 594.63,-221.97\"/>\n<polygon fill=\"black\" stroke=\"black\" points=\"594.35,-225.46 604.73,-223.34 595.29,-218.53 594.35,-225.46\"/>\n<text text-anchor=\"middle\" x=\"678.5\" y=\"-183.8\" font-family=\"Times,serif\" font-size=\"14.00\">gripper_finger1_inner_knuckle_joint [revolute]</text>\n</g>\n<!-- body8 -->\n<g id=\"node9\" class=\"node\">\n<title>body8</title>\n<ellipse fill=\"none\" stroke=\"black\" cx=\"189\" cy=\"-144\" rx=\"172.77\" ry=\"18\"/>\n<text text-anchor=\"middle\" x=\"189\" y=\"-140.3\" font-family=\"Times,serif\" font-size=\"14.00\">gripper_finger2_inner_knuckle_link</text>\n</g>\n<!-- body8&#45;&gt;body2 -->\n<g id=\"edge7\" class=\"edge\">\n<title>body8-&gt;body2</title>\n<path fill=\"none\" stroke=\"black\" d=\"M176.38,-162.2C170.21,-172.84 165.71,-186.13 174,-195 201.47,-224.4 443.78,-229.77 586.03,-230.36\"/>\n<polygon fill=\"black\" stroke=\"black\" points=\"586.08,-233.86 596.09,-230.4 586.11,-226.86 586.08,-233.86\"/>\n<text text-anchor=\"middle\" x=\"339.5\" y=\"-183.8\" font-family=\"Times,serif\" font-size=\"14.00\">gripper_finger2_inner_knuckle_joint [revolute]</text>\n</g>\n<!-- body9 -->\n<g id=\"node10\" class=\"node\">\n<title>body9</title>\n<ellipse fill=\"none\" stroke=\"black\" cx=\"498\" cy=\"-57\" rx=\"153.27\" ry=\"18\"/>\n<text text-anchor=\"middle\" x=\"498\" y=\"-53.3\" font-family=\"Times,serif\" font-size=\"14.00\">gripper_finger1_finger_tip_link</text>\n</g>\n<!-- body9&#45;&gt;body7 -->\n<g id=\"edge8\" class=\"edge\">\n<title>body9-&gt;body7</title>\n<path fill=\"none\" stroke=\"black\" d=\"M494.05,-75.22C492.65,-85.37 492.57,-98.11 498,-108 500.49,-112.53 503.84,-116.57 507.67,-120.13\"/>\n<polygon fill=\"black\" stroke=\"black\" points=\"505.53,-122.89 515.52,-126.41 509.9,-117.43 505.53,-122.89\"/>\n<text text-anchor=\"middle\" x=\"648\" y=\"-96.8\" font-family=\"Times,serif\" font-size=\"14.00\">gripper_finger1_finger_tip_joint [revolute]</text>\n</g>\n<!-- body10 -->\n<g id=\"node11\" class=\"node\">\n<title>body10</title>\n<ellipse fill=\"none\" stroke=\"black\" cx=\"173\" cy=\"-57\" rx=\"153.27\" ry=\"18\"/>\n<text text-anchor=\"middle\" x=\"173\" y=\"-53.3\" font-family=\"Times,serif\" font-size=\"14.00\">gripper_finger2_finger_tip_link</text>\n</g>\n<!-- body10&#45;&gt;body8 -->\n<g id=\"edge9\" class=\"edge\">\n<title>body10-&gt;body8</title>\n<path fill=\"none\" stroke=\"black\" d=\"M172.26,-75.3C172.2,-85.02 172.72,-97.29 175,-108 175.58,-110.73 176.36,-113.51 177.25,-116.27\"/>\n<polygon fill=\"black\" stroke=\"black\" points=\"174.07,-117.76 180.82,-125.92 180.63,-115.33 174.07,-117.76\"/>\n<text text-anchor=\"middle\" x=\"325\" y=\"-96.8\" font-family=\"Times,serif\" font-size=\"14.00\">gripper_finger2_finger_tip_joint [revolute]</text>\n</g>\n</g>\n</svg>"
     },
     "metadata": {},
     "output_type": "display_data"
    }
   ],
   "source": [
    "def kinematic_tree_example():\n",
    "    plant = MultibodyPlant(time_step=0.0)\n",
    "    parser = Parser(plant)\n",
    "    ConfigureParser(parser)\n",
    "    '''parser.AddModelsFromUrl(\n",
    "        \"package://drake/manipulation/models/allegro_hand_description/sdf/allegro_hand_description_right.sdf\"\n",
    "    )'''\n",
    "    '''parser.AddModelsFromUrl(\n",
    "        \"package://drake_models/atlas/robotiq_simple.urdf\"\n",
    "    )'''\n",
    "    '''parser.AddModelsFromUrl(\n",
    "            \"package://drake/manipulation/models/wsg_50_description/sdf/schunk_wsg_50_no_tip.sdf\"\n",
    "    )'''\n",
    "    '''parser.AddModelsFromUrl(\n",
    "        \"package://drake/examples/manipulation_station/models/061_foam_brick.sdf\"\n",
    "    )'''\n",
    "    #parser.AddModels(\"/home/dan/Projects/Pydrake-robotiq140/models/robotiq_arg2f_140_model.sdf\")\n",
    "    #parser.AddModels(\"/home/dan/Projects/Pydrake-robotiq140/models/robotiq_85_gripper_xuchenhan-tri.urdf\")\n",
    "    #parser.AddModels(\"/home/dan/Projects/Pydrake-robotiq140/models/robotiq.urdf\")\n",
    "    parser.AddModels(\"/home/dan/Projects/Pydrake-robotiq140/models/robotiq_85_gripper_standalone_welded_fingers.urdf\")\n",
    "    \n",
    "\n",
    "    \n",
    "    plant.Finalize()\n",
    "\n",
    "    # TODO(russt): Add floating base connections\n",
    "    # TODO(russt): Consider a more interactive javascript rendering?\n",
    "    display(\n",
    "        SVG(\n",
    "            pydot.graph_from_dot_data(plant.GetTopologyGraphvizString())[0].create_svg()\n",
    "        )\n",
    "    )\n",
    "\n",
    "\n",
    "kinematic_tree_example()"
   ],
   "metadata": {
    "collapsed": false,
    "ExecuteTime": {
     "end_time": "2024-04-25T08:58:23.970554Z",
     "start_time": "2024-04-25T08:58:23.863764Z"
    }
   },
   "execution_count": 4
  },
  {
   "cell_type": "code",
   "outputs": [],
   "source": [],
   "metadata": {
    "collapsed": false
   }
  },
  {
   "cell_type": "markdown",
   "source": [
    "<a style='text-decoration:none;line-height:16px;display:flex;color:#5B5B62;padding:10px;justify-content:end;' href='https://deepnote.com?utm_source=created-in-deepnote-cell&projectId=f0b1cabc-34db-4d1b-ba7e-872ed2fe3b85' target=\"_blank\">\n",
    "<img alt='Created in deepnote.com' style='display:inline;max-height:16px;margin:0px;margin-right:7.5px;' src='data:image/svg+xml;base64,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' > </img>\n",
    "Created in <span style='font-weight:600;margin-left:4px;'>Deepnote</span></a>"
   ],
   "metadata": {
    "created_in_deepnote_cell": true,
    "deepnote_cell_type": "markdown"
   }
  }
 ],
 "nbformat": 4,
 "nbformat_minor": 0,
 "metadata": {
  "deepnote_notebook_id": "9c44fec83ca54c70827b3f592c2c958a",
  "deepnote_execution_queue": [],
  "kernelspec": {
   "name": "pydrake-robotiq140",
   "language": "python",
   "display_name": "Python (Pydrake-robotiq140)"
  }
 }
}
