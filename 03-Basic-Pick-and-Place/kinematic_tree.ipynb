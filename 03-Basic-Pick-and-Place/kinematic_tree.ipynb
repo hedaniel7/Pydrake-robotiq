{
 "cells": [
  {
   "cell_type": "markdown",
   "metadata": {
    "id": "EgiF12Hf1Dhs",
    "colab_type": "text",
    "cell_id": "4c1228d114de4758ade60bcb9d38a55d",
    "deepnote_cell_type": "markdown"
   },
   "source": [
    "This notebook provides examples to go along with the [textbook](http://manipulation.csail.mit.edu/pick.html).  I recommend having both windows open, side-by-side!"
   ],
   "block_group": "5f0a8ed9fe114e9d88efbec8df0e8f4e"
  },
  {
   "cell_type": "code",
   "outputs": [],
   "source": [
    "import pydot\n",
    "from IPython.display import SVG, display\n",
    "from pydrake.all import MultibodyPlant, Parser\n",
    "\n",
    "from manipulation.utils import ConfigureParser"
   ],
   "metadata": {
    "collapsed": false,
    "ExecuteTime": {
     "end_time": "2024-03-26T14:55:09.413568Z",
     "start_time": "2024-03-26T14:55:08.854540Z"
    }
   },
   "execution_count": 2
  },
  {
   "cell_type": "markdown",
   "source": [
    "# Inspecting the kinematic tree\n",
    "\n",
    "Here is a simple example that demonstrates how to inspect the kinematic tree stored in a `MultibodyPlant`."
   ],
   "metadata": {
    "collapsed": false
   }
  },
  {
   "cell_type": "code",
   "outputs": [
    {
     "name": "stderr",
     "output_type": "stream",
     "text": [
      "WARNING:drake:/home/dan/Projects/Pydrake-robotiq140/models/robotiq.urdf:30: warning: While parsing inertia matrix: MakeFromMomentsAndProductsOfInertia(): The rotational inertia\n",
      "[  0.01  -2e-05   1e-05]\n",
      "[-2e-05  0.0008       0]\n",
      "[ 1e-05       0   0.001]\n",
      "did not pass the test CouldBePhysicallyValid().\n",
      "The associated principal moments of inertia:\n",
      "0.0007999565195820727  0.0009999888913713219  0.010000054589046611\n",
      "do not satisfy the triangle inequality.\n",
      "WARNING:drake:/home/dan/Projects/Pydrake-robotiq140/models/robotiq.urdf:50: warning: While parsing inertia matrix: MakeFromMomentsAndProductsOfInertia(): The rotational inertia\n",
      "[ 0.001859  -0.000376    2.8e-05]\n",
      "[-0.000376   0.012756          0]\n",
      "[  2.8e-05          0     0.0024]\n",
      "did not pass the test CouldBePhysicallyValid().\n",
      "The associated principal moments of inertia:\n",
      "0.0018446315628896017  0.0024014099112404127  0.012768958525869987\n",
      "do not satisfy the triangle inequality.\n",
      "WARNING:drake:/home/dan/Projects/Pydrake-robotiq140/models/robotiq.urdf:75: warning: While parsing inertia matrix: MakeFromMomentsAndProductsOfInertia(): The rotational inertia\n",
      "[ 0.001859  -0.000376    2.8e-05]\n",
      "[-0.000376   0.012756          0]\n",
      "[  2.8e-05          0     0.0024]\n",
      "did not pass the test CouldBePhysicallyValid().\n",
      "The associated principal moments of inertia:\n",
      "0.0018446315628896017  0.0024014099112404127  0.012768958525869987\n",
      "do not satisfy the triangle inequality.\n",
      "WARNING:drake:/home/dan/Projects/Pydrake-robotiq140/models/robotiq.urdf:344: warning: While parsing inertia matrix: MakeFromMomentsAndProductsOfInertia(): The rotational inertia\n",
      "[  0.01  -2e-05   1e-05]\n",
      "[-2e-05  0.0008       0]\n",
      "[ 1e-05       0   0.001]\n",
      "did not pass the test CouldBePhysicallyValid().\n",
      "The associated principal moments of inertia:\n",
      "0.0007999565195820727  0.0009999888913713219  0.010000054589046611\n",
      "do not satisfy the triangle inequality.\n",
      "WARNING:drake:/home/dan/Projects/Pydrake-robotiq140/models/robotiq.urdf:364: warning: While parsing inertia matrix: MakeFromMomentsAndProductsOfInertia(): The rotational inertia\n",
      "[ 0.001859  -0.000376    2.8e-05]\n",
      "[-0.000376   0.012756          0]\n",
      "[  2.8e-05          0     0.0024]\n",
      "did not pass the test CouldBePhysicallyValid().\n",
      "The associated principal moments of inertia:\n",
      "0.0018446315628896017  0.0024014099112404127  0.012768958525869987\n",
      "do not satisfy the triangle inequality.\n",
      "WARNING:drake:/home/dan/Projects/Pydrake-robotiq140/models/robotiq.urdf:389: warning: While parsing inertia matrix: MakeFromMomentsAndProductsOfInertia(): The rotational inertia\n",
      "[ 0.001859  -0.000376    2.8e-05]\n",
      "[-0.000376   0.012756          0]\n",
      "[  2.8e-05          0     0.0024]\n",
      "did not pass the test CouldBePhysicallyValid().\n",
      "The associated principal moments of inertia:\n",
      "0.0018446315628896017  0.0024014099112404127  0.012768958525869987\n",
      "do not satisfy the triangle inequality.\n",
      "WARNING:drake:/home/dan/Projects/Pydrake-robotiq140/models/robotiq.urdf:658: warning: While parsing inertia matrix: MakeFromMomentsAndProductsOfInertia(): The rotational inertia\n",
      "[  0.01  -2e-05   1e-05]\n",
      "[-2e-05  0.0008       0]\n",
      "[ 1e-05       0   0.001]\n",
      "did not pass the test CouldBePhysicallyValid().\n",
      "The associated principal moments of inertia:\n",
      "0.0007999565195820727  0.0009999888913713219  0.010000054589046611\n",
      "do not satisfy the triangle inequality.\n",
      "WARNING:drake:/home/dan/Projects/Pydrake-robotiq140/models/robotiq.urdf:678: warning: While parsing inertia matrix: MakeFromMomentsAndProductsOfInertia(): The rotational inertia\n",
      "[ 0.001859  -0.000376    2.8e-05]\n",
      "[-0.000376   0.012756          0]\n",
      "[  2.8e-05          0     0.0024]\n",
      "did not pass the test CouldBePhysicallyValid().\n",
      "The associated principal moments of inertia:\n",
      "0.0018446315628896017  0.0024014099112404127  0.012768958525869987\n",
      "do not satisfy the triangle inequality.\n",
      "WARNING:drake:/home/dan/Projects/Pydrake-robotiq140/models/robotiq.urdf:703: warning: While parsing inertia matrix: MakeFromMomentsAndProductsOfInertia(): The rotational inertia\n",
      "[ 0.001859  -0.000376    2.8e-05]\n",
      "[-0.000376   0.012756          0]\n",
      "[  2.8e-05          0     0.0024]\n",
      "did not pass the test CouldBePhysicallyValid().\n",
      "The associated principal moments of inertia:\n",
      "0.0018446315628896017  0.0024014099112404127  0.012768958525869987\n",
      "do not satisfy the triangle inequality.\n",
      "WARNING:drake:/home/dan/Projects/Pydrake-robotiq140/models/robotiq.urdf:968: warning: While parsing inertia matrix: MakeFromMomentsAndProductsOfInertia(): The rotational inertia\n",
      "[0.006012   7.9e-05  -0.00024]\n",
      "[ 7.9e-05  0.012892         0]\n",
      "[-0.00024         0  0.002435]\n",
      "did not pass the test CouldBePhysicallyValid().\n",
      "The associated principal moments of inertia:\n",
      "0.002418966319335427  0.006027125951651158  0.012892907729013421\n",
      "do not satisfy the triangle inequality.\n"
     ]
    },
    {
     "data": {
      "text/plain": "<IPython.core.display.SVG object>",
      "image/svg+xml": "<svg xmlns=\"http://www.w3.org/2000/svg\" xmlns:xlink=\"http://www.w3.org/1999/xlink\" width=\"2630pt\" height=\"642pt\" viewBox=\"0.00 0.00 2630.00 642.00\">\n<g id=\"graph0\" class=\"graph\" transform=\"scale(1 1) rotate(0) translate(4 638)\">\n<title>MultibodyPlant</title>\n<polygon fill=\"white\" stroke=\"transparent\" points=\"-4,4 -4,-638 2626,-638 2626,4 -4,4\"/>\n<g id=\"clust1\" class=\"cluster\">\n<title>cluster0</title>\n<polygon fill=\"none\" stroke=\"black\" points=\"1331,-551 1331,-626 1495,-626 1495,-551 1331,-551\"/>\n<text text-anchor=\"middle\" x=\"1413\" y=\"-558.8\" font-family=\"Times,serif\" font-size=\"14.00\">WorldModelInstance</text>\n</g>\n<g id=\"clust3\" class=\"cluster\">\n<title>cluster2</title>\n<polygon fill=\"none\" stroke=\"black\" points=\"8,-8 8,-518 2614,-518 2614,-8 8,-8\"/>\n<text text-anchor=\"middle\" x=\"1311\" y=\"-15.8\" font-family=\"Times,serif\" font-size=\"14.00\">s-model_articulated</text>\n</g>\n<!-- body0 -->\n<g id=\"node1\" class=\"node\">\n<title>body0</title>\n<ellipse fill=\"none\" stroke=\"black\" cx=\"1413\" cy=\"-600\" rx=\"37.09\" ry=\"18\"/>\n<text text-anchor=\"middle\" x=\"1413\" y=\"-596.3\" font-family=\"Times,serif\" font-size=\"14.00\">world</text>\n</g>\n<!-- body1 -->\n<g id=\"node2\" class=\"node\">\n<title>body1</title>\n<ellipse fill=\"none\" stroke=\"black\" cx=\"1851\" cy=\"-405\" rx=\"79.89\" ry=\"18\"/>\n<text text-anchor=\"middle\" x=\"1851\" y=\"-401.3\" font-family=\"Times,serif\" font-size=\"14.00\">finger_1_link_0</text>\n</g>\n<!-- body34 -->\n<g id=\"node35\" class=\"node\">\n<title>body34</title>\n<ellipse fill=\"none\" stroke=\"black\" cx=\"1413\" cy=\"-492\" rx=\"33.6\" ry=\"18\"/>\n<text text-anchor=\"middle\" x=\"1413\" y=\"-488.3\" font-family=\"Times,serif\" font-size=\"14.00\">palm</text>\n</g>\n<!-- body1&#45;&gt;body34 -->\n<g id=\"edge31\" class=\"edge\">\n<title>body1-&gt;body34</title>\n<path fill=\"none\" stroke=\"black\" d=\"M1794.39,-417.84C1744.58,-428.19 1670.05,-443.46 1605,-456 1553.23,-465.98 1493.47,-476.76 1454.55,-483.68\"/>\n<polygon fill=\"black\" stroke=\"black\" points=\"1453.87,-480.24 1444.63,-485.44 1455.09,-487.13 1453.87,-480.24\"/>\n<text text-anchor=\"middle\" x=\"1773\" y=\"-444.8\" font-family=\"Times,serif\" font-size=\"14.00\">palm_finger_1_joint [weld]</text>\n</g>\n<!-- body2 -->\n<g id=\"node3\" class=\"node\">\n<title>body2</title>\n<ellipse fill=\"none\" stroke=\"black\" cx=\"1851\" cy=\"-318\" rx=\"79.89\" ry=\"18\"/>\n<text text-anchor=\"middle\" x=\"1851\" y=\"-314.3\" font-family=\"Times,serif\" font-size=\"14.00\">finger_1_link_1</text>\n</g>\n<!-- body2&#45;&gt;body1 -->\n<g id=\"edge1\" class=\"edge\">\n<title>body2-&gt;body1</title>\n<path fill=\"none\" stroke=\"black\" d=\"M1851,-336.2C1851,-347.84 1851,-363.45 1851,-376.76\"/>\n<polygon fill=\"black\" stroke=\"black\" points=\"1847.5,-376.82 1851,-386.82 1854.5,-376.82 1847.5,-376.82\"/>\n<text text-anchor=\"middle\" x=\"1944.5\" y=\"-357.8\" font-family=\"Times,serif\" font-size=\"14.00\">finger_1_joint_0 [revolute]</text>\n</g>\n<!-- body3 -->\n<g id=\"node4\" class=\"node\">\n<title>body3</title>\n<ellipse fill=\"none\" stroke=\"black\" cx=\"2133\" cy=\"-231\" rx=\"79.89\" ry=\"18\"/>\n<text text-anchor=\"middle\" x=\"2133\" y=\"-227.3\" font-family=\"Times,serif\" font-size=\"14.00\">finger_1_link_2</text>\n</g>\n<!-- body3&#45;&gt;body2 -->\n<g id=\"edge2\" class=\"edge\">\n<title>body3-&gt;body2</title>\n<path fill=\"none\" stroke=\"black\" d=\"M2129.95,-249.06C2127.03,-260.22 2121.46,-274.13 2111,-282 2084.57,-301.88 2004.45,-310.47 1940.07,-314.18\"/>\n<polygon fill=\"black\" stroke=\"black\" points=\"1939.67,-310.7 1929.88,-314.74 1940.05,-317.69 1939.67,-310.7\"/>\n<text text-anchor=\"middle\" x=\"2215.5\" y=\"-270.8\" font-family=\"Times,serif\" font-size=\"14.00\">finger_1_joint_1 [revolute]</text>\n</g>\n<!-- body4 -->\n<g id=\"node5\" class=\"node\">\n<title>body4</title>\n<ellipse fill=\"none\" stroke=\"black\" cx=\"2087\" cy=\"-144\" rx=\"79.89\" ry=\"18\"/>\n<text text-anchor=\"middle\" x=\"2087\" y=\"-140.3\" font-family=\"Times,serif\" font-size=\"14.00\">finger_1_link_3</text>\n</g>\n<!-- body4&#45;&gt;body3 -->\n<g id=\"edge3\" class=\"edge\">\n<title>body4-&gt;body3</title>\n<path fill=\"none\" stroke=\"black\" d=\"M2099.62,-162.04C2103.5,-167.62 2107.63,-173.95 2111,-180 2115.15,-187.46 2119.1,-195.85 2122.48,-203.6\"/>\n<polygon fill=\"black\" stroke=\"black\" points=\"2119.31,-205.1 2126.43,-212.96 2125.76,-202.38 2119.31,-205.1\"/>\n<text text-anchor=\"middle\" x=\"2211.5\" y=\"-183.8\" font-family=\"Times,serif\" font-size=\"14.00\">finger_1_joint_2 [revolute]</text>\n</g>\n<!-- body5 -->\n<g id=\"node6\" class=\"node\">\n<title>body5</title>\n<ellipse fill=\"none\" stroke=\"black\" cx=\"2212\" cy=\"-318\" rx=\"129.18\" ry=\"18\"/>\n<text text-anchor=\"middle\" x=\"2212\" y=\"-314.3\" font-family=\"Times,serif\" font-size=\"14.00\">finger_1_fourbar_0_link_1</text>\n</g>\n<!-- body5&#45;&gt;body1 -->\n<g id=\"edge4\" class=\"edge\">\n<title>body5-&gt;body1</title>\n<path fill=\"none\" stroke=\"black\" d=\"M2163.63,-334.7C2129.81,-345.31 2083.45,-359.14 2042,-369 2003.64,-378.13 1960.47,-386.22 1924.88,-392.32\"/>\n<polygon fill=\"black\" stroke=\"black\" points=\"1923.85,-388.94 1914.58,-394.07 1925.02,-395.85 1923.85,-388.94\"/>\n<text text-anchor=\"middle\" x=\"2229.5\" y=\"-357.8\" font-family=\"Times,serif\" font-size=\"14.00\">finger_1_fourbar_0_joint_0 [revolute]</text>\n</g>\n<!-- body6 -->\n<g id=\"node7\" class=\"node\">\n<title>body6</title>\n<ellipse fill=\"none\" stroke=\"black\" cx=\"2360\" cy=\"-231\" rx=\"129.18\" ry=\"18\"/>\n<text text-anchor=\"middle\" x=\"2360\" y=\"-227.3\" font-family=\"Times,serif\" font-size=\"14.00\">finger_1_fourbar_0_link_2</text>\n</g>\n<!-- body6&#45;&gt;body5 -->\n<g id=\"edge5\" class=\"edge\">\n<title>body6-&gt;body5</title>\n<path fill=\"none\" stroke=\"black\" d=\"M2350.42,-249.01C2343.52,-259.85 2333.28,-273.43 2321,-282 2311.13,-288.89 2299.84,-294.48 2288.34,-298.99\"/>\n<polygon fill=\"black\" stroke=\"black\" points=\"2286.84,-295.81 2278.66,-302.54 2289.25,-302.39 2286.84,-295.81\"/>\n<text text-anchor=\"middle\" x=\"2467.5\" y=\"-270.8\" font-family=\"Times,serif\" font-size=\"14.00\">finger_1_fourbar_0_joint_1 [revolute]</text>\n</g>\n<!-- body7 -->\n<g id=\"node8\" class=\"node\">\n<title>body7</title>\n<ellipse fill=\"none\" stroke=\"black\" cx=\"1845\" cy=\"-231\" rx=\"129.18\" ry=\"18\"/>\n<text text-anchor=\"middle\" x=\"1845\" y=\"-227.3\" font-family=\"Times,serif\" font-size=\"14.00\">finger_1_fourbar_0_link_3</text>\n</g>\n<!-- body7&#45;&gt;body2 -->\n<g id=\"edge6\" class=\"edge\">\n<title>body7-&gt;body2</title>\n<path fill=\"none\" stroke=\"black\" d=\"M1845.92,-249.13C1846.46,-258.79 1847.2,-271.07 1848,-282 1848.19,-284.55 1848.39,-287.21 1848.61,-289.87\"/>\n<polygon fill=\"black\" stroke=\"black\" points=\"1845.12,-290.24 1849.45,-299.92 1852.1,-289.66 1845.12,-290.24\"/>\n<text text-anchor=\"middle\" x=\"1979.5\" y=\"-270.8\" font-family=\"Times,serif\" font-size=\"14.00\">finger_1_fourbar_0_joint_2 [revolute]</text>\n</g>\n<!-- body8 -->\n<g id=\"node9\" class=\"node\">\n<title>body8</title>\n<ellipse fill=\"none\" stroke=\"black\" cx=\"2343\" cy=\"-144\" rx=\"129.18\" ry=\"18\"/>\n<text text-anchor=\"middle\" x=\"2343\" y=\"-140.3\" font-family=\"Times,serif\" font-size=\"14.00\">finger_1_fourbar_3_link_1</text>\n</g>\n<!-- body8&#45;&gt;body3 -->\n<g id=\"edge7\" class=\"edge\">\n<title>body8-&gt;body3</title>\n<path fill=\"none\" stroke=\"black\" d=\"M2335.69,-161.98C2330.01,-173.1 2321.08,-187 2309,-195 2307.81,-195.79 2250.41,-207.12 2201.49,-216.68\"/>\n<polygon fill=\"black\" stroke=\"black\" points=\"2200.66,-213.28 2191.52,-218.63 2202,-220.15 2200.66,-213.28\"/>\n<text text-anchor=\"middle\" x=\"2455.5\" y=\"-183.8\" font-family=\"Times,serif\" font-size=\"14.00\">finger_1_fourbar_3_joint_0 [revolute]</text>\n</g>\n<!-- body9 -->\n<g id=\"node10\" class=\"node\">\n<title>body9</title>\n<ellipse fill=\"none\" stroke=\"black\" cx=\"2343\" cy=\"-57\" rx=\"129.18\" ry=\"18\"/>\n<text text-anchor=\"middle\" x=\"2343\" y=\"-53.3\" font-family=\"Times,serif\" font-size=\"14.00\">finger_1_fourbar_3_link_2</text>\n</g>\n<!-- body9&#45;&gt;body8 -->\n<g id=\"edge8\" class=\"edge\">\n<title>body9-&gt;body8</title>\n<path fill=\"none\" stroke=\"black\" d=\"M2343,-75.2C2343,-86.84 2343,-102.45 2343,-115.76\"/>\n<polygon fill=\"black\" stroke=\"black\" points=\"2339.5,-115.82 2343,-125.82 2346.5,-115.82 2339.5,-115.82\"/>\n<text text-anchor=\"middle\" x=\"2474.5\" y=\"-96.8\" font-family=\"Times,serif\" font-size=\"14.00\">finger_1_fourbar_3_joint_1 [revolute]</text>\n</g>\n<!-- body10 -->\n<g id=\"node11\" class=\"node\">\n<title>body10</title>\n<ellipse fill=\"none\" stroke=\"black\" cx=\"2057\" cy=\"-57\" rx=\"129.18\" ry=\"18\"/>\n<text text-anchor=\"middle\" x=\"2057\" y=\"-53.3\" font-family=\"Times,serif\" font-size=\"14.00\">finger_1_fourbar_3_link_3</text>\n</g>\n<!-- body10&#45;&gt;body4 -->\n<g id=\"edge9\" class=\"edge\">\n<title>body10-&gt;body4</title>\n<path fill=\"none\" stroke=\"black\" d=\"M2063.07,-75.2C2067.22,-86.95 2072.8,-102.76 2077.53,-116.16\"/>\n<polygon fill=\"black\" stroke=\"black\" points=\"2074.31,-117.56 2080.94,-125.82 2080.91,-115.23 2074.31,-117.56\"/>\n<text text-anchor=\"middle\" x=\"2204.5\" y=\"-96.8\" font-family=\"Times,serif\" font-size=\"14.00\">finger_1_fourbar_3_joint_2 [revolute]</text>\n</g>\n<!-- body11 -->\n<g id=\"node12\" class=\"node\">\n<title>body11</title>\n<ellipse fill=\"none\" stroke=\"black\" cx=\"1804\" cy=\"-144\" rx=\"125.38\" ry=\"18\"/>\n<text text-anchor=\"middle\" x=\"1804\" y=\"-140.3\" font-family=\"Times,serif\" font-size=\"14.00\">finger_1_fourbar_linkage</text>\n</g>\n<!-- body11&#45;&gt;body7 -->\n<g id=\"edge10\" class=\"edge\">\n<title>body11-&gt;body7</title>\n<path fill=\"none\" stroke=\"black\" d=\"M1800.98,-162.44C1800.06,-172.43 1800.31,-184.93 1805,-195 1806.84,-198.95 1809.37,-202.64 1812.26,-206.02\"/>\n<polygon fill=\"black\" stroke=\"black\" points=\"1810,-208.71 1819.53,-213.35 1814.97,-203.78 1810,-208.71\"/>\n<text text-anchor=\"middle\" x=\"1958\" y=\"-183.8\" font-family=\"Times,serif\" font-size=\"14.00\">finger_1_fourbar_linkage_joint_0 [revolute]</text>\n</g>\n<!-- body12 -->\n<g id=\"node13\" class=\"node\">\n<title>body12</title>\n<ellipse fill=\"none\" stroke=\"black\" cx=\"1413\" cy=\"-405\" rx=\"79.89\" ry=\"18\"/>\n<text text-anchor=\"middle\" x=\"1413\" y=\"-401.3\" font-family=\"Times,serif\" font-size=\"14.00\">finger_2_link_0</text>\n</g>\n<!-- body12&#45;&gt;body34 -->\n<g id=\"edge32\" class=\"edge\">\n<title>body12-&gt;body34</title>\n<path fill=\"none\" stroke=\"black\" d=\"M1413,-423.2C1413,-434.84 1413,-450.45 1413,-463.76\"/>\n<polygon fill=\"black\" stroke=\"black\" points=\"1409.5,-463.82 1413,-473.82 1416.5,-463.82 1409.5,-463.82\"/>\n<text text-anchor=\"middle\" x=\"1507\" y=\"-444.8\" font-family=\"Times,serif\" font-size=\"14.00\">palm_finger_2_joint [weld]</text>\n</g>\n<!-- body13 -->\n<g id=\"node14\" class=\"node\">\n<title>body13</title>\n<ellipse fill=\"none\" stroke=\"black\" cx=\"1334\" cy=\"-318\" rx=\"79.89\" ry=\"18\"/>\n<text text-anchor=\"middle\" x=\"1334\" y=\"-314.3\" font-family=\"Times,serif\" font-size=\"14.00\">finger_2_link_1</text>\n</g>\n<!-- body13&#45;&gt;body12 -->\n<g id=\"edge11\" class=\"edge\">\n<title>body13-&gt;body12</title>\n<path fill=\"none\" stroke=\"black\" d=\"M1335.44,-336.29C1337.08,-346.71 1340.56,-359.71 1348,-369 1352.62,-374.78 1358.47,-379.73 1364.75,-383.94\"/>\n<polygon fill=\"black\" stroke=\"black\" points=\"1363.14,-387.05 1373.51,-389.22 1366.75,-381.06 1363.14,-387.05\"/>\n<text text-anchor=\"middle\" x=\"1441.5\" y=\"-357.8\" font-family=\"Times,serif\" font-size=\"14.00\">finger_2_joint_0 [revolute]</text>\n</g>\n<!-- body14 -->\n<g id=\"node15\" class=\"node\">\n<title>body14</title>\n<ellipse fill=\"none\" stroke=\"black\" cx=\"1338\" cy=\"-231\" rx=\"79.89\" ry=\"18\"/>\n<text text-anchor=\"middle\" x=\"1338\" y=\"-227.3\" font-family=\"Times,serif\" font-size=\"14.00\">finger_2_link_2</text>\n</g>\n<!-- body14&#45;&gt;body13 -->\n<g id=\"edge12\" class=\"edge\">\n<title>body14-&gt;body13</title>\n<path fill=\"none\" stroke=\"black\" d=\"M1337.19,-249.2C1336.64,-260.84 1335.91,-276.45 1335.28,-289.76\"/>\n<polygon fill=\"black\" stroke=\"black\" points=\"1331.78,-289.67 1334.81,-299.82 1338.77,-290 1331.78,-289.67\"/>\n<text text-anchor=\"middle\" x=\"1429.5\" y=\"-270.8\" font-family=\"Times,serif\" font-size=\"14.00\">finger_2_joint_1 [revolute]</text>\n</g>\n<!-- body15 -->\n<g id=\"node16\" class=\"node\">\n<title>body15</title>\n<ellipse fill=\"none\" stroke=\"black\" cx=\"1269\" cy=\"-144\" rx=\"79.89\" ry=\"18\"/>\n<text text-anchor=\"middle\" x=\"1269\" y=\"-140.3\" font-family=\"Times,serif\" font-size=\"14.00\">finger_2_link_3</text>\n</g>\n<!-- body15&#45;&gt;body14 -->\n<g id=\"edge13\" class=\"edge\">\n<title>body15-&gt;body14</title>\n<path fill=\"none\" stroke=\"black\" d=\"M1282.63,-162.18C1290.33,-171.86 1300.16,-184.14 1309,-195 1311.69,-198.3 1314.54,-201.77 1317.35,-205.19\"/>\n<polygon fill=\"black\" stroke=\"black\" points=\"1314.71,-207.48 1323.78,-212.96 1320.1,-203.02 1314.71,-207.48\"/>\n<text text-anchor=\"middle\" x=\"1402.5\" y=\"-183.8\" font-family=\"Times,serif\" font-size=\"14.00\">finger_2_joint_2 [revolute]</text>\n</g>\n<!-- body16 -->\n<g id=\"node17\" class=\"node\">\n<title>body16</title>\n<ellipse fill=\"none\" stroke=\"black\" cx=\"1561\" cy=\"-318\" rx=\"129.18\" ry=\"18\"/>\n<text text-anchor=\"middle\" x=\"1561\" y=\"-314.3\" font-family=\"Times,serif\" font-size=\"14.00\">finger_2_fourbar_0_link_1</text>\n</g>\n<!-- body16&#45;&gt;body12 -->\n<g id=\"edge14\" class=\"edge\">\n<title>body16-&gt;body12</title>\n<path fill=\"none\" stroke=\"black\" d=\"M1556.01,-336.11C1552,-346.99 1545.3,-360.58 1535,-369 1522.07,-379.57 1506.11,-386.95 1490.04,-392.1\"/>\n<polygon fill=\"black\" stroke=\"black\" points=\"1488.66,-388.85 1480.05,-395.02 1490.63,-395.57 1488.66,-388.85\"/>\n<text text-anchor=\"middle\" x=\"1677.5\" y=\"-357.8\" font-family=\"Times,serif\" font-size=\"14.00\">finger_2_fourbar_0_joint_0 [revolute]</text>\n</g>\n<!-- body17 -->\n<g id=\"node18\" class=\"node\">\n<title>body17</title>\n<ellipse fill=\"none\" stroke=\"black\" cx=\"1565\" cy=\"-231\" rx=\"129.18\" ry=\"18\"/>\n<text text-anchor=\"middle\" x=\"1565\" y=\"-227.3\" font-family=\"Times,serif\" font-size=\"14.00\">finger_2_fourbar_0_link_2</text>\n</g>\n<!-- body17&#45;&gt;body16 -->\n<g id=\"edge15\" class=\"edge\">\n<title>body17-&gt;body16</title>\n<path fill=\"none\" stroke=\"black\" d=\"M1563.31,-249.07C1562.81,-254.77 1562.31,-261.15 1562,-267 1561.61,-274.34 1561.37,-282.29 1561.22,-289.65\"/>\n<polygon fill=\"black\" stroke=\"black\" points=\"1557.72,-289.81 1561.07,-299.87 1564.72,-289.92 1557.72,-289.81\"/>\n<text text-anchor=\"middle\" x=\"1693.5\" y=\"-270.8\" font-family=\"Times,serif\" font-size=\"14.00\">finger_2_fourbar_0_joint_1 [revolute]</text>\n</g>\n<!-- body18 -->\n<g id=\"node19\" class=\"node\">\n<title>body18</title>\n<ellipse fill=\"none\" stroke=\"black\" cx=\"1053\" cy=\"-231\" rx=\"129.18\" ry=\"18\"/>\n<text text-anchor=\"middle\" x=\"1053\" y=\"-227.3\" font-family=\"Times,serif\" font-size=\"14.00\">finger_2_fourbar_0_link_3</text>\n</g>\n<!-- body18&#45;&gt;body13 -->\n<g id=\"edge16\" class=\"edge\">\n<title>body18-&gt;body13</title>\n<path fill=\"none\" stroke=\"black\" d=\"M1053.61,-249.39C1054.97,-260.4 1058.61,-274.01 1068,-282 1094.02,-304.15 1177.59,-312.4 1244.19,-315.42\"/>\n<polygon fill=\"black\" stroke=\"black\" points=\"1244.17,-318.92 1254.31,-315.84 1244.46,-311.93 1244.17,-318.92\"/>\n<text text-anchor=\"middle\" x=\"1199.5\" y=\"-270.8\" font-family=\"Times,serif\" font-size=\"14.00\">finger_2_fourbar_0_joint_2 [revolute]</text>\n</g>\n<!-- body19 -->\n<g id=\"node20\" class=\"node\">\n<title>body19</title>\n<ellipse fill=\"none\" stroke=\"black\" cx=\"1525\" cy=\"-144\" rx=\"129.18\" ry=\"18\"/>\n<text text-anchor=\"middle\" x=\"1525\" y=\"-140.3\" font-family=\"Times,serif\" font-size=\"14.00\">finger_2_fourbar_3_link_1</text>\n</g>\n<!-- body19&#45;&gt;body14 -->\n<g id=\"edge17\" class=\"edge\">\n<title>body19-&gt;body14</title>\n<path fill=\"none\" stroke=\"black\" d=\"M1519.12,-162.35C1514.51,-173.33 1507.01,-186.94 1496,-195 1492.09,-197.86 1446.52,-207.8 1405.32,-216.36\"/>\n<polygon fill=\"black\" stroke=\"black\" points=\"1404.6,-212.93 1395.52,-218.39 1406.02,-219.79 1404.6,-212.93\"/>\n<text text-anchor=\"middle\" x=\"1640.5\" y=\"-183.8\" font-family=\"Times,serif\" font-size=\"14.00\">finger_2_fourbar_3_joint_0 [revolute]</text>\n</g>\n<!-- body20 -->\n<g id=\"node21\" class=\"node\">\n<title>body20</title>\n<ellipse fill=\"none\" stroke=\"black\" cx=\"1540\" cy=\"-57\" rx=\"129.18\" ry=\"18\"/>\n<text text-anchor=\"middle\" x=\"1540\" y=\"-53.3\" font-family=\"Times,serif\" font-size=\"14.00\">finger_2_fourbar_3_link_2</text>\n</g>\n<!-- body20&#45;&gt;body19 -->\n<g id=\"edge18\" class=\"edge\">\n<title>body20-&gt;body19</title>\n<path fill=\"none\" stroke=\"black\" d=\"M1536.96,-75.2C1534.91,-86.84 1532.16,-102.45 1529.81,-115.76\"/>\n<polygon fill=\"black\" stroke=\"black\" points=\"1526.32,-115.37 1528.03,-125.82 1533.22,-116.59 1526.32,-115.37\"/>\n<text text-anchor=\"middle\" x=\"1664.5\" y=\"-96.8\" font-family=\"Times,serif\" font-size=\"14.00\">finger_2_fourbar_3_joint_1 [revolute]</text>\n</g>\n<!-- body21 -->\n<g id=\"node22\" class=\"node\">\n<title>body21</title>\n<ellipse fill=\"none\" stroke=\"black\" cx=\"1254\" cy=\"-57\" rx=\"129.18\" ry=\"18\"/>\n<text text-anchor=\"middle\" x=\"1254\" y=\"-53.3\" font-family=\"Times,serif\" font-size=\"14.00\">finger_2_fourbar_3_link_3</text>\n</g>\n<!-- body21&#45;&gt;body15 -->\n<g id=\"edge19\" class=\"edge\">\n<title>body21-&gt;body15</title>\n<path fill=\"none\" stroke=\"black\" d=\"M1257.04,-75.2C1259.09,-86.84 1261.84,-102.45 1264.19,-115.76\"/>\n<polygon fill=\"black\" stroke=\"black\" points=\"1260.78,-116.59 1265.97,-125.82 1267.68,-115.37 1260.78,-116.59\"/>\n<text text-anchor=\"middle\" x=\"1393.5\" y=\"-96.8\" font-family=\"Times,serif\" font-size=\"14.00\">finger_2_fourbar_3_joint_2 [revolute]</text>\n</g>\n<!-- body22 -->\n<g id=\"node23\" class=\"node\">\n<title>body22</title>\n<ellipse fill=\"none\" stroke=\"black\" cx=\"1020\" cy=\"-144\" rx=\"125.38\" ry=\"18\"/>\n<text text-anchor=\"middle\" x=\"1020\" y=\"-140.3\" font-family=\"Times,serif\" font-size=\"14.00\">finger_2_fourbar_linkage</text>\n</g>\n<!-- body22&#45;&gt;body18 -->\n<g id=\"edge20\" class=\"edge\">\n<title>body22-&gt;body18</title>\n<path fill=\"none\" stroke=\"black\" d=\"M993.48,-161.64C981.96,-171.04 972.6,-183.24 980,-195 983.39,-200.39 987.87,-204.96 992.94,-208.84\"/>\n<polygon fill=\"black\" stroke=\"black\" points=\"991.05,-211.79 1001.32,-214.39 994.91,-205.96 991.05,-211.79\"/>\n<text text-anchor=\"middle\" x=\"1133\" y=\"-183.8\" font-family=\"Times,serif\" font-size=\"14.00\">finger_2_fourbar_linkage_joint_0 [revolute]</text>\n</g>\n<!-- body23 -->\n<g id=\"node24\" class=\"node\">\n<title>body23</title>\n<ellipse fill=\"none\" stroke=\"black\" cx=\"741\" cy=\"-405\" rx=\"105.88\" ry=\"18\"/>\n<text text-anchor=\"middle\" x=\"741\" y=\"-401.3\" font-family=\"Times,serif\" font-size=\"14.00\">finger_middle_link_0</text>\n</g>\n<!-- body23&#45;&gt;body34 -->\n<g id=\"edge33\" class=\"edge\">\n<title>body23-&gt;body34</title>\n<path fill=\"none\" stroke=\"black\" d=\"M823.4,-416.42C967.53,-434.65 1260.49,-471.71 1370.23,-485.59\"/>\n<polygon fill=\"black\" stroke=\"black\" points=\"1369.9,-489.08 1380.26,-486.86 1370.78,-482.13 1369.9,-489.08\"/>\n<text text-anchor=\"middle\" x=\"1231\" y=\"-444.8\" font-family=\"Times,serif\" font-size=\"14.00\">palm_finger_middle_joint [weld]</text>\n</g>\n<!-- body24 -->\n<g id=\"node25\" class=\"node\">\n<title>body24</title>\n<ellipse fill=\"none\" stroke=\"black\" cx=\"462\" cy=\"-318\" rx=\"105.88\" ry=\"18\"/>\n<text text-anchor=\"middle\" x=\"462\" y=\"-314.3\" font-family=\"Times,serif\" font-size=\"14.00\">finger_middle_link_1</text>\n</g>\n<!-- body24&#45;&gt;body23 -->\n<g id=\"edge21\" class=\"edge\">\n<title>body24-&gt;body23</title>\n<path fill=\"none\" stroke=\"black\" d=\"M473.8,-336.21C482.46,-347.43 495.26,-361.36 510,-369 532.45,-380.63 587.83,-389.24 638.74,-395\"/>\n<polygon fill=\"black\" stroke=\"black\" points=\"638.53,-398.5 648.85,-396.12 639.29,-391.54 638.53,-398.5\"/>\n<text text-anchor=\"middle\" x=\"623.5\" y=\"-357.8\" font-family=\"Times,serif\" font-size=\"14.00\">finger_middle_joint_0 [revolute]</text>\n</g>\n<!-- body25 -->\n<g id=\"node26\" class=\"node\">\n<title>body25</title>\n<ellipse fill=\"none\" stroke=\"black\" cx=\"460\" cy=\"-231\" rx=\"105.88\" ry=\"18\"/>\n<text text-anchor=\"middle\" x=\"460\" y=\"-227.3\" font-family=\"Times,serif\" font-size=\"14.00\">finger_middle_link_2</text>\n</g>\n<!-- body25&#45;&gt;body24 -->\n<g id=\"edge22\" class=\"edge\">\n<title>body25-&gt;body24</title>\n<path fill=\"none\" stroke=\"black\" d=\"M460.4,-249.2C460.68,-260.84 461.05,-276.45 461.36,-289.76\"/>\n<polygon fill=\"black\" stroke=\"black\" points=\"457.86,-289.91 461.6,-299.82 464.86,-289.74 457.86,-289.91\"/>\n<text text-anchor=\"middle\" x=\"574.5\" y=\"-270.8\" font-family=\"Times,serif\" font-size=\"14.00\">finger_middle_joint_1 [revolute]</text>\n</g>\n<!-- body26 -->\n<g id=\"node27\" class=\"node\">\n<title>body26</title>\n<ellipse fill=\"none\" stroke=\"black\" cx=\"442\" cy=\"-144\" rx=\"105.88\" ry=\"18\"/>\n<text text-anchor=\"middle\" x=\"442\" y=\"-140.3\" font-family=\"Times,serif\" font-size=\"14.00\">finger_middle_link_3</text>\n</g>\n<!-- body26&#45;&gt;body25 -->\n<g id=\"edge23\" class=\"edge\">\n<title>body26-&gt;body25</title>\n<path fill=\"none\" stroke=\"black\" d=\"M417.14,-161.51C406.3,-170.88 397.39,-183.08 404,-195 406.71,-199.89 410.42,-204.18 414.65,-207.94\"/>\n<polygon fill=\"black\" stroke=\"black\" points=\"412.65,-210.81 422.72,-214.11 416.9,-205.25 412.65,-210.81\"/>\n<text text-anchor=\"middle\" x=\"517.5\" y=\"-183.8\" font-family=\"Times,serif\" font-size=\"14.00\">finger_middle_joint_2 [revolute]</text>\n</g>\n<!-- body27 -->\n<g id=\"node28\" class=\"node\">\n<title>body27</title>\n<ellipse fill=\"none\" stroke=\"black\" cx=\"741\" cy=\"-318\" rx=\"155.17\" ry=\"18\"/>\n<text text-anchor=\"middle\" x=\"741\" y=\"-314.3\" font-family=\"Times,serif\" font-size=\"14.00\">finger_middle_fourbar_0_link_1</text>\n</g>\n<!-- body27&#45;&gt;body23 -->\n<g id=\"edge24\" class=\"edge\">\n<title>body27-&gt;body23</title>\n<path fill=\"none\" stroke=\"black\" d=\"M741,-336.2C741,-347.84 741,-363.45 741,-376.76\"/>\n<polygon fill=\"black\" stroke=\"black\" points=\"737.5,-376.82 741,-386.82 744.5,-376.82 737.5,-376.82\"/>\n<text text-anchor=\"middle\" x=\"892.5\" y=\"-357.8\" font-family=\"Times,serif\" font-size=\"14.00\">finger_middle_fourbar_0_joint_0 [revolute]</text>\n</g>\n<!-- body28 -->\n<g id=\"node29\" class=\"node\">\n<title>body28</title>\n<ellipse fill=\"none\" stroke=\"black\" cx=\"739\" cy=\"-231\" rx=\"155.17\" ry=\"18\"/>\n<text text-anchor=\"middle\" x=\"739\" y=\"-227.3\" font-family=\"Times,serif\" font-size=\"14.00\">finger_middle_fourbar_0_link_2</text>\n</g>\n<!-- body28&#45;&gt;body27 -->\n<g id=\"edge25\" class=\"edge\">\n<title>body28-&gt;body27</title>\n<path fill=\"none\" stroke=\"black\" d=\"M735.6,-249.12C734.11,-258.78 732.92,-271.06 734,-282 734.25,-284.54 734.6,-287.16 735.01,-289.78\"/>\n<polygon fill=\"black\" stroke=\"black\" points=\"731.58,-290.45 736.83,-299.66 738.46,-289.19 731.58,-290.45\"/>\n<text text-anchor=\"middle\" x=\"885.5\" y=\"-270.8\" font-family=\"Times,serif\" font-size=\"14.00\">finger_middle_fourbar_0_joint_1 [revolute]</text>\n</g>\n<!-- body29 -->\n<g id=\"node30\" class=\"node\">\n<title>body29</title>\n<ellipse fill=\"none\" stroke=\"black\" cx=\"171\" cy=\"-231\" rx=\"155.17\" ry=\"18\"/>\n<text text-anchor=\"middle\" x=\"171\" y=\"-227.3\" font-family=\"Times,serif\" font-size=\"14.00\">finger_middle_fourbar_0_link_3</text>\n</g>\n<!-- body29&#45;&gt;body24 -->\n<g id=\"edge26\" class=\"edge\">\n<title>body29-&gt;body24</title>\n<path fill=\"none\" stroke=\"black\" d=\"M157.02,-248.96C150.08,-259.51 144.76,-272.78 153,-282 166.35,-296.95 268.14,-306.33 351.3,-311.57\"/>\n<polygon fill=\"black\" stroke=\"black\" points=\"351.15,-315.07 361.34,-312.19 351.58,-308.08 351.15,-315.07\"/>\n<text text-anchor=\"middle\" x=\"304.5\" y=\"-270.8\" font-family=\"Times,serif\" font-size=\"14.00\">finger_middle_fourbar_0_joint_2 [revolute]</text>\n</g>\n<!-- body30 -->\n<g id=\"node31\" class=\"node\">\n<title>body30</title>\n<ellipse fill=\"none\" stroke=\"black\" cx=\"721\" cy=\"-144\" rx=\"155.17\" ry=\"18\"/>\n<text text-anchor=\"middle\" x=\"721\" y=\"-140.3\" font-family=\"Times,serif\" font-size=\"14.00\">finger_middle_fourbar_3_link_1</text>\n</g>\n<!-- body30&#45;&gt;body25 -->\n<g id=\"edge27\" class=\"edge\">\n<title>body30-&gt;body25</title>\n<path fill=\"none\" stroke=\"black\" d=\"M695.63,-161.86C678.13,-172.78 653.97,-186.5 631,-195 605.17,-204.56 576.13,-211.74 549.41,-217.03\"/>\n<polygon fill=\"black\" stroke=\"black\" points=\"548.46,-213.65 539.29,-218.97 549.77,-220.53 548.46,-213.65\"/>\n<text text-anchor=\"middle\" x=\"812.5\" y=\"-183.8\" font-family=\"Times,serif\" font-size=\"14.00\">finger_middle_fourbar_3_joint_0 [revolute]</text>\n</g>\n<!-- body31 -->\n<g id=\"node32\" class=\"node\">\n<title>body31</title>\n<ellipse fill=\"none\" stroke=\"black\" cx=\"746\" cy=\"-57\" rx=\"155.17\" ry=\"18\"/>\n<text text-anchor=\"middle\" x=\"746\" y=\"-53.3\" font-family=\"Times,serif\" font-size=\"14.00\">finger_middle_fourbar_3_link_2</text>\n</g>\n<!-- body31&#45;&gt;body30 -->\n<g id=\"edge28\" class=\"edge\">\n<title>body31-&gt;body30</title>\n<path fill=\"none\" stroke=\"black\" d=\"M740.94,-75.2C737.48,-86.95 732.83,-102.76 728.89,-116.16\"/>\n<polygon fill=\"black\" stroke=\"black\" points=\"725.52,-115.24 726.05,-125.82 732.23,-117.22 725.52,-115.24\"/>\n<text text-anchor=\"middle\" x=\"885.5\" y=\"-96.8\" font-family=\"Times,serif\" font-size=\"14.00\">finger_middle_fourbar_3_joint_1 [revolute]</text>\n</g>\n<!-- body32 -->\n<g id=\"node33\" class=\"node\">\n<title>body32</title>\n<ellipse fill=\"none\" stroke=\"black\" cx=\"417\" cy=\"-57\" rx=\"155.17\" ry=\"18\"/>\n<text text-anchor=\"middle\" x=\"417\" y=\"-53.3\" font-family=\"Times,serif\" font-size=\"14.00\">finger_middle_fourbar_3_link_3</text>\n</g>\n<!-- body32&#45;&gt;body26 -->\n<g id=\"edge29\" class=\"edge\">\n<title>body32-&gt;body26</title>\n<path fill=\"none\" stroke=\"black\" d=\"M418.52,-75.41C419.68,-85.16 421.67,-97.44 425,-108 425.92,-110.93 427.06,-113.93 428.3,-116.88\"/>\n<polygon fill=\"black\" stroke=\"black\" points=\"425.12,-118.35 432.49,-125.97 431.48,-115.42 425.12,-118.35\"/>\n<text text-anchor=\"middle\" x=\"576.5\" y=\"-96.8\" font-family=\"Times,serif\" font-size=\"14.00\">finger_middle_fourbar_3_joint_2 [revolute]</text>\n</g>\n<!-- body33 -->\n<g id=\"node34\" class=\"node\">\n<title>body33</title>\n<ellipse fill=\"none\" stroke=\"black\" cx=\"167\" cy=\"-144\" rx=\"151.37\" ry=\"18\"/>\n<text text-anchor=\"middle\" x=\"167\" y=\"-140.3\" font-family=\"Times,serif\" font-size=\"14.00\">finger_middle_fourbar_linkage</text>\n</g>\n<!-- body33&#45;&gt;body29 -->\n<g id=\"edge30\" class=\"edge\">\n<title>body33-&gt;body29</title>\n<path fill=\"none\" stroke=\"black\" d=\"M61.41,-156.94C36.18,-164.24 20.29,-176.02 35,-195 40.77,-202.44 55.42,-208.57 73.08,-213.51\"/>\n<polygon fill=\"black\" stroke=\"black\" points=\"72.61,-217.01 83.17,-216.14 74.37,-210.23 72.61,-217.01\"/>\n<text text-anchor=\"middle\" x=\"208\" y=\"-183.8\" font-family=\"Times,serif\" font-size=\"14.00\">finger_middle_fourbar_linkage_joint_0 [revolute]</text>\n</g>\n<!-- body34&#45;&gt;body0 -->\n<g id=\"edge34\" class=\"edge\">\n<title>body34-&gt;body0</title>\n<path fill=\"none\" stroke=\"black\" d=\"M1413,-510.03C1413,-526.62 1413,-552.12 1413,-571.57\"/>\n<polygon fill=\"black\" stroke=\"black\" points=\"1409.5,-571.66 1413,-581.66 1416.5,-571.66 1409.5,-571.66\"/>\n<text text-anchor=\"middle\" x=\"1508\" y=\"-531.8\" font-family=\"Times,serif\" font-size=\"14.00\">palm [quaternion_floating]</text>\n</g>\n</g>\n</svg>"
     },
     "metadata": {},
     "output_type": "display_data"
    }
   ],
   "source": [
    "def kinematic_tree_example():\n",
    "    plant = MultibodyPlant(time_step=0.0)\n",
    "    parser = Parser(plant)\n",
    "    ConfigureParser(parser)\n",
    "    '''parser.AddModelsFromUrl(\n",
    "        \"package://drake/manipulation/models/allegro_hand_description/sdf/allegro_hand_description_right.sdf\"\n",
    "    )'''\n",
    "    '''parser.AddModelsFromUrl(\n",
    "        \"package://drake_models/atlas/robotiq_simple.urdf\"\n",
    "    )'''\n",
    "    '''parser.AddModelsFromUrl(\n",
    "            \"package://drake/manipulation/models/wsg_50_description/sdf/schunk_wsg_50_no_tip.sdf\"\n",
    "    )'''\n",
    "    '''parser.AddModelsFromUrl(\n",
    "        \"package://drake/examples/manipulation_station/models/061_foam_brick.sdf\"\n",
    "    )'''\n",
    "    #parser.AddModels(\"/home/dan/Projects/Pydrake-robotiq140/models/robotiq_arg2f_140_model.sdf\")\n",
    "    #parser.AddModels(\"/home/dan/Projects/Pydrake-robotiq140/models/robotiq_85_gripper_xuchenhan-tri.urdf\")\n",
    "    parser.AddModels(\"/home/dan/Projects/Pydrake-robotiq140/models/robotiq.urdf\")\n",
    "\n",
    "    \n",
    "    plant.Finalize()\n",
    "\n",
    "    # TODO(russt): Add floating base connections\n",
    "    # TODO(russt): Consider a more interactive javascript rendering?\n",
    "    display(\n",
    "        SVG(\n",
    "            pydot.graph_from_dot_data(plant.GetTopologyGraphvizString())[0].create_svg()\n",
    "        )\n",
    "    )\n",
    "\n",
    "\n",
    "kinematic_tree_example()"
   ],
   "metadata": {
    "collapsed": false,
    "ExecuteTime": {
     "end_time": "2024-03-26T14:57:49.973004Z",
     "start_time": "2024-03-26T14:57:49.628932Z"
    }
   },
   "execution_count": 4
  },
  {
   "cell_type": "code",
   "outputs": [],
   "source": [],
   "metadata": {
    "collapsed": false
   }
  },
  {
   "cell_type": "markdown",
   "source": [
    "<a style='text-decoration:none;line-height:16px;display:flex;color:#5B5B62;padding:10px;justify-content:end;' href='https://deepnote.com?utm_source=created-in-deepnote-cell&projectId=f0b1cabc-34db-4d1b-ba7e-872ed2fe3b85' target=\"_blank\">\n",
    "<img alt='Created in deepnote.com' style='display:inline;max-height:16px;margin:0px;margin-right:7.5px;' src='data:image/svg+xml;base64,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' > </img>\n",
    "Created in <span style='font-weight:600;margin-left:4px;'>Deepnote</span></a>"
   ],
   "metadata": {
    "created_in_deepnote_cell": true,
    "deepnote_cell_type": "markdown"
   }
  }
 ],
 "nbformat": 4,
 "nbformat_minor": 0,
 "metadata": {
  "deepnote_notebook_id": "9c44fec83ca54c70827b3f592c2c958a",
  "deepnote_execution_queue": [],
  "kernelspec": {
   "name": "pydrake-robotiq140",
   "language": "python",
   "display_name": "Python (Pydrake-robotiq140)"
  }
 }
}
