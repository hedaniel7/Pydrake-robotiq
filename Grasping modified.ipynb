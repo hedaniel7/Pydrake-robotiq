{
 "cells": [
  {
   "cell_type": "code",
   "execution_count": 5,
   "id": "6465edcf",
   "metadata": {
    "ExecuteTime": {
     "end_time": "2024-03-08T13:47:26.004635Z",
     "start_time": "2024-03-08T13:47:26.001868Z"
    }
   },
   "outputs": [],
   "source": [
    "import numpy as np\n",
    "from pydrake.all import (\n",
    "    AddMultibodyPlantSceneGraph,\n",
    "    DiagramBuilder,\n",
    "    MeshcatVisualizer,\n",
    "    Parser,\n",
    "    RigidTransform,\n",
    "    RotationMatrix,\n",
    "    StartMeshcat,\n",
    ")\n",
    "\n",
    "from manipulation.scenarios import SetColor"
   ]
  },
  {
   "cell_type": "code",
   "execution_count": 6,
   "id": "10c2ccae",
   "metadata": {
    "ExecuteTime": {
     "end_time": "2024-03-08T13:47:28.715571Z",
     "start_time": "2024-03-08T13:47:28.710884Z"
    }
   },
   "outputs": [
    {
     "name": "stderr",
     "output_type": "stream",
     "text": [
      "INFO:drake:Meshcat listening for connections at http://localhost:7002\n"
     ]
    }
   ],
   "source": [
    "# Start the visualizer.\n",
    "meshcat = StartMeshcat()"
   ]
  },
  {
   "cell_type": "code",
   "execution_count": 11,
   "id": "63fbc339",
   "metadata": {
    "ExecuteTime": {
     "end_time": "2024-03-08T14:25:06.747325Z",
     "start_time": "2024-03-08T14:25:06.640820Z"
    }
   },
   "outputs": [
    {
     "name": "stderr",
     "output_type": "stream",
     "text": [
      "WARNING:drake:/home/dan/Projects/Pydrake-robotiq140/catkin_ws/src/robotiq/robotiq_2f_140_gripper_visualization/urdf/robotiq_arg2f_140_model.urdf:264: warning: Joint 'left_inner_knuckle_joint' specifies a mimic element that will be ignored. Mimic elements are currently only supported by MultibodyPlant with a discrete time step and using DiscreteContactSolver::kSap.\n",
      "WARNING:drake:/home/dan/Projects/Pydrake-robotiq140/catkin_ws/src/robotiq/robotiq_2f_140_gripper_visualization/urdf/robotiq_arg2f_140_model.urdf:272: warning: Joint 'left_inner_finger_joint' specifies a mimic element that will be ignored. Mimic elements are currently only supported by MultibodyPlant with a discrete time step and using DiscreteContactSolver::kSap.\n",
      "WARNING:drake:/home/dan/Projects/Pydrake-robotiq140/catkin_ws/src/robotiq/robotiq_2f_140_gripper_visualization/urdf/robotiq_arg2f_140_model.urdf:286: warning: Joint 'right_outer_knuckle_joint' specifies a mimic element that will be ignored. Mimic elements are currently only supported by MultibodyPlant with a discrete time step and using DiscreteContactSolver::kSap.\n",
      "WARNING:drake:/home/dan/Projects/Pydrake-robotiq140/catkin_ws/src/robotiq/robotiq_2f_140_gripper_visualization/urdf/robotiq_arg2f_140_model.urdf:300: warning: Joint 'right_inner_knuckle_joint' specifies a mimic element that will be ignored. Mimic elements are currently only supported by MultibodyPlant with a discrete time step and using DiscreteContactSolver::kSap.\n",
      "WARNING:drake:/home/dan/Projects/Pydrake-robotiq140/catkin_ws/src/robotiq/robotiq_2f_140_gripper_visualization/urdf/robotiq_arg2f_140_model.urdf:308: warning: Joint 'right_inner_finger_joint' specifies a mimic element that will be ignored. Mimic elements are currently only supported by MultibodyPlant with a discrete time step and using DiscreteContactSolver::kSap.\n",
      "WARNING:drake:/home/dan/Projects/Pydrake-robotiq140/catkin_ws/src/robotiq/robotiq_2f_140_gripper_visualization/urdf/robotiq_arg2f_140_model.urdf:264: warning: Joint 'left_inner_knuckle_joint' specifies a mimic element that will be ignored. Mimic elements are currently only supported by MultibodyPlant with a discrete time step and using DiscreteContactSolver::kSap.\n",
      "WARNING:drake:/home/dan/Projects/Pydrake-robotiq140/catkin_ws/src/robotiq/robotiq_2f_140_gripper_visualization/urdf/robotiq_arg2f_140_model.urdf:272: warning: Joint 'left_inner_finger_joint' specifies a mimic element that will be ignored. Mimic elements are currently only supported by MultibodyPlant with a discrete time step and using DiscreteContactSolver::kSap.\n",
      "WARNING:drake:/home/dan/Projects/Pydrake-robotiq140/catkin_ws/src/robotiq/robotiq_2f_140_gripper_visualization/urdf/robotiq_arg2f_140_model.urdf:286: warning: Joint 'right_outer_knuckle_joint' specifies a mimic element that will be ignored. Mimic elements are currently only supported by MultibodyPlant with a discrete time step and using DiscreteContactSolver::kSap.\n",
      "WARNING:drake:/home/dan/Projects/Pydrake-robotiq140/catkin_ws/src/robotiq/robotiq_2f_140_gripper_visualization/urdf/robotiq_arg2f_140_model.urdf:300: warning: Joint 'right_inner_knuckle_joint' specifies a mimic element that will be ignored. Mimic elements are currently only supported by MultibodyPlant with a discrete time step and using DiscreteContactSolver::kSap.\n",
      "WARNING:drake:/home/dan/Projects/Pydrake-robotiq140/catkin_ws/src/robotiq/robotiq_2f_140_gripper_visualization/urdf/robotiq_arg2f_140_model.urdf:308: warning: Joint 'right_inner_finger_joint' specifies a mimic element that will be ignored. Mimic elements are currently only supported by MultibodyPlant with a discrete time step and using DiscreteContactSolver::kSap.\n"
     ]
    },
    {
     "ename": "RuntimeError",
     "evalue": "GetRigidBodyByName(): There is no RigidBody named 'base_link' anywhere in the model (valid names in model instance 'WorldModelInstance' are: world; valid names in model instance 'robotiq_arg2f_140_model' are: left_inner_finger, left_inner_finger_pad, left_inner_knuckle, left_outer_finger, left_outer_knuckle, right_inner_finger, right_inner_finger_pad, right_inner_knuckle, right_outer_finger, right_outer_knuckle, robotiq_arg2f_base_link; valid names in model instance 'robotiq_arg2f_140_model_1' are: left_inner_finger, left_inner_finger_pad, left_inner_knuckle, left_outer_finger, left_outer_knuckle, right_inner_finger, right_inner_finger_pad, right_inner_knuckle, right_outer_finger, right_outer_knuckle, robotiq_arg2f_base_link; valid names in model instance '010_potted_meat_can' are: base_link_meat)",
     "output_type": "error",
     "traceback": [
      "\u001B[0;31m---------------------------------------------------------------------------\u001B[0m",
      "\u001B[0;31mRuntimeError\u001B[0m                              Traceback (most recent call last)",
      "Cell \u001B[0;32mIn[11], line 101\u001B[0m\n\u001B[1;32m     94\u001B[0m     plant\u001B[38;5;241m.\u001B[39mGetJointByName(\u001B[38;5;124m\"\u001B[39m\u001B[38;5;124mright_finger_sliding_joint\u001B[39m\u001B[38;5;124m\"\u001B[39m, pregrasp)\u001B[38;5;241m.\u001B[39mset_translation(\n\u001B[1;32m     95\u001B[0m         plant_context, \u001B[38;5;241m0.054\u001B[39m\n\u001B[1;32m     96\u001B[0m     )\n\u001B[1;32m     98\u001B[0m     diagram\u001B[38;5;241m.\u001B[39mForcedPublish(context)\n\u001B[0;32m--> 101\u001B[0m \u001B[43mgrasp_poses_example\u001B[49m\u001B[43m(\u001B[49m\u001B[43m)\u001B[49m\n",
      "Cell \u001B[0;32mIn[11], line 41\u001B[0m, in \u001B[0;36mgrasp_poses_example\u001B[0;34m()\u001B[0m\n\u001B[1;32m     36\u001B[0m brick \u001B[38;5;241m=\u001B[39m parser\u001B[38;5;241m.\u001B[39mAddModels(\u001B[38;5;124m\"\u001B[39m\u001B[38;5;124m/home/dan/Projects/Pydrake-robotiq140/models/010_potted_meat_can.sdf\u001B[39m\u001B[38;5;124m\"\u001B[39m)[\u001B[38;5;241m0\u001B[39m]\n\u001B[1;32m     39\u001B[0m plant\u001B[38;5;241m.\u001B[39mFinalize()\n\u001B[0;32m---> 41\u001B[0m B_O \u001B[38;5;241m=\u001B[39m \u001B[43mplant\u001B[49m\u001B[38;5;241;43m.\u001B[39;49m\u001B[43mGetBodyByName\u001B[49m\u001B[43m(\u001B[49m\u001B[38;5;124;43m\"\u001B[39;49m\u001B[38;5;124;43mbase_link\u001B[39;49m\u001B[38;5;124;43m\"\u001B[39;49m\u001B[43m,\u001B[49m\u001B[43m \u001B[49m\u001B[43mbrick\u001B[49m\u001B[43m)\u001B[49m\n\u001B[1;32m     42\u001B[0m B_Ggrasp \u001B[38;5;241m=\u001B[39m plant\u001B[38;5;241m.\u001B[39mGetBodyByName(\u001B[38;5;124m\"\u001B[39m\u001B[38;5;124mbody\u001B[39m\u001B[38;5;124m\"\u001B[39m, grasp)\n\u001B[1;32m     43\u001B[0m B_Gpregrasp \u001B[38;5;241m=\u001B[39m plant\u001B[38;5;241m.\u001B[39mGetBodyByName(\u001B[38;5;124m\"\u001B[39m\u001B[38;5;124mbody\u001B[39m\u001B[38;5;124m\"\u001B[39m, pregrasp)\n",
      "\u001B[0;31mRuntimeError\u001B[0m: GetRigidBodyByName(): There is no RigidBody named 'base_link' anywhere in the model (valid names in model instance 'WorldModelInstance' are: world; valid names in model instance 'robotiq_arg2f_140_model' are: left_inner_finger, left_inner_finger_pad, left_inner_knuckle, left_outer_finger, left_outer_knuckle, right_inner_finger, right_inner_finger_pad, right_inner_knuckle, right_outer_finger, right_outer_knuckle, robotiq_arg2f_base_link; valid names in model instance 'robotiq_arg2f_140_model_1' are: left_inner_finger, left_inner_finger_pad, left_inner_knuckle, left_outer_finger, left_outer_knuckle, right_inner_finger, right_inner_finger_pad, right_inner_knuckle, right_outer_finger, right_outer_knuckle, robotiq_arg2f_base_link; valid names in model instance '010_potted_meat_can' are: base_link_meat)"
     ]
    }
   ],
   "source": [
    "def grasp_poses_example():\n",
    "    builder = DiagramBuilder()\n",
    "\n",
    "    plant, scene_graph = AddMultibodyPlantSceneGraph(builder, time_step=0.0)\n",
    "    parser = Parser(plant, scene_graph)\n",
    "    parser.SetAutoRenaming(True)\n",
    "\n",
    "    '''\n",
    "    grasp = parser.AddModelsFromUrl(\n",
    "        #\"package://drake/manipulation/models/wsg_50_description/sdf/schunk_wsg_50_no_tip.sdf\"\n",
    "        \"package://drake_models/atlas/robotiq.urdf\"\n",
    "        #\"package://drake_models/atlas/robotiq_simple.urdf\"\n",
    "    )[0]\n",
    "    pregrasp = parser.AddModelsFromUrl(\n",
    "        \"package://drake/manipulation/models/wsg_50_description/sdf/schunk_wsg_50_no_tip.sdf\"\n",
    "    )[0]\n",
    "    brick = parser.AddModelsFromUrl(\n",
    "        \"package://drake/examples/manipulation_station/models/061_foam_brick.sdf\"\n",
    "    )[0]\n",
    "    '''\n",
    "    \n",
    "    '''grasp = parser.AddModelsFromUrl(\n",
    "        #\"package://drake/manipulation/models/wsg_50_description/sdf/schunk_wsg_50_no_tip.sdf\"\n",
    "        \"package://drake/examples/simple_gripper/robotiq_85_gripper.urdf\"\n",
    "        #\"package://drake_models/atlas/robotiq_simple.urdf\"\n",
    "    )[0]\n",
    "    pregrasp = parser.AddModelsFromUrl(\n",
    "        #\"package://drake/manipulation/models/wsg_50_description/sdf/schunk_wsg_50_no_tip.sdf\"\n",
    "        \"package://drake/examples/simple_gripper/robotiq_85_gripper.urdf\"\n",
    "        #\"package://drake_models/atlas/robotiq_simple.urdf\"\n",
    "    )[0]'''\n",
    "    \n",
    "    grasp = parser.AddModels(\"/home/dan/Projects/Pydrake-robotiq140/catkin_ws/src/robotiq/robotiq_2f_140_gripper_visualization/urdf/robotiq_arg2f_140_model.urdf\")[0]\n",
    "    pregrasp = parser.AddModels(\"/home/dan/Projects/Pydrake-robotiq140/catkin_ws/src/robotiq/robotiq_2f_140_gripper_visualization/urdf/robotiq_arg2f_140_model.urdf\")[0]\n",
    "    \n",
    "    brick = parser.AddModels(\"/home/dan/Projects/Pydrake-robotiq140/models/010_potted_meat_can.sdf\")[0]\n",
    "    \n",
    "    \n",
    "    plant.Finalize()\n",
    "\n",
    "    B_O = plant.GetBodyByName(\"base_link\", brick)\n",
    "    B_Ggrasp = plant.GetBodyByName(\"body\", grasp)\n",
    "    B_Gpregrasp = plant.GetBodyByName(\"body\", pregrasp)\n",
    "\n",
    "    # Set the pregrasp to be green and slightly transparent.\n",
    "    inspector = scene_graph.model_inspector()\n",
    "    for body_index in plant.GetBodyIndices(pregrasp):\n",
    "        SetColor(\n",
    "            scene_graph,\n",
    "            [0, 0.6, 0, 0.5],\n",
    "            plant.get_source_id(),\n",
    "            inspector.GetGeometries(plant.GetBodyFrameIdOrThrow(body_index)),\n",
    "        )\n",
    "\n",
    "    meshcat.Delete()\n",
    "    meshcat.SetProperty(\"/Background\", \"visible\", False)\n",
    "    MeshcatVisualizer.AddToBuilder(builder, scene_graph, meshcat)\n",
    "\n",
    "    diagram = builder.Build()\n",
    "    context = diagram.CreateDefaultContext()\n",
    "    plant_context = plant.GetMyContextFromRoot(context)\n",
    "\n",
    "    # TODO(russt): Set a random pose of the object.\n",
    "\n",
    "    # Get the current object, O, pose\n",
    "    X_WO = plant.EvalBodyPoseInWorld(plant_context, B_O)\n",
    "\n",
    "    p_GgraspO = [0, 0.11, 0]\n",
    "    R_GgraspO = RotationMatrix.MakeXRotation(np.pi / 2.0).multiply(\n",
    "        RotationMatrix.MakeZRotation(np.pi / 2.0)\n",
    "    )\n",
    "    X_GgraspO = RigidTransform(R_GgraspO, p_GgraspO)\n",
    "    X_OGgrasp = X_GgraspO.inverse()\n",
    "    X_WGgrasp = X_WO.multiply(X_OGgrasp)\n",
    "\n",
    "    # pregrasp is negative y in the gripper frame (see the figure!).\n",
    "    X_GgraspGpregrasp = RigidTransform([0, -0.08, 0])\n",
    "    X_WGpregrasp = X_WGgrasp @ X_GgraspGpregrasp\n",
    "\n",
    "    plant.SetFreeBodyPose(plant_context, B_Ggrasp, X_WGgrasp)\n",
    "    # Open the fingers, too.\n",
    "    plant.GetJointByName(\"left_finger_sliding_joint\", grasp).set_translation(\n",
    "        plant_context, -0.054\n",
    "    )\n",
    "    plant.GetJointByName(\"right_finger_sliding_joint\", grasp).set_translation(\n",
    "        plant_context, 0.054\n",
    "    )\n",
    "\n",
    "    plant.SetFreeBodyPose(plant_context, B_Gpregrasp, X_WGpregrasp)\n",
    "    # Open the fingers, too.\n",
    "    plant.GetJointByName(\"left_finger_sliding_joint\", pregrasp).set_translation(\n",
    "        plant_context, -0.054\n",
    "    )\n",
    "    plant.GetJointByName(\"right_finger_sliding_joint\", pregrasp).set_translation(\n",
    "        plant_context, 0.054\n",
    "    )\n",
    "\n",
    "    diagram.ForcedPublish(context)\n",
    "\n",
    "\n",
    "grasp_poses_example()"
   ]
  },
  {
   "cell_type": "code",
   "execution_count": null,
   "id": "5bde8be9-17df-4ba6-a66c-86cf7547e691",
   "metadata": {},
   "outputs": [],
   "source": []
  }
 ],
 "metadata": {
  "kernelspec": {
   "display_name": "Python (Pydrake-robotiq140)",
   "language": "python",
   "name": "pydrake-robotiq140"
  },
  "language_info": {
   "codemirror_mode": {
    "name": "ipython",
    "version": 3
   },
   "file_extension": ".py",
   "mimetype": "text/x-python",
   "name": "python",
   "nbconvert_exporter": "python",
   "pygments_lexer": "ipython3",
   "version": "3.10.12"
  }
 },
 "nbformat": 4,
 "nbformat_minor": 5
}
