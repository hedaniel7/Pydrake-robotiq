{
 "cells": [
  {
   "cell_type": "code",
   "execution_count": 10,
   "metadata": {
    "ExecuteTime": {
     "end_time": "2024-03-07T16:19:42.760434Z",
     "start_time": "2024-03-07T16:19:42.755740Z"
    }
   },
   "outputs": [],
   "source": [
    "from pydrake.all import (AddDefaultVisualization, AddMultibodyPlantSceneGraph,\n",
    "                         ConstantVectorSource, DiagramBuilder,\n",
    "                         DiscreteContactSolver, ModelVisualizer, PackageMap,\n",
    "                         Parser, Simulator, StartMeshcat, namedview)"
   ]
  },
  {
   "cell_type": "code",
   "execution_count": 11,
   "metadata": {
    "ExecuteTime": {
     "end_time": "2024-03-07T16:19:44.426198Z",
     "start_time": "2024-03-07T16:19:44.420755Z"
    }
   },
   "outputs": [
    {
     "name": "stderr",
     "output_type": "stream",
     "text": [
      "INFO:drake:Meshcat listening for connections at http://localhost:7000\n"
     ]
    }
   ],
   "source": [
    "meshcat = StartMeshcat()"
   ]
  },
  {
   "cell_type": "markdown",
   "metadata": {},
   "source": [
    "Note: The models are also available directly here, if that's easier: https://github.com/RussTedrake/kinova-movo/tree/movo_description_drake"
   ]
  },
  {
   "cell_type": "code",
   "execution_count": 12,
   "metadata": {
    "ExecuteTime": {
     "end_time": "2024-03-07T16:20:02.282070Z",
     "start_time": "2024-03-07T16:20:02.277417Z"
    }
   },
   "outputs": [
    {
     "data": {
      "text/plain": "\"\\ndef setup_package_map(parser):\\n    parser.package_map().AddPackageXml('/home/russt/tmp/kinova-movo/movo_common/movo_description/package.xml')\\n    parser.package_map().AddPackageXml('/home/russt/QR/assets/package.xml')\\n    parser.package_map().AddPackageXml(\\n        '/home/russt/QR/assets/open-world-tamp/package.xml')\\n\""
     },
     "execution_count": 12,
     "metadata": {},
     "output_type": "execute_result"
    }
   ],
   "source": [
    "def setup_package_map(parser):\n",
    "    parser.package_map().AddRemote(\n",
    "        package_name=\"kinova-movo\",\n",
    "        params=PackageMap.RemoteParams(\n",
    "            urls=[\n",
    "                \"https://github.com/RussTedrake/kinova-movo/archive/d94d1d7da7ff8fc71f2439bb0a8989f1e6fd79b4.tar.gz\"\n",
    "            ],\n",
    "            sha256=\"a9201477a23f410f10d00e86847de778c175d3d3c8971be52a9ac881194e4887\",\n",
    "            strip_prefix=\"kinova-movo-d94d1d7da7ff8fc71f2439bb0a8989f1e6fd79b4\",\n",
    "        ))\n",
    "    parser.package_map().AddPackageXml(f'{parser.package_map().GetPath(\"kinova-movo\")}/movo_common/movo_description/package.xml')\n",
    "'''\n",
    "def setup_package_map(parser):\n",
    "    parser.package_map().AddPackageXml('/home/russt/tmp/kinova-movo/movo_common/movo_description/package.xml')\n",
    "    parser.package_map().AddPackageXml('/home/russt/QR/assets/package.xml')\n",
    "    parser.package_map().AddPackageXml(\n",
    "        '/home/russt/QR/assets/open-world-tamp/package.xml')\n",
    "'''"
   ]
  },
  {
   "cell_type": "markdown",
   "metadata": {},
   "source": [
    "# First attempt -- SAP w/ urdf mimic joints => coupler constraints."
   ]
  },
  {
   "cell_type": "code",
   "execution_count": 13,
   "metadata": {
    "ExecuteTime": {
     "end_time": "2024-03-07T16:20:09.054102Z",
     "start_time": "2024-03-07T16:20:08.977054Z"
    }
   },
   "outputs": [
    {
     "name": "stderr",
     "output_type": "stream",
     "text": [
      "WARNING:drake:/home/dan/.cache/drake/package_map/a9201477a23f410f10d00e86847de778c175d3d3c8971be52a9ac881194e4887-660e65fbc966cbcbcef5a5b4a87cd8a4d93a4e88bba0b78d4d6495d95e119b22/movo_common/movo_description/urdf/manipulation/robotiq/robotiq_85_gripper.urdf:73: warning: Joint 'gripper_finger2_joint' specifies a mimic element that will be ignored. Mimic elements are currently only supported by MultibodyPlant with a discrete time step and using DiscreteContactSolver::kSap.\n",
      "WARNING:drake:/home/dan/.cache/drake/package_map/a9201477a23f410f10d00e86847de778c175d3d3c8971be52a9ac881194e4887-660e65fbc966cbcbcef5a5b4a87cd8a4d93a4e88bba0b78d4d6495d95e119b22/movo_common/movo_description/urdf/manipulation/robotiq/robotiq_85_gripper.urdf:187: warning: Joint 'gripper_finger1_inner_knuckle_joint' specifies a mimic element that will be ignored. Mimic elements are currently only supported by MultibodyPlant with a discrete time step and using DiscreteContactSolver::kSap.\n",
      "WARNING:drake:/home/dan/.cache/drake/package_map/a9201477a23f410f10d00e86847de778c175d3d3c8971be52a9ac881194e4887-660e65fbc966cbcbcef5a5b4a87cd8a4d93a4e88bba0b78d4d6495d95e119b22/movo_common/movo_description/urdf/manipulation/robotiq/robotiq_85_gripper.urdf:195: warning: Joint 'gripper_finger2_inner_knuckle_joint' specifies a mimic element that will be ignored. Mimic elements are currently only supported by MultibodyPlant with a discrete time step and using DiscreteContactSolver::kSap.\n",
      "WARNING:drake:/home/dan/.cache/drake/package_map/a9201477a23f410f10d00e86847de778c175d3d3c8971be52a9ac881194e4887-660e65fbc966cbcbcef5a5b4a87cd8a4d93a4e88bba0b78d4d6495d95e119b22/movo_common/movo_description/urdf/manipulation/robotiq/robotiq_85_gripper.urdf:255: warning: Joint 'gripper_finger1_finger_tip_joint' specifies a mimic element that will be ignored. Mimic elements are currently only supported by MultibodyPlant with a discrete time step and using DiscreteContactSolver::kSap.\n",
      "WARNING:drake:/home/dan/.cache/drake/package_map/a9201477a23f410f10d00e86847de778c175d3d3c8971be52a9ac881194e4887-660e65fbc966cbcbcef5a5b4a87cd8a4d93a4e88bba0b78d4d6495d95e119b22/movo_common/movo_description/urdf/manipulation/robotiq/robotiq_85_gripper.urdf:263: warning: Joint 'gripper_finger2_finger_tip_joint' specifies a mimic element that will be ignored. Mimic elements are currently only supported by MultibodyPlant with a discrete time step and using DiscreteContactSolver::kSap.\n"
     ]
    },
    {
     "ename": "RuntimeError",
     "evalue": "error: URI 'package://qr_assets/010_potted_meat_can_hydro.sdf' refers to unknown package 'qr_assets'",
     "output_type": "error",
     "traceback": [
      "\u001B[0;31m---------------------------------------------------------------------------\u001B[0m",
      "\u001B[0;31mRuntimeError\u001B[0m                              Traceback (most recent call last)",
      "Cell \u001B[0;32mIn[13], line 35\u001B[0m\n\u001B[1;32m     33\u001B[0m \u001B[38;5;66;03m# TODO(russt): Grab movo_description as a remote package.\u001B[39;00m\n\u001B[1;32m     34\u001B[0m setup_package_map(v\u001B[38;5;241m.\u001B[39mparser())\n\u001B[0;32m---> 35\u001B[0m \u001B[43mv\u001B[49m\u001B[38;5;241;43m.\u001B[39;49m\u001B[43mparser\u001B[49m\u001B[43m(\u001B[49m\u001B[43m)\u001B[49m\u001B[38;5;241;43m.\u001B[39;49m\u001B[43mAddModelsFromString\u001B[49m\u001B[43m(\u001B[49m\u001B[43mwith_mimic\u001B[49m\u001B[43m,\u001B[49m\u001B[43m \u001B[49m\u001B[38;5;124;43m\"\u001B[39;49m\u001B[38;5;124;43mdmd.yaml\u001B[39;49m\u001B[38;5;124;43m\"\u001B[39;49m\u001B[43m)\u001B[49m\n\u001B[1;32m     36\u001B[0m v\u001B[38;5;241m.\u001B[39mRun(loop_once\u001B[38;5;241m=\u001B[39m\u001B[38;5;28;01mTrue\u001B[39;00m)\n\u001B[1;32m     37\u001B[0m meshcat\u001B[38;5;241m.\u001B[39mSetProperty(\u001B[38;5;124m\"\u001B[39m\u001B[38;5;124mproximity\u001B[39m\u001B[38;5;124m\"\u001B[39m, \u001B[38;5;124m\"\u001B[39m\u001B[38;5;124mvisible\u001B[39m\u001B[38;5;124m\"\u001B[39m, \u001B[38;5;28;01mTrue\u001B[39;00m)\n",
      "\u001B[0;31mRuntimeError\u001B[0m: error: URI 'package://qr_assets/010_potted_meat_can_hydro.sdf' refers to unknown package 'qr_assets'"
     ]
    }
   ],
   "source": [
    "with_mimic = \"\"\"\n",
    "directives:\n",
    "- add_model:\n",
    "    name: robotiq\n",
    "    file: package://movo_description/urdf/manipulation/robotiq/robotiq_85_gripper.urdf\n",
    "\n",
    "- add_weld:\n",
    "    parent: world\n",
    "    child: robotiq::robotiq_coupler_link\n",
    "    X_PC:\n",
    "        rotation: !Rpy { deg: [90.0, 0.0, -90.0 ]}\n",
    "\n",
    "- add_model:\n",
    "    name: spam\n",
    "    file: package://qr_assets/010_potted_meat_can_hydro.sdf\n",
    "    default_free_body_pose: { base_link_meat: { \n",
    "        translation: [0.2, 0.0, 0.0],\n",
    "        rotation: !Rpy { deg: [-90.0, 0.0, 0.0 ]}\n",
    "    } }\n",
    "\n",
    "- add_model:\n",
    "    name: table\n",
    "    file: package://OpenWorldTAMP/models/table.urdf\n",
    "    \n",
    "- add_weld:\n",
    "    parent: world\n",
    "    child: table::base\n",
    "    X_PC:\n",
    "        translation: [0.0, 0.0, -0.775]\n",
    "\"\"\"\n",
    "\n",
    "v = ModelVisualizer(meshcat=meshcat)\n",
    "# TODO(russt): Grab movo_description as a remote package.\n",
    "setup_package_map(v.parser())\n",
    "v.parser().AddModelsFromString(with_mimic, \"dmd.yaml\")\n",
    "v.Run(loop_once=True)\n",
    "meshcat.SetProperty(\"proximity\", \"visible\", True)"
   ]
  },
  {
   "cell_type": "code",
   "execution_count": null,
   "metadata": {},
   "outputs": [],
   "source": [
    "def sim_w_mimic():\n",
    "    builder = DiagramBuilder()\n",
    "    plant, scene_graph = AddMultibodyPlantSceneGraph(builder, time_step=0.002)\n",
    "    plant.set_discrete_contact_solver(DiscreteContactSolver.kSap)\n",
    "    parser = Parser(plant)\n",
    "    setup_package_map(parser)\n",
    "    parser.AddModelsFromString(with_mimic, \"dmd.yaml\")\n",
    "    plant.Finalize()\n",
    "\n",
    "    torque = builder.AddSystem(ConstantVectorSource([1]))\n",
    "    builder.Connect(torque.get_output_port(), plant.get_actuation_input_port())\n",
    "\n",
    "    AddDefaultVisualization(builder, meshcat=meshcat)\n",
    "\n",
    "    diagram = builder.Build()\n",
    "    simulator = Simulator(diagram)\n",
    "\n",
    "    meshcat.StartRecording(set_visualizations_while_recording=False)\n",
    "    simulator.AdvanceTo(10)\n",
    "    meshcat.PublishRecording()\n",
    "\n",
    "sim_w_mimic()"
   ]
  },
  {
   "cell_type": "markdown",
   "metadata": {},
   "source": [
    "# Second attempt -- Using TAMSI + a Linear bushing element\n",
    "\n",
    "Note that the simulation timestep is much smaller.  The contact forces are still jumping all over."
   ]
  },
  {
   "cell_type": "code",
   "execution_count": null,
   "metadata": {},
   "outputs": [],
   "source": [
    "with_bushing = \"\"\"\n",
    "directives:\n",
    "- add_model:\n",
    "    name: robotiq\n",
    "    file: package://movo_description/sdf/manipulation/robotiq_woven/robotiq_85.sdf\n",
    "    default_joint_positions:\n",
    "        l_finger_joint: [0.59]\n",
    "        l_tip_joint: [-0.59]\n",
    "        r_finger_joint: [-0.59]\n",
    "        r_tip_joint: [0.59]\n",
    "\n",
    "- add_weld:\n",
    "    parent: world\n",
    "    child: robotiq::hand_base_link\n",
    "\n",
    "- add_model:\n",
    "    name: spam\n",
    "    file: package://drake/manipulation/models/ycb/sdf/010_potted_meat_can.sdf\n",
    "    default_free_body_pose: { base_link_meat: { \n",
    "        translation: [0.15, 0.0, 0.0],\n",
    "        rotation: !Rpy { deg: [-90.0, 0.0, 0.0 ]}\n",
    "    } }\n",
    "\n",
    "- add_model:\n",
    "    name: table\n",
    "    file: package://drake/examples/kuka_iiwa_arm/models/table/extra_heavy_duty_table_surface_only_collision.sdf\n",
    "    \n",
    "- add_weld:\n",
    "    parent: world\n",
    "    child: table::link\n",
    "    X_PC:\n",
    "        translation: [0.0, 0.0, -0.81]\n",
    "\"\"\"\n",
    "\n",
    "v = ModelVisualizer(meshcat=meshcat)\n",
    "# TODO(russt): Grab movo_description as a remote package.\n",
    "setup_package_map(v.parser())\n",
    "v.parser().package_map().AddPackageXml(\n",
    "    '/home/russt/tmp/movo_description_ws/src/movo_description/package.xml')\n",
    "v.parser().AddModelsFromString(with_bushing, \"dmd.yaml\")\n",
    "v.Run(loop_once=True)"
   ]
  },
  {
   "cell_type": "code",
   "execution_count": null,
   "metadata": {},
   "outputs": [],
   "source": [
    "def sim_w_bushing():\n",
    "    builder = DiagramBuilder()\n",
    "    plant, scene_graph = AddMultibodyPlantSceneGraph(builder, time_step=1e-4)\n",
    "    plant.set_discrete_contact_solver(DiscreteContactSolver.kSap)\n",
    "    parser = Parser(plant)\n",
    "    setup_package_map(parser)\n",
    "    parser.AddModelsFromString(with_bushing, \"dmd.yaml\")\n",
    "\n",
    "    plant.Finalize()\n",
    "\n",
    "    ActuatorView = namedview(\"actuators\", plant.GetActuatorNames())\n",
    "    torque = ActuatorView.Zero()\n",
    "    torque.robotiq_l_actuated_joint = -1\n",
    "    torque.robotiq_r_actuated_joint = 1\n",
    "    torque_source = builder.AddSystem(ConstantVectorSource(torque))\n",
    "    builder.Connect(torque_source.get_output_port(),\n",
    "                    plant.get_actuation_input_port())\n",
    "\n",
    "    AddDefaultVisualization(builder, meshcat=meshcat)\n",
    "\n",
    "    diagram = builder.Build()\n",
    "    simulator = Simulator(diagram)\n",
    "\n",
    "    simulator.AdvanceTo(20)\n",
    "\n",
    "\n",
    "sim_w_bushing()"
   ]
  },
  {
   "cell_type": "markdown",
   "metadata": {},
   "source": []
  },
  {
   "cell_type": "markdown",
   "metadata": {},
   "source": []
  },
  {
   "cell_type": "code",
   "execution_count": null,
   "metadata": {},
   "outputs": [],
   "source": []
  }
 ],
 "metadata": {
  "kernelspec": {
   "name": "pydrake-env",
   "language": "python",
   "display_name": "Python (Pydrake)"
  },
  "language_info": {
   "codemirror_mode": {
    "name": "ipython",
    "version": 3
   },
   "file_extension": ".py",
   "mimetype": "text/x-python",
   "name": "python",
   "nbconvert_exporter": "python",
   "pygments_lexer": "ipython3",
   "version": "3.10.12"
  }
 },
 "nbformat": 4,
 "nbformat_minor": 4
}
