{
 "cells": [
  {
   "cell_type": "markdown",
   "metadata": {
    "id": "EgiF12Hf1Dhs",
    "colab_type": "text",
    "cell_id": "4c1228d114de4758ade60bcb9d38a55d",
    "deepnote_cell_type": "markdown"
   },
   "source": [
    "This notebook provides examples to go along with the [textbook](http://manipulation.csail.mit.edu/pick.html).  I recommend having both windows open, side-by-side!"
   ],
   "block_group": "5f0a8ed9fe114e9d88efbec8df0e8f4e"
  },
  {
   "cell_type": "code",
   "outputs": [],
   "source": [
    "import pydot\n",
    "from IPython.display import SVG, display\n",
    "from pydrake.all import MultibodyPlant, Parser\n",
    "\n",
    "from manipulation.utils import ConfigureParser"
   ],
   "metadata": {
    "collapsed": false,
    "ExecuteTime": {
     "end_time": "2024-03-13T14:56:04.611986Z",
     "start_time": "2024-03-13T14:56:03.435747Z"
    }
   },
   "execution_count": 4
  },
  {
   "cell_type": "markdown",
   "source": [
    "# Inspecting the kinematic tree\n",
    "\n",
    "Here is a simple example that demonstrates how to inspect the kinematic tree stored in a `MultibodyPlant`."
   ],
   "metadata": {
    "collapsed": false
   }
  },
  {
   "cell_type": "code",
   "outputs": [
    {
     "data": {
      "text/plain": "<IPython.core.display.SVG object>",
      "image/svg+xml": "<svg xmlns=\"http://www.w3.org/2000/svg\" xmlns:xlink=\"http://www.w3.org/1999/xlink\" width=\"1047pt\" height=\"381pt\" viewBox=\"0.00 0.00 1047.00 381.00\">\n<g id=\"graph0\" class=\"graph\" transform=\"scale(1 1) rotate(0) translate(4 377)\">\n<title>MultibodyPlant</title>\n<polygon fill=\"white\" stroke=\"transparent\" points=\"-4,4 -4,-377 1043,-377 1043,4 -4,4\"/>\n<g id=\"clust1\" class=\"cluster\">\n<title>cluster0</title>\n<polygon fill=\"none\" stroke=\"black\" points=\"370,-290 370,-365 534,-365 534,-290 370,-290\"/>\n<text text-anchor=\"middle\" x=\"452\" y=\"-297.8\" font-family=\"Times,serif\" font-size=\"14.00\">WorldModelInstance</text>\n</g>\n<g id=\"clust3\" class=\"cluster\">\n<title>cluster2</title>\n<polygon fill=\"none\" stroke=\"black\" points=\"8,-8 8,-257 1022,-257 1022,-8 8,-8\"/>\n<text text-anchor=\"middle\" x=\"515\" y=\"-15.8\" font-family=\"Times,serif\" font-size=\"14.00\">robotiq_arg2f_140_model</text>\n</g>\n<!-- body0 -->\n<g id=\"node1\" class=\"node\">\n<title>body0</title>\n<ellipse fill=\"none\" stroke=\"black\" cx=\"452\" cy=\"-339\" rx=\"37.09\" ry=\"18\"/>\n<text text-anchor=\"middle\" x=\"452\" y=\"-335.3\" font-family=\"Times,serif\" font-size=\"14.00\">world</text>\n</g>\n<!-- body1 -->\n<g id=\"node2\" class=\"node\">\n<title>body1</title>\n<ellipse fill=\"none\" stroke=\"black\" cx=\"452\" cy=\"-231\" rx=\"120.78\" ry=\"18\"/>\n<text text-anchor=\"middle\" x=\"452\" y=\"-227.3\" font-family=\"Times,serif\" font-size=\"14.00\">robotiq_arg2f_base_link</text>\n</g>\n<!-- body1&#45;&gt;body0 -->\n<g id=\"edge7\" class=\"edge\">\n<title>body1-&gt;body0</title>\n<path fill=\"none\" stroke=\"black\" d=\"M452,-249.03C452,-265.62 452,-291.12 452,-310.57\"/>\n<polygon fill=\"black\" stroke=\"black\" points=\"448.5,-310.66 452,-320.66 455.5,-310.66 448.5,-310.66\"/>\n<text text-anchor=\"middle\" x=\"614\" y=\"-270.8\" font-family=\"Times,serif\" font-size=\"14.00\">robotiq_arg2f_base_link [quaternion_floating]</text>\n</g>\n<!-- body2 -->\n<g id=\"node3\" class=\"node\">\n<title>body2</title>\n<ellipse fill=\"none\" stroke=\"black\" cx=\"828\" cy=\"-144\" rx=\"95.58\" ry=\"18\"/>\n<text text-anchor=\"middle\" x=\"828\" y=\"-140.3\" font-family=\"Times,serif\" font-size=\"14.00\">left_outer_knuckle</text>\n</g>\n<!-- body2&#45;&gt;body1 -->\n<g id=\"edge1\" class=\"edge\">\n<title>body2-&gt;body1</title>\n<path fill=\"none\" stroke=\"black\" d=\"M832.93,-162.44C834.82,-173.18 834.92,-186.48 827,-195 810.12,-213.16 681.56,-222.09 579.62,-226.35\"/>\n<polygon fill=\"black\" stroke=\"black\" points=\"579.37,-222.86 569.52,-226.76 579.66,-229.85 579.37,-222.86\"/>\n<text text-anchor=\"middle\" x=\"911\" y=\"-183.8\" font-family=\"Times,serif\" font-size=\"14.00\">finger_joint [revolute]</text>\n</g>\n<!-- body3 -->\n<g id=\"node4\" class=\"node\">\n<title>body3</title>\n<ellipse fill=\"none\" stroke=\"black\" cx=\"783\" cy=\"-57\" rx=\"87.18\" ry=\"18\"/>\n<text text-anchor=\"middle\" x=\"783\" y=\"-53.3\" font-family=\"Times,serif\" font-size=\"14.00\">left_inner_finger</text>\n</g>\n<!-- body3&#45;&gt;body2 -->\n<g id=\"edge2\" class=\"edge\">\n<title>body3-&gt;body2</title>\n<path fill=\"none\" stroke=\"black\" d=\"M792.11,-75.2C798.45,-87.18 807.03,-103.38 814.21,-116.94\"/>\n<polygon fill=\"black\" stroke=\"black\" points=\"811.13,-118.62 818.91,-125.82 817.32,-115.35 811.13,-118.62\"/>\n<text text-anchor=\"middle\" x=\"923.5\" y=\"-96.8\" font-family=\"Times,serif\" font-size=\"14.00\">left_inner_finger_joint [revolute]</text>\n</g>\n<!-- body4 -->\n<g id=\"node5\" class=\"node\">\n<title>body4</title>\n<ellipse fill=\"none\" stroke=\"black\" cx=\"591\" cy=\"-144\" rx=\"94.78\" ry=\"18\"/>\n<text text-anchor=\"middle\" x=\"591\" y=\"-140.3\" font-family=\"Times,serif\" font-size=\"14.00\">left_inner_knuckle</text>\n</g>\n<!-- body4&#45;&gt;body1 -->\n<g id=\"edge3\" class=\"edge\">\n<title>body4-&gt;body1</title>\n<path fill=\"none\" stroke=\"black\" d=\"M587.4,-162.03C584.27,-172.88 578.67,-186.46 569,-195 560.34,-202.65 550.05,-208.63 539.24,-213.31\"/>\n<polygon fill=\"black\" stroke=\"black\" points=\"537.65,-210.17 529.62,-217.09 540.21,-216.69 537.65,-210.17\"/>\n<text text-anchor=\"middle\" x=\"701\" y=\"-183.8\" font-family=\"Times,serif\" font-size=\"14.00\">left_inner_knuckle_joint [revolute]</text>\n</g>\n<!-- body5 -->\n<g id=\"node6\" class=\"node\">\n<title>body5</title>\n<ellipse fill=\"none\" stroke=\"black\" cx=\"342\" cy=\"-144\" rx=\"102.88\" ry=\"18\"/>\n<text text-anchor=\"middle\" x=\"342\" y=\"-140.3\" font-family=\"Times,serif\" font-size=\"14.00\">right_inner_knuckle</text>\n</g>\n<!-- body5&#45;&gt;body1 -->\n<g id=\"edge4\" class=\"edge\">\n<title>body5-&gt;body1</title>\n<path fill=\"none\" stroke=\"black\" d=\"M322.56,-162C313.4,-172.06 306.06,-184.79 314,-195 320.61,-203.5 338.72,-210.27 359.72,-215.5\"/>\n<polygon fill=\"black\" stroke=\"black\" points=\"359.01,-218.93 369.55,-217.8 360.61,-212.11 359.01,-218.93\"/>\n<text text-anchor=\"middle\" x=\"441.5\" y=\"-183.8\" font-family=\"Times,serif\" font-size=\"14.00\">right_inner_knuckle_joint [revolute]</text>\n</g>\n<!-- body6 -->\n<g id=\"node7\" class=\"node\">\n<title>body6</title>\n<ellipse fill=\"none\" stroke=\"black\" cx=\"119\" cy=\"-144\" rx=\"102.88\" ry=\"18\"/>\n<text text-anchor=\"middle\" x=\"119\" y=\"-140.3\" font-family=\"Times,serif\" font-size=\"14.00\">right_outer_knuckle</text>\n</g>\n<!-- body6&#45;&gt;body1 -->\n<g id=\"edge5\" class=\"edge\">\n<title>body6-&gt;body1</title>\n<path fill=\"none\" stroke=\"black\" d=\"M73.47,-160.17C53.66,-169.13 37.5,-181.37 50,-195 68.38,-215.05 212.36,-223.65 322.81,-227.32\"/>\n<polygon fill=\"black\" stroke=\"black\" points=\"322.95,-230.83 333.05,-227.65 323.17,-223.83 322.95,-230.83\"/>\n<text text-anchor=\"middle\" x=\"178\" y=\"-183.8\" font-family=\"Times,serif\" font-size=\"14.00\">right_outer_knuckle_joint [revolute]</text>\n</g>\n<!-- body7 -->\n<g id=\"node8\" class=\"node\">\n<title>body7</title>\n<ellipse fill=\"none\" stroke=\"black\" cx=\"119\" cy=\"-57\" rx=\"94.48\" ry=\"18\"/>\n<text text-anchor=\"middle\" x=\"119\" y=\"-53.3\" font-family=\"Times,serif\" font-size=\"14.00\">right_inner_finger</text>\n</g>\n<!-- body7&#45;&gt;body6 -->\n<g id=\"edge6\" class=\"edge\">\n<title>body7-&gt;body6</title>\n<path fill=\"none\" stroke=\"black\" d=\"M119,-75.2C119,-86.84 119,-102.45 119,-115.76\"/>\n<polygon fill=\"black\" stroke=\"black\" points=\"115.5,-115.82 119,-125.82 122.5,-115.82 115.5,-115.82\"/>\n<text text-anchor=\"middle\" x=\"240\" y=\"-96.8\" font-family=\"Times,serif\" font-size=\"14.00\">right_inner_finger_joint [revolute]</text>\n</g>\n</g>\n</svg>"
     },
     "metadata": {},
     "output_type": "display_data"
    }
   ],
   "source": [
    "def kinematic_tree_example():\n",
    "    plant = MultibodyPlant(time_step=0.0)\n",
    "    parser = Parser(plant)\n",
    "    ConfigureParser(parser)\n",
    "    '''parser.AddModelsFromUrl(\n",
    "        \"package://drake/manipulation/models/allegro_hand_description/sdf/allegro_hand_description_right.sdf\"\n",
    "    )'''\n",
    "    '''parser.AddModelsFromUrl(\n",
    "        \"package://drake_models/atlas/robotiq_simple.urdf\"\n",
    "    )'''\n",
    "    '''parser.AddModelsFromUrl(\n",
    "            \"package://drake/manipulation/models/wsg_50_description/sdf/schunk_wsg_50_no_tip.sdf\"\n",
    "    )'''\n",
    "    '''parser.AddModelsFromUrl(\n",
    "        \"package://drake/examples/manipulation_station/models/061_foam_brick.sdf\"\n",
    "    )'''\n",
    "    parser.AddModels(\"/home/dan/Projects/Pydrake-robotiq140/models/robotiq_arg2f_140_model.sdf\")\n",
    "    #parser.AddModels(\"/home/dan/Projects/Pydrake-robotiq140/models/robotiq_85_gripper_xuchenhan-tri.urdf\")\n",
    "    \n",
    "\n",
    "    \n",
    "    plant.Finalize()\n",
    "\n",
    "    # TODO(russt): Add floating base connections\n",
    "    # TODO(russt): Consider a more interactive javascript rendering?\n",
    "    display(\n",
    "        SVG(\n",
    "            pydot.graph_from_dot_data(plant.GetTopologyGraphvizString())[0].create_svg()\n",
    "        )\n",
    "    )\n",
    "\n",
    "\n",
    "kinematic_tree_example()"
   ],
   "metadata": {
    "collapsed": false,
    "ExecuteTime": {
     "end_time": "2024-03-13T15:17:26.612494Z",
     "start_time": "2024-03-13T15:17:26.374181Z"
    }
   },
   "execution_count": 11
  },
  {
   "cell_type": "code",
   "outputs": [],
   "source": [],
   "metadata": {
    "collapsed": false
   }
  },
  {
   "cell_type": "markdown",
   "source": [
    "<a style='text-decoration:none;line-height:16px;display:flex;color:#5B5B62;padding:10px;justify-content:end;' href='https://deepnote.com?utm_source=created-in-deepnote-cell&projectId=f0b1cabc-34db-4d1b-ba7e-872ed2fe3b85' target=\"_blank\">\n",
    "<img alt='Created in deepnote.com' style='display:inline;max-height:16px;margin:0px;margin-right:7.5px;' src='data:image/svg+xml;base64,PD94bWwgdmVyc2lvbj0iMS4wIiBlbmNvZGluZz0iVVRGLTgiPz4KPHN2ZyB3aWR0aD0iODBweCIgaGVpZ2h0PSI4MHB4IiB2aWV3Qm94PSIwIDAgODAgODAiIHZlcnNpb249IjEuMSIgeG1sbnM9Imh0dHA6Ly93d3cudzMub3JnLzIwMDAvc3ZnIiB4bWxuczp4bGluaz0iaHR0cDovL3d3dy53My5vcmcvMTk5OS94bGluayI+CiAgICA8IS0tIEdlbmVyYXRvcjogU2tldGNoIDU0LjEgKDc2NDkwKSAtIGh0dHBzOi8vc2tldGNoYXBwLmNvbSAtLT4KICAgIDx0aXRsZT5Hcm91cCAzPC90aXRsZT4KICAgIDxkZXNjPkNyZWF0ZWQgd2l0aCBTa2V0Y2guPC9kZXNjPgogICAgPGcgaWQ9IkxhbmRpbmciIHN0cm9rZT0ibm9uZSIgc3Ryb2tlLXdpZHRoPSIxIiBmaWxsPSJub25lIiBmaWxsLXJ1bGU9ImV2ZW5vZGQiPgogICAgICAgIDxnIGlkPSJBcnRib2FyZCIgdHJhbnNmb3JtPSJ0cmFuc2xhdGUoLTEyMzUuMDAwMDAwLCAtNzkuMDAwMDAwKSI+CiAgICAgICAgICAgIDxnIGlkPSJHcm91cC0zIiB0cmFuc2Zvcm09InRyYW5zbGF0ZSgxMjM1LjAwMDAwMCwgNzkuMDAwMDAwKSI+CiAgICAgICAgICAgICAgICA8cG9seWdvbiBpZD0iUGF0aC0yMCIgZmlsbD0iIzAyNjVCNCIgcG9pbnRzPSIyLjM3NjIzNzYyIDgwIDM4LjA0NzY2NjcgODAgNTcuODIxNzgyMiA3My44MDU3NTkyIDU3LjgyMTc4MjIgMzIuNzU5MjczOSAzOS4xNDAyMjc4IDMxLjY4MzE2ODMiPjwvcG9seWdvbj4KICAgICAgICAgICAgICAgIDxwYXRoIGQ9Ik0zNS4wMDc3MTgsODAgQzQyLjkwNjIwMDcsNzYuNDU0OTM1OCA0Ny41NjQ5MTY3LDcxLjU0MjI2NzEgNDguOTgzODY2LDY1LjI2MTk5MzkgQzUxLjExMjI4OTksNTUuODQxNTg0MiA0MS42NzcxNzk1LDQ5LjIxMjIyODQgMjUuNjIzOTg0Niw0OS4yMTIyMjg0IEMyNS40ODQ5Mjg5LDQ5LjEyNjg0NDggMjkuODI2MTI5Niw0My4yODM4MjQ4IDM4LjY0NzU4NjksMzEuNjgzMTY4MyBMNzIuODcxMjg3MSwzMi41NTQ0MjUgTDY1LjI4MDk3Myw2Ny42NzYzNDIxIEw1MS4xMTIyODk5LDc3LjM3NjE0NCBMMzUuMDA3NzE4LDgwIFoiIGlkPSJQYXRoLTIyIiBmaWxsPSIjMDAyODY4Ij48L3BhdGg+CiAgICAgICAgICAgICAgICA8cGF0aCBkPSJNMCwzNy43MzA0NDA1IEwyNy4xMTQ1MzcsMC4yNTcxMTE0MzYgQzYyLjM3MTUxMjMsLTEuOTkwNzE3MDEgODAsMTAuNTAwMzkyNyA4MCwzNy43MzA0NDA1IEM4MCw2NC45NjA0ODgyIDY0Ljc3NjUwMzgsNzkuMDUwMzQxNCAzNC4zMjk1MTEzLDgwIEM0Ny4wNTUzNDg5LDc3LjU2NzA4MDggNTMuNDE4MjY3Nyw3MC4zMTM2MTAzIDUzLjQxODI2NzcsNTguMjM5NTg4NSBDNTMuNDE4MjY3Nyw0MC4xMjg1NTU3IDM2LjMwMzk1NDQsMzcuNzMwNDQwNSAyNS4yMjc0MTcsMzcuNzMwNDQwNSBDMTcuODQzMDU4NiwzNy43MzA0NDA1IDkuNDMzOTE5NjYsMzcuNzMwNDQwNSAwLDM3LjczMDQ0MDUgWiIgaWQ9IlBhdGgtMTkiIGZpbGw9IiMzNzkzRUYiPjwvcGF0aD4KICAgICAgICAgICAgPC9nPgogICAgICAgIDwvZz4KICAgIDwvZz4KPC9zdmc+' > </img>\n",
    "Created in <span style='font-weight:600;margin-left:4px;'>Deepnote</span></a>"
   ],
   "metadata": {
    "created_in_deepnote_cell": true,
    "deepnote_cell_type": "markdown"
   }
  }
 ],
 "nbformat": 4,
 "nbformat_minor": 0,
 "metadata": {
  "deepnote_notebook_id": "9c44fec83ca54c70827b3f592c2c958a",
  "deepnote_execution_queue": [],
  "kernelspec": {
   "name": "pydrake-robotiq140",
   "language": "python",
   "display_name": "Python (Pydrake-robotiq140)"
  }
 }
}
