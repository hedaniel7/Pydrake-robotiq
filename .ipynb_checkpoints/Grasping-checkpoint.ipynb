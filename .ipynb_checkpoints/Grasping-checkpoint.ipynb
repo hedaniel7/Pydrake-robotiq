{
 "cells": [
  {
   "cell_type": "raw",
   "source": [],
   "metadata": {
    "collapsed": false
   },
   "id": "3e9bd7634aa14207"
  }
 ],
 "metadata": {},
 "nbformat": 4,
 "nbformat_minor": 5
}
