{
 "cells": [
  {
   "cell_type": "markdown",
   "metadata": {
    "cell_id": "b26d77c50bad4fad8f917d7745cc6008",
    "colab_type": "text",
    "deepnote_cell_type": "markdown",
    "id": "EgiF12Hf1Dhs"
   },
   "source": [
    "This notebook provides examples to go along with the [textbook](http://manipulation.csail.mit.edu/pick.html).  I recommend having both windows open, side-by-side!"
   ]
  },
  {
   "cell_type": "code",
   "execution_count": 17,
   "metadata": {
    "collapsed": false,
    "ExecuteTime": {
     "end_time": "2024-03-25T09:01:15.756791Z",
     "start_time": "2024-03-25T09:01:15.751422Z"
    }
   },
   "outputs": [],
   "source": [
    "import mpld3\n",
    "import numpy as np\n",
    "from matplotlib import pyplot as plt\n",
    "from pydrake.all import (\n",
    "    AddMultibodyPlantSceneGraph,\n",
    "    AngleAxis,\n",
    "    DiagramBuilder,\n",
    "    Integrator,\n",
    "    JacobianWrtVariable,\n",
    "    LeafSystem,\n",
    "    MeshcatVisualizer,\n",
    "    MultibodyPlant,\n",
    "    MultibodyPositionToGeometryPose,\n",
    "    Parser,\n",
    "    PiecewisePolynomial,\n",
    "    PiecewisePose,\n",
    "    Quaternion,\n",
    "    Rgba,\n",
    "    RigidTransform,\n",
    "    RotationMatrix,\n",
    "    SceneGraph,\n",
    "    Simulator,\n",
    "    StartMeshcat,\n",
    "    TrajectorySource,\n",
    "    AddFrameTriadIllustration\n",
    ")\n",
    "\n",
    "from manipulation import running_as_notebook\n",
    "from manipulation.station import MakeHardwareStation, load_scenario\n",
    "from manipulation.utils import RenderDiagram\n",
    "\n",
    "if running_as_notebook:\n",
    "    mpld3.enable_notebook()"
   ]
  },
  {
   "cell_type": "code",
   "execution_count": 2,
   "metadata": {
    "collapsed": false,
    "ExecuteTime": {
     "end_time": "2024-03-25T08:13:43.644657Z",
     "start_time": "2024-03-25T08:13:43.635238Z"
    }
   },
   "outputs": [
    {
     "name": "stderr",
     "output_type": "stream",
     "text": [
      "INFO:drake:Meshcat listening for connections at http://localhost:7000\n"
     ]
    }
   ],
   "source": [
    "# Start the visualizer.\n",
    "meshcat = StartMeshcat()"
   ]
  },
  {
   "cell_type": "markdown",
   "metadata": {
    "collapsed": false
   },
   "source": [
    "# A pick and place \"sketch\" with keyframes\n",
    "\n",
    "Let's first define the canonical frames of our problem.  We've got a handful of them, and will pass them in and out of several functions, so I'll use a dictionary to store them.\n",
    "\n",
    "Note: I've added one more frame into the mix here, to get some clearance when moving between the bins.  Leaving it out gave me a nice [robot outtake](http://manipulation.csail.mit.edu/data/pick_fail.html)."
   ]
  },
  {
   "cell_type": "code",
   "execution_count": 75,
   "metadata": {
    "collapsed": false,
    "ExecuteTime": {
     "end_time": "2024-03-25T09:57:36.368263Z",
     "start_time": "2024-03-25T09:57:36.353070Z"
    }
   },
   "outputs": [
    {
     "name": "stdout",
     "output_type": "stream",
     "text": [
      "Sanity check: The entire maneuver will take 30.894943136056376 seconds to execute.\n"
     ]
    }
   ],
   "source": [
    "def MakeGripperFrames(X_WG, X_WO):\n",
    "    \"\"\"\n",
    "    Takes a partial specification with X_G[\"initial\"] and X_O[\"initial\"] and\n",
    "    X_0[\"goal\"], and returns a X_G and times with all of the pick and place\n",
    "    frames populated.\n",
    "    \"\"\"\n",
    "    ## Correction for Robotiq 140\n",
    "    # p_GgraspGgcorr = [0, -0.09, 0] # looks no distance to the ground\n",
    "    p_GgraspGgcorr = [0, -0.0925, 0] # added some distance to the ground\n",
    "    \n",
    "    #Original\n",
    "    '''R_GgraspO = RotationMatrix.MakeXRotation(\n",
    "        np.pi / 2.0\n",
    "    ) @ RotationMatrix.MakeZRotation(np.pi / 2.0)'''\n",
    "    \n",
    "    R_GgraspGgcorr = RotationMatrix.MakeXRotation(\n",
    "        -np.pi/2\n",
    "    ) #@ RotationMatrix.MakeZRotation(np.pi)\n",
    "    \n",
    "    X_GgraspGgcorr = RigidTransform(R_GgraspGgcorr, p_GgraspGgcorr)\n",
    "    \n",
    "    ## Correction end\n",
    "    \n",
    "    \n",
    "    # Define (again) the gripper pose relative to the object when in grasp.\n",
    "    p_GgraspO = [0, 0.12, 0]\n",
    "    \n",
    "    #Original\n",
    "    '''R_GgraspO = RotationMatrix.MakeXRotation(\n",
    "        np.pi / 2.0\n",
    "    ) @ RotationMatrix.MakeZRotation(np.pi / 2.0)'''\n",
    "    \n",
    "    R_GgraspO = RotationMatrix.MakeXRotation(\n",
    "        np.pi/2\n",
    "    ) #@ RotationMatrix.MakeZRotation(np.pi)\n",
    "    \n",
    "    X_GgraspO = RigidTransform(R_GgraspO, p_GgraspO)\n",
    "    X_OGgrasp = X_GgraspO.inverse()\n",
    "    # pregrasp is negative y in the gripper frame (see the figure!).\n",
    "    X_GgraspGpregrasp = RigidTransform([0, 0, -0.08])\n",
    "\n",
    "    # X_WG[\"pick\"] = X_WO[\"initial\"] @ X_OGgrasp # original\n",
    "    X_WG[\"pick\"] = X_WO[\"initial\"] @ X_OGgrasp @ X_GgraspGgcorr\n",
    "    X_WG[\"prepick\"] = X_WG[\"pick\"] @ X_GgraspGpregrasp \n",
    "    X_WG[\"place\"] = X_WO[\"goal\"] @ X_OGgrasp @ X_GgraspGgcorr\n",
    "    X_WG[\"preplace\"] = X_WG[\"place\"] @ X_GgraspGpregrasp\n",
    "\n",
    "    # I'll interpolate a halfway orientation by converting to axis angle and halving the angle.\n",
    "    X_GprepickGpreplace = X_WG[\"pick\"].inverse() @ X_WG[\"place\"] \n",
    "    angle_axis = X_GprepickGpreplace.rotation().ToAngleAxis()\n",
    "    X_GprepickGclearance = RigidTransform(\n",
    "        AngleAxis(angle=angle_axis.angle() / 2.0, axis=angle_axis.axis()),\n",
    "        X_GprepickGpreplace.translation() / 2.0 + np.array([0, 0, -0.3]),\n",
    "    )\n",
    "    X_WG[\"clearance\"] = X_WG[\"prepick\"] @ X_GprepickGclearance\n",
    "\n",
    "    # Now let's set the timing\n",
    "    times = {\"initial\": 0}\n",
    "    X_GinitialGprepick = X_G[\"initial\"].inverse() @ X_WG[\"prepick\"]\n",
    "    times[\"prepick\"] = times[\"initial\"] + 10.0 * np.linalg.norm(\n",
    "        X_GinitialGprepick.translation()\n",
    "    )\n",
    "    # Allow some time for the gripper to close.\n",
    "    times[\"pick_start\"] = times[\"prepick\"] + 2.0\n",
    "    times[\"pick_end\"] = times[\"pick_start\"] + 2.0\n",
    "    X_WG[\"pick_start\"] = X_WG[\"pick\"]\n",
    "    X_WG[\"pick_end\"] = X_WG[\"pick\"]\n",
    "    times[\"postpick\"] = times[\"pick_end\"] + 2.0\n",
    "    X_WG[\"postpick\"] = X_WG[\"prepick\"]\n",
    "    time_to_from_clearance = 10.0 * np.linalg.norm(X_GprepickGclearance.translation())\n",
    "    times[\"clearance\"] = times[\"postpick\"] + time_to_from_clearance\n",
    "    times[\"preplace\"] = times[\"clearance\"] + time_to_from_clearance\n",
    "    times[\"place_start\"] = times[\"preplace\"] + 2.0\n",
    "    times[\"place_end\"] = times[\"place_start\"] + 2.0\n",
    "    X_WG[\"place_start\"] = X_WG[\"place\"]\n",
    "    X_WG[\"place_end\"] = X_WG[\"place\"]\n",
    "    times[\"postplace\"] = times[\"place_end\"] + 2.0\n",
    "    X_WG[\"postplace\"] = X_WG[\"preplace\"]\n",
    "\n",
    "    return X_WG, times\n",
    "\n",
    "\n",
    "X_G = {\n",
    "    \"initial\": RigidTransform(\n",
    "        RotationMatrix.MakeZRotation(np.pi/2) @ RotationMatrix.MakeXRotation(np.pi), [0, -0.25, 0.325]\n",
    "    )\n",
    "}\n",
    "\n",
    "'''X_G = {\n",
    "    \"initial\": RigidTransform(\n",
    "        RotationMatrix.MakeXRotation(-np.pi), [0, -0.25, 0.25]\n",
    "    )\n",
    "}'''\n",
    "\n",
    "X_O = {\n",
    "    \"initial\": RigidTransform(\n",
    "        RotationMatrix.MakeZRotation(np.pi / 2.0), [-0.2, -0.75, 0.025]\n",
    "    ),\n",
    "    \"goal\": RigidTransform(RotationMatrix.MakeZRotation(np.pi), [0.75, 0, 0.025]),\n",
    "}\n",
    "X_G, times = MakeGripperFrames(X_G, X_O)\n",
    "print(\n",
    "    f\"Sanity check: The entire maneuver will take {times['postplace']} seconds to execute.\"\n",
    ")"
   ]
  },
  {
   "cell_type": "code",
   "outputs": [],
   "source": [
    "Here's a simple visualization of those frames.  Use the controls menu in meshcat to view the different objects on the different \"paths\" to understand which objects belong to which frames.  Everything look reasonable?\n",
    "\n",
    "Try changing the initial and final pose of the gripper / object."
   ],
   "metadata": {
    "collapsed": false
   }
  },
  {
   "cell_type": "code",
   "execution_count": 76,
   "metadata": {
    "collapsed": false,
    "ExecuteTime": {
     "end_time": "2024-03-25T09:57:38.860859Z",
     "start_time": "2024-03-25T09:57:38.160734Z"
    }
   },
   "outputs": [
    {
     "name": "stderr",
     "output_type": "stream",
     "text": [
      "WARNING:drake:/home/dan/Projects/Pydrake-robotiq140/catkin_ws/src/robotiq/robotiq_2f_140_gripper_visualization/urdf/robotiq_arg2f_140_model.urdf:264: warning: Joint 'left_inner_knuckle_joint' specifies a mimic element that will be ignored. Mimic elements are currently only supported by MultibodyPlant with a discrete time step and using DiscreteContactSolver::kSap.\n",
      "WARNING:drake:/home/dan/Projects/Pydrake-robotiq140/catkin_ws/src/robotiq/robotiq_2f_140_gripper_visualization/urdf/robotiq_arg2f_140_model.urdf:272: warning: Joint 'left_inner_finger_joint' specifies a mimic element that will be ignored. Mimic elements are currently only supported by MultibodyPlant with a discrete time step and using DiscreteContactSolver::kSap.\n",
      "WARNING:drake:/home/dan/Projects/Pydrake-robotiq140/catkin_ws/src/robotiq/robotiq_2f_140_gripper_visualization/urdf/robotiq_arg2f_140_model.urdf:286: warning: Joint 'right_outer_knuckle_joint' specifies a mimic element that will be ignored. Mimic elements are currently only supported by MultibodyPlant with a discrete time step and using DiscreteContactSolver::kSap.\n",
      "WARNING:drake:/home/dan/Projects/Pydrake-robotiq140/catkin_ws/src/robotiq/robotiq_2f_140_gripper_visualization/urdf/robotiq_arg2f_140_model.urdf:300: warning: Joint 'right_inner_knuckle_joint' specifies a mimic element that will be ignored. Mimic elements are currently only supported by MultibodyPlant with a discrete time step and using DiscreteContactSolver::kSap.\n",
      "WARNING:drake:/home/dan/Projects/Pydrake-robotiq140/catkin_ws/src/robotiq/robotiq_2f_140_gripper_visualization/urdf/robotiq_arg2f_140_model.urdf:308: warning: Joint 'right_inner_finger_joint' specifies a mimic element that will be ignored. Mimic elements are currently only supported by MultibodyPlant with a discrete time step and using DiscreteContactSolver::kSap.\n",
      "WARNING:drake:/home/dan/Projects/Pydrake-robotiq140/catkin_ws/src/robotiq/robotiq_2f_140_gripper_visualization/urdf/robotiq_arg2f_140_model.urdf:264: warning: Joint 'left_inner_knuckle_joint' specifies a mimic element that will be ignored. Mimic elements are currently only supported by MultibodyPlant with a discrete time step and using DiscreteContactSolver::kSap.\n",
      "WARNING:drake:/home/dan/Projects/Pydrake-robotiq140/catkin_ws/src/robotiq/robotiq_2f_140_gripper_visualization/urdf/robotiq_arg2f_140_model.urdf:272: warning: Joint 'left_inner_finger_joint' specifies a mimic element that will be ignored. Mimic elements are currently only supported by MultibodyPlant with a discrete time step and using DiscreteContactSolver::kSap.\n",
      "WARNING:drake:/home/dan/Projects/Pydrake-robotiq140/catkin_ws/src/robotiq/robotiq_2f_140_gripper_visualization/urdf/robotiq_arg2f_140_model.urdf:286: warning: Joint 'right_outer_knuckle_joint' specifies a mimic element that will be ignored. Mimic elements are currently only supported by MultibodyPlant with a discrete time step and using DiscreteContactSolver::kSap.\n",
      "WARNING:drake:/home/dan/Projects/Pydrake-robotiq140/catkin_ws/src/robotiq/robotiq_2f_140_gripper_visualization/urdf/robotiq_arg2f_140_model.urdf:300: warning: Joint 'right_inner_knuckle_joint' specifies a mimic element that will be ignored. Mimic elements are currently only supported by MultibodyPlant with a discrete time step and using DiscreteContactSolver::kSap.\n",
      "WARNING:drake:/home/dan/Projects/Pydrake-robotiq140/catkin_ws/src/robotiq/robotiq_2f_140_gripper_visualization/urdf/robotiq_arg2f_140_model.urdf:308: warning: Joint 'right_inner_finger_joint' specifies a mimic element that will be ignored. Mimic elements are currently only supported by MultibodyPlant with a discrete time step and using DiscreteContactSolver::kSap.\n",
      "WARNING:drake:/home/dan/Projects/Pydrake-robotiq140/catkin_ws/src/robotiq/robotiq_2f_140_gripper_visualization/urdf/robotiq_arg2f_140_model.urdf:264: warning: Joint 'left_inner_knuckle_joint' specifies a mimic element that will be ignored. Mimic elements are currently only supported by MultibodyPlant with a discrete time step and using DiscreteContactSolver::kSap.\n",
      "WARNING:drake:/home/dan/Projects/Pydrake-robotiq140/catkin_ws/src/robotiq/robotiq_2f_140_gripper_visualization/urdf/robotiq_arg2f_140_model.urdf:272: warning: Joint 'left_inner_finger_joint' specifies a mimic element that will be ignored. Mimic elements are currently only supported by MultibodyPlant with a discrete time step and using DiscreteContactSolver::kSap.\n",
      "WARNING:drake:/home/dan/Projects/Pydrake-robotiq140/catkin_ws/src/robotiq/robotiq_2f_140_gripper_visualization/urdf/robotiq_arg2f_140_model.urdf:286: warning: Joint 'right_outer_knuckle_joint' specifies a mimic element that will be ignored. Mimic elements are currently only supported by MultibodyPlant with a discrete time step and using DiscreteContactSolver::kSap.\n",
      "WARNING:drake:/home/dan/Projects/Pydrake-robotiq140/catkin_ws/src/robotiq/robotiq_2f_140_gripper_visualization/urdf/robotiq_arg2f_140_model.urdf:300: warning: Joint 'right_inner_knuckle_joint' specifies a mimic element that will be ignored. Mimic elements are currently only supported by MultibodyPlant with a discrete time step and using DiscreteContactSolver::kSap.\n",
      "WARNING:drake:/home/dan/Projects/Pydrake-robotiq140/catkin_ws/src/robotiq/robotiq_2f_140_gripper_visualization/urdf/robotiq_arg2f_140_model.urdf:308: warning: Joint 'right_inner_finger_joint' specifies a mimic element that will be ignored. Mimic elements are currently only supported by MultibodyPlant with a discrete time step and using DiscreteContactSolver::kSap.\n",
      "WARNING:drake:/home/dan/Projects/Pydrake-robotiq140/catkin_ws/src/robotiq/robotiq_2f_140_gripper_visualization/urdf/robotiq_arg2f_140_model.urdf:264: warning: Joint 'left_inner_knuckle_joint' specifies a mimic element that will be ignored. Mimic elements are currently only supported by MultibodyPlant with a discrete time step and using DiscreteContactSolver::kSap.\n",
      "WARNING:drake:/home/dan/Projects/Pydrake-robotiq140/catkin_ws/src/robotiq/robotiq_2f_140_gripper_visualization/urdf/robotiq_arg2f_140_model.urdf:272: warning: Joint 'left_inner_finger_joint' specifies a mimic element that will be ignored. Mimic elements are currently only supported by MultibodyPlant with a discrete time step and using DiscreteContactSolver::kSap.\n",
      "WARNING:drake:/home/dan/Projects/Pydrake-robotiq140/catkin_ws/src/robotiq/robotiq_2f_140_gripper_visualization/urdf/robotiq_arg2f_140_model.urdf:286: warning: Joint 'right_outer_knuckle_joint' specifies a mimic element that will be ignored. Mimic elements are currently only supported by MultibodyPlant with a discrete time step and using DiscreteContactSolver::kSap.\n",
      "WARNING:drake:/home/dan/Projects/Pydrake-robotiq140/catkin_ws/src/robotiq/robotiq_2f_140_gripper_visualization/urdf/robotiq_arg2f_140_model.urdf:300: warning: Joint 'right_inner_knuckle_joint' specifies a mimic element that will be ignored. Mimic elements are currently only supported by MultibodyPlant with a discrete time step and using DiscreteContactSolver::kSap.\n",
      "WARNING:drake:/home/dan/Projects/Pydrake-robotiq140/catkin_ws/src/robotiq/robotiq_2f_140_gripper_visualization/urdf/robotiq_arg2f_140_model.urdf:308: warning: Joint 'right_inner_finger_joint' specifies a mimic element that will be ignored. Mimic elements are currently only supported by MultibodyPlant with a discrete time step and using DiscreteContactSolver::kSap.\n",
      "WARNING:drake:/home/dan/Projects/Pydrake-robotiq140/catkin_ws/src/robotiq/robotiq_2f_140_gripper_visualization/urdf/robotiq_arg2f_140_model.urdf:264: warning: Joint 'left_inner_knuckle_joint' specifies a mimic element that will be ignored. Mimic elements are currently only supported by MultibodyPlant with a discrete time step and using DiscreteContactSolver::kSap.\n",
      "WARNING:drake:/home/dan/Projects/Pydrake-robotiq140/catkin_ws/src/robotiq/robotiq_2f_140_gripper_visualization/urdf/robotiq_arg2f_140_model.urdf:272: warning: Joint 'left_inner_finger_joint' specifies a mimic element that will be ignored. Mimic elements are currently only supported by MultibodyPlant with a discrete time step and using DiscreteContactSolver::kSap.\n",
      "WARNING:drake:/home/dan/Projects/Pydrake-robotiq140/catkin_ws/src/robotiq/robotiq_2f_140_gripper_visualization/urdf/robotiq_arg2f_140_model.urdf:286: warning: Joint 'right_outer_knuckle_joint' specifies a mimic element that will be ignored. Mimic elements are currently only supported by MultibodyPlant with a discrete time step and using DiscreteContactSolver::kSap.\n",
      "WARNING:drake:/home/dan/Projects/Pydrake-robotiq140/catkin_ws/src/robotiq/robotiq_2f_140_gripper_visualization/urdf/robotiq_arg2f_140_model.urdf:300: warning: Joint 'right_inner_knuckle_joint' specifies a mimic element that will be ignored. Mimic elements are currently only supported by MultibodyPlant with a discrete time step and using DiscreteContactSolver::kSap.\n",
      "WARNING:drake:/home/dan/Projects/Pydrake-robotiq140/catkin_ws/src/robotiq/robotiq_2f_140_gripper_visualization/urdf/robotiq_arg2f_140_model.urdf:308: warning: Joint 'right_inner_finger_joint' specifies a mimic element that will be ignored. Mimic elements are currently only supported by MultibodyPlant with a discrete time step and using DiscreteContactSolver::kSap.\n",
      "WARNING:drake:/home/dan/Projects/Pydrake-robotiq140/catkin_ws/src/robotiq/robotiq_2f_140_gripper_visualization/urdf/robotiq_arg2f_140_model.urdf:264: warning: Joint 'left_inner_knuckle_joint' specifies a mimic element that will be ignored. Mimic elements are currently only supported by MultibodyPlant with a discrete time step and using DiscreteContactSolver::kSap.\n",
      "WARNING:drake:/home/dan/Projects/Pydrake-robotiq140/catkin_ws/src/robotiq/robotiq_2f_140_gripper_visualization/urdf/robotiq_arg2f_140_model.urdf:272: warning: Joint 'left_inner_finger_joint' specifies a mimic element that will be ignored. Mimic elements are currently only supported by MultibodyPlant with a discrete time step and using DiscreteContactSolver::kSap.\n",
      "WARNING:drake:/home/dan/Projects/Pydrake-robotiq140/catkin_ws/src/robotiq/robotiq_2f_140_gripper_visualization/urdf/robotiq_arg2f_140_model.urdf:286: warning: Joint 'right_outer_knuckle_joint' specifies a mimic element that will be ignored. Mimic elements are currently only supported by MultibodyPlant with a discrete time step and using DiscreteContactSolver::kSap.\n",
      "WARNING:drake:/home/dan/Projects/Pydrake-robotiq140/catkin_ws/src/robotiq/robotiq_2f_140_gripper_visualization/urdf/robotiq_arg2f_140_model.urdf:300: warning: Joint 'right_inner_knuckle_joint' specifies a mimic element that will be ignored. Mimic elements are currently only supported by MultibodyPlant with a discrete time step and using DiscreteContactSolver::kSap.\n",
      "WARNING:drake:/home/dan/Projects/Pydrake-robotiq140/catkin_ws/src/robotiq/robotiq_2f_140_gripper_visualization/urdf/robotiq_arg2f_140_model.urdf:308: warning: Joint 'right_inner_finger_joint' specifies a mimic element that will be ignored. Mimic elements are currently only supported by MultibodyPlant with a discrete time step and using DiscreteContactSolver::kSap.\n",
      "WARNING:drake:/home/dan/Projects/Pydrake-robotiq140/catkin_ws/src/robotiq/robotiq_2f_140_gripper_visualization/urdf/robotiq_arg2f_140_model.urdf:264: warning: Joint 'left_inner_knuckle_joint' specifies a mimic element that will be ignored. Mimic elements are currently only supported by MultibodyPlant with a discrete time step and using DiscreteContactSolver::kSap.\n",
      "WARNING:drake:/home/dan/Projects/Pydrake-robotiq140/catkin_ws/src/robotiq/robotiq_2f_140_gripper_visualization/urdf/robotiq_arg2f_140_model.urdf:272: warning: Joint 'left_inner_finger_joint' specifies a mimic element that will be ignored. Mimic elements are currently only supported by MultibodyPlant with a discrete time step and using DiscreteContactSolver::kSap.\n",
      "WARNING:drake:/home/dan/Projects/Pydrake-robotiq140/catkin_ws/src/robotiq/robotiq_2f_140_gripper_visualization/urdf/robotiq_arg2f_140_model.urdf:286: warning: Joint 'right_outer_knuckle_joint' specifies a mimic element that will be ignored. Mimic elements are currently only supported by MultibodyPlant with a discrete time step and using DiscreteContactSolver::kSap.\n",
      "WARNING:drake:/home/dan/Projects/Pydrake-robotiq140/catkin_ws/src/robotiq/robotiq_2f_140_gripper_visualization/urdf/robotiq_arg2f_140_model.urdf:300: warning: Joint 'right_inner_knuckle_joint' specifies a mimic element that will be ignored. Mimic elements are currently only supported by MultibodyPlant with a discrete time step and using DiscreteContactSolver::kSap.\n",
      "WARNING:drake:/home/dan/Projects/Pydrake-robotiq140/catkin_ws/src/robotiq/robotiq_2f_140_gripper_visualization/urdf/robotiq_arg2f_140_model.urdf:308: warning: Joint 'right_inner_finger_joint' specifies a mimic element that will be ignored. Mimic elements are currently only supported by MultibodyPlant with a discrete time step and using DiscreteContactSolver::kSap.\n",
      "WARNING:drake:/home/dan/Projects/Pydrake-robotiq140/catkin_ws/src/robotiq/robotiq_2f_140_gripper_visualization/urdf/robotiq_arg2f_140_model.urdf:264: warning: Joint 'left_inner_knuckle_joint' specifies a mimic element that will be ignored. Mimic elements are currently only supported by MultibodyPlant with a discrete time step and using DiscreteContactSolver::kSap.\n",
      "WARNING:drake:/home/dan/Projects/Pydrake-robotiq140/catkin_ws/src/robotiq/robotiq_2f_140_gripper_visualization/urdf/robotiq_arg2f_140_model.urdf:272: warning: Joint 'left_inner_finger_joint' specifies a mimic element that will be ignored. Mimic elements are currently only supported by MultibodyPlant with a discrete time step and using DiscreteContactSolver::kSap.\n",
      "WARNING:drake:/home/dan/Projects/Pydrake-robotiq140/catkin_ws/src/robotiq/robotiq_2f_140_gripper_visualization/urdf/robotiq_arg2f_140_model.urdf:286: warning: Joint 'right_outer_knuckle_joint' specifies a mimic element that will be ignored. Mimic elements are currently only supported by MultibodyPlant with a discrete time step and using DiscreteContactSolver::kSap.\n",
      "WARNING:drake:/home/dan/Projects/Pydrake-robotiq140/catkin_ws/src/robotiq/robotiq_2f_140_gripper_visualization/urdf/robotiq_arg2f_140_model.urdf:300: warning: Joint 'right_inner_knuckle_joint' specifies a mimic element that will be ignored. Mimic elements are currently only supported by MultibodyPlant with a discrete time step and using DiscreteContactSolver::kSap.\n",
      "WARNING:drake:/home/dan/Projects/Pydrake-robotiq140/catkin_ws/src/robotiq/robotiq_2f_140_gripper_visualization/urdf/robotiq_arg2f_140_model.urdf:308: warning: Joint 'right_inner_finger_joint' specifies a mimic element that will be ignored. Mimic elements are currently only supported by MultibodyPlant with a discrete time step and using DiscreteContactSolver::kSap.\n",
      "WARNING:drake:/home/dan/Projects/Pydrake-robotiq140/catkin_ws/src/robotiq/robotiq_2f_140_gripper_visualization/urdf/robotiq_arg2f_140_model.urdf:264: warning: Joint 'left_inner_knuckle_joint' specifies a mimic element that will be ignored. Mimic elements are currently only supported by MultibodyPlant with a discrete time step and using DiscreteContactSolver::kSap.\n",
      "WARNING:drake:/home/dan/Projects/Pydrake-robotiq140/catkin_ws/src/robotiq/robotiq_2f_140_gripper_visualization/urdf/robotiq_arg2f_140_model.urdf:272: warning: Joint 'left_inner_finger_joint' specifies a mimic element that will be ignored. Mimic elements are currently only supported by MultibodyPlant with a discrete time step and using DiscreteContactSolver::kSap.\n",
      "WARNING:drake:/home/dan/Projects/Pydrake-robotiq140/catkin_ws/src/robotiq/robotiq_2f_140_gripper_visualization/urdf/robotiq_arg2f_140_model.urdf:286: warning: Joint 'right_outer_knuckle_joint' specifies a mimic element that will be ignored. Mimic elements are currently only supported by MultibodyPlant with a discrete time step and using DiscreteContactSolver::kSap.\n",
      "WARNING:drake:/home/dan/Projects/Pydrake-robotiq140/catkin_ws/src/robotiq/robotiq_2f_140_gripper_visualization/urdf/robotiq_arg2f_140_model.urdf:300: warning: Joint 'right_inner_knuckle_joint' specifies a mimic element that will be ignored. Mimic elements are currently only supported by MultibodyPlant with a discrete time step and using DiscreteContactSolver::kSap.\n",
      "WARNING:drake:/home/dan/Projects/Pydrake-robotiq140/catkin_ws/src/robotiq/robotiq_2f_140_gripper_visualization/urdf/robotiq_arg2f_140_model.urdf:308: warning: Joint 'right_inner_finger_joint' specifies a mimic element that will be ignored. Mimic elements are currently only supported by MultibodyPlant with a discrete time step and using DiscreteContactSolver::kSap.\n",
      "WARNING:drake:/home/dan/Projects/Pydrake-robotiq140/catkin_ws/src/robotiq/robotiq_2f_140_gripper_visualization/urdf/robotiq_arg2f_140_model.urdf:264: warning: Joint 'left_inner_knuckle_joint' specifies a mimic element that will be ignored. Mimic elements are currently only supported by MultibodyPlant with a discrete time step and using DiscreteContactSolver::kSap.\n",
      "WARNING:drake:/home/dan/Projects/Pydrake-robotiq140/catkin_ws/src/robotiq/robotiq_2f_140_gripper_visualization/urdf/robotiq_arg2f_140_model.urdf:272: warning: Joint 'left_inner_finger_joint' specifies a mimic element that will be ignored. Mimic elements are currently only supported by MultibodyPlant with a discrete time step and using DiscreteContactSolver::kSap.\n",
      "WARNING:drake:/home/dan/Projects/Pydrake-robotiq140/catkin_ws/src/robotiq/robotiq_2f_140_gripper_visualization/urdf/robotiq_arg2f_140_model.urdf:286: warning: Joint 'right_outer_knuckle_joint' specifies a mimic element that will be ignored. Mimic elements are currently only supported by MultibodyPlant with a discrete time step and using DiscreteContactSolver::kSap.\n",
      "WARNING:drake:/home/dan/Projects/Pydrake-robotiq140/catkin_ws/src/robotiq/robotiq_2f_140_gripper_visualization/urdf/robotiq_arg2f_140_model.urdf:300: warning: Joint 'right_inner_knuckle_joint' specifies a mimic element that will be ignored. Mimic elements are currently only supported by MultibodyPlant with a discrete time step and using DiscreteContactSolver::kSap.\n",
      "WARNING:drake:/home/dan/Projects/Pydrake-robotiq140/catkin_ws/src/robotiq/robotiq_2f_140_gripper_visualization/urdf/robotiq_arg2f_140_model.urdf:308: warning: Joint 'right_inner_finger_joint' specifies a mimic element that will be ignored. Mimic elements are currently only supported by MultibodyPlant with a discrete time step and using DiscreteContactSolver::kSap.\n",
      "WARNING:drake:/home/dan/Projects/Pydrake-robotiq140/catkin_ws/src/robotiq/robotiq_2f_140_gripper_visualization/urdf/robotiq_arg2f_140_model.urdf:264: warning: Joint 'left_inner_knuckle_joint' specifies a mimic element that will be ignored. Mimic elements are currently only supported by MultibodyPlant with a discrete time step and using DiscreteContactSolver::kSap.\n",
      "WARNING:drake:/home/dan/Projects/Pydrake-robotiq140/catkin_ws/src/robotiq/robotiq_2f_140_gripper_visualization/urdf/robotiq_arg2f_140_model.urdf:272: warning: Joint 'left_inner_finger_joint' specifies a mimic element that will be ignored. Mimic elements are currently only supported by MultibodyPlant with a discrete time step and using DiscreteContactSolver::kSap.\n",
      "WARNING:drake:/home/dan/Projects/Pydrake-robotiq140/catkin_ws/src/robotiq/robotiq_2f_140_gripper_visualization/urdf/robotiq_arg2f_140_model.urdf:286: warning: Joint 'right_outer_knuckle_joint' specifies a mimic element that will be ignored. Mimic elements are currently only supported by MultibodyPlant with a discrete time step and using DiscreteContactSolver::kSap.\n",
      "WARNING:drake:/home/dan/Projects/Pydrake-robotiq140/catkin_ws/src/robotiq/robotiq_2f_140_gripper_visualization/urdf/robotiq_arg2f_140_model.urdf:300: warning: Joint 'right_inner_knuckle_joint' specifies a mimic element that will be ignored. Mimic elements are currently only supported by MultibodyPlant with a discrete time step and using DiscreteContactSolver::kSap.\n",
      "WARNING:drake:/home/dan/Projects/Pydrake-robotiq140/catkin_ws/src/robotiq/robotiq_2f_140_gripper_visualization/urdf/robotiq_arg2f_140_model.urdf:308: warning: Joint 'right_inner_finger_joint' specifies a mimic element that will be ignored. Mimic elements are currently only supported by MultibodyPlant with a discrete time step and using DiscreteContactSolver::kSap.\n",
      "WARNING:drake:/home/dan/Projects/Pydrake-robotiq140/catkin_ws/src/robotiq/robotiq_2f_140_gripper_visualization/urdf/robotiq_arg2f_140_model.urdf:264: warning: Joint 'left_inner_knuckle_joint' specifies a mimic element that will be ignored. Mimic elements are currently only supported by MultibodyPlant with a discrete time step and using DiscreteContactSolver::kSap.\n",
      "WARNING:drake:/home/dan/Projects/Pydrake-robotiq140/catkin_ws/src/robotiq/robotiq_2f_140_gripper_visualization/urdf/robotiq_arg2f_140_model.urdf:272: warning: Joint 'left_inner_finger_joint' specifies a mimic element that will be ignored. Mimic elements are currently only supported by MultibodyPlant with a discrete time step and using DiscreteContactSolver::kSap.\n",
      "WARNING:drake:/home/dan/Projects/Pydrake-robotiq140/catkin_ws/src/robotiq/robotiq_2f_140_gripper_visualization/urdf/robotiq_arg2f_140_model.urdf:286: warning: Joint 'right_outer_knuckle_joint' specifies a mimic element that will be ignored. Mimic elements are currently only supported by MultibodyPlant with a discrete time step and using DiscreteContactSolver::kSap.\n",
      "WARNING:drake:/home/dan/Projects/Pydrake-robotiq140/catkin_ws/src/robotiq/robotiq_2f_140_gripper_visualization/urdf/robotiq_arg2f_140_model.urdf:300: warning: Joint 'right_inner_knuckle_joint' specifies a mimic element that will be ignored. Mimic elements are currently only supported by MultibodyPlant with a discrete time step and using DiscreteContactSolver::kSap.\n",
      "WARNING:drake:/home/dan/Projects/Pydrake-robotiq140/catkin_ws/src/robotiq/robotiq_2f_140_gripper_visualization/urdf/robotiq_arg2f_140_model.urdf:308: warning: Joint 'right_inner_finger_joint' specifies a mimic element that will be ignored. Mimic elements are currently only supported by MultibodyPlant with a discrete time step and using DiscreteContactSolver::kSap.\n"
     ]
    }
   ],
   "source": [
    "def visualize_gripper_frames(X_G, X_O, visualize_frames=True):\n",
    "    builder = DiagramBuilder()\n",
    "\n",
    "    plant, scene_graph = AddMultibodyPlantSceneGraph(builder, time_step=0.0)\n",
    "    parser = Parser(plant, scene_graph)\n",
    "    parser.SetAutoRenaming(True)\n",
    "    for key, pose in X_G.items():\n",
    "        g = parser.AddModels(\"/home/dan/Projects/Pydrake-robotiq140/catkin_ws/src/robotiq/robotiq_2f_140_gripper_visualization/urdf/robotiq_arg2f_140_model.urdf\")[0]\n",
    "        plant.WeldFrames(plant.world_frame(), plant.GetFrameByName(\"robotiq_arg2f_base_link\", g), pose)\n",
    "    for key, pose in X_O.items():\n",
    "        o = parser.AddModelsFromUrl(\n",
    "            \"package://drake/examples/manipulation_station/models/061_foam_brick.sdf\"\n",
    "        )[0]\n",
    "        plant.WeldFrames(\n",
    "            plant.world_frame(), plant.GetFrameByName(\"base_link\", o), pose\n",
    "        )\n",
    "\n",
    "    plant.Finalize()\n",
    "\n",
    "    if visualize_frames:\n",
    "        inspector = scene_graph.model_inspector()\n",
    "        for frame_id in inspector.GetAllFrameIds():\n",
    "            world_id = plant.GetFrameByName(\"world\").index()\n",
    "            radius = 0.005 * (3 if frame_id == world_id else 1)\n",
    "            AddFrameTriadIllustration(\n",
    "                plant=plant,\n",
    "                scene_graph=scene_graph,\n",
    "                frame_id=frame_id,\n",
    "                length=0.3,\n",
    "                radius=radius, \n",
    "                opacity=0.9\n",
    "            )\n",
    "\n",
    "    meshcat.Delete()\n",
    "    MeshcatVisualizer.AddToBuilder(builder, scene_graph, meshcat)\n",
    "\n",
    "    diagram = builder.Build()\n",
    "    context = diagram.CreateDefaultContext()\n",
    "    diagram.ForcedPublish(context)\n",
    "\n",
    "\n",
    "visualize_gripper_frames(X_G, X_O)"
   ]
  },
  {
   "cell_type": "markdown",
   "metadata": {
    "collapsed": false
   },
   "source": [
    "# Pick and place trajectories\n",
    "\n",
    "We've defined the keyframes, but now we will fill in timing details (what should be happening at each instant).\n",
    "\n",
    "Interpolating between the positions is quite simple; we can encode these details as a `PiecewisePolynomial` trajectory in $\\Re^3$ over time.  Interpolating over orientations requires more care.  We'll use `PiecewiseQuaternionSlerp` to do the job.\n",
    "\n",
    "See the documentation of [PiecewisePose](https://drake.mit.edu/doxygen_cxx/classdrake_1_1trajectories_1_1_piecewise_pose.html#ae2f8a49b642aecb5c19ef3625be5e61d) for more details."
   ]
  },
  {
   "cell_type": "code",
   "execution_count": 77,
   "metadata": {
    "collapsed": false,
    "ExecuteTime": {
     "end_time": "2024-03-25T09:59:24.024321Z",
     "start_time": "2024-03-25T09:59:24.012565Z"
    }
   },
   "outputs": [],
   "source": [
    "def MakeGripperPoseTrajectory(X_G, times):\n",
    "    \"\"\"\n",
    "    Constructs a gripper position trajectory from the plan \"sketch\".\n",
    "    \"\"\"\n",
    "\n",
    "    sample_times = []\n",
    "    poses = []\n",
    "    for name in [\n",
    "        \"initial\",\n",
    "        \"prepick\",\n",
    "        \"pick_start\",\n",
    "        \"pick_end\",\n",
    "        \"postpick\",\n",
    "        \"clearance\",\n",
    "        \"preplace\",\n",
    "        \"place_start\",\n",
    "        \"place_end\",\n",
    "        \"postplace\",\n",
    "    ]:\n",
    "        sample_times.append(times[name])\n",
    "        poses.append(X_G[name])\n",
    "\n",
    "    return PiecewisePose.MakeLinear(sample_times, poses)\n",
    "\n",
    "\n",
    "traj_X_G = MakeGripperPoseTrajectory(X_G, times)"
   ]
  },
  {
   "cell_type": "markdown",
   "metadata": {
    "collapsed": false
   },
   "source": [
    "Now let's plot our trajectories."
   ]
  },
  {
   "cell_type": "code",
   "execution_count": 78,
   "metadata": {
    "collapsed": false,
    "ExecuteTime": {
     "end_time": "2024-03-25T09:59:26.550866Z",
     "start_time": "2024-03-25T09:59:26.280967Z"
    }
   },
   "outputs": [
    {
     "data": {
      "text/plain": "<IPython.core.display.HTML object>",
      "text/html": "\n\n<style>\n\n</style>\n\n<div id=\"fig_el46041270718730224649065506071\"></div>\n<script>\nfunction mpld3_load_lib(url, callback){\n  var s = document.createElement('script');\n  s.src = url;\n  s.async = true;\n  s.onreadystatechange = s.onload = callback;\n  s.onerror = function(){console.warn(\"failed to load library \" + url);};\n  document.getElementsByTagName(\"head\")[0].appendChild(s);\n}\n\nif(typeof(mpld3) !== \"undefined\" && mpld3._mpld3IsLoaded){\n   // already loaded: just create the figure\n   !function(mpld3){\n       \n       mpld3.draw_figure(\"fig_el46041270718730224649065506071\", {\"width\": 640.0, \"height\": 480.0, \"axes\": [{\"bbox\": [0.125, 0.10999999999999999, 0.775, 0.77], \"xlim\": [-1.5447471568028188, 32.4396902928592], \"ylim\": [-0.825, 0.825], \"xdomain\": [-1.5447471568028188, 32.4396902928592], \"ydomain\": [-0.825, 0.825], \"xscale\": \"linear\", \"yscale\": \"linear\", \"axes\": [{\"position\": \"bottom\", \"nticks\": 9, \"tickvalues\": null, \"tickformat_formatter\": \"\", \"tickformat\": null, \"scale\": \"linear\", \"fontsize\": 10.0, \"grid\": {\"gridOn\": false}, \"visible\": true}, {\"position\": \"left\", \"nticks\": 11, \"tickvalues\": null, \"tickformat_formatter\": \"\", \"tickformat\": null, \"scale\": \"linear\", \"fontsize\": 10.0, \"grid\": {\"gridOn\": false}, \"visible\": true}], \"axesbg\": \"#FFFFFF\", \"axesbgalpha\": null, \"zoomable\": true, \"id\": \"el4604127071873014256\", \"lines\": [{\"data\": \"data01\", \"xindex\": 0, \"yindex\": 1, \"coordinates\": \"data\", \"id\": \"el4604127071872955296\", \"color\": \"#1F77B4\", \"linewidth\": 1.5, \"dasharray\": \"none\", \"alpha\": 1, \"zorder\": 2, \"drawstyle\": \"default\"}, {\"data\": \"data01\", \"xindex\": 0, \"yindex\": 2, \"coordinates\": \"data\", \"id\": \"el4604127071872944544\", \"color\": \"#FF7F0E\", \"linewidth\": 1.5, \"dasharray\": \"none\", \"alpha\": 1, \"zorder\": 2, \"drawstyle\": \"default\"}, {\"data\": \"data01\", \"xindex\": 0, \"yindex\": 3, \"coordinates\": \"data\", \"id\": \"el4604127071872944736\", \"color\": \"#2CA02C\", \"linewidth\": 1.5, \"dasharray\": \"none\", \"alpha\": 1, \"zorder\": 2, \"drawstyle\": \"default\"}, {\"data\": \"data02\", \"xindex\": 0, \"yindex\": 1, \"coordinates\": \"axes\", \"id\": \"el4604127071872942384\", \"color\": \"#1F77B4\", \"linewidth\": 1.5, \"dasharray\": \"none\", \"alpha\": 1, \"zorder\": 1000002.0, \"drawstyle\": \"default\"}, {\"data\": \"data02\", \"xindex\": 0, \"yindex\": 2, \"coordinates\": \"axes\", \"id\": \"el4604127071872768208\", \"color\": \"#FF7F0E\", \"linewidth\": 1.5, \"dasharray\": \"none\", \"alpha\": 1, \"zorder\": 1000002.0, \"drawstyle\": \"default\"}, {\"data\": \"data02\", \"xindex\": 0, \"yindex\": 3, \"coordinates\": \"axes\", \"id\": \"el4604127071872944784\", \"color\": \"#2CA02C\", \"linewidth\": 1.5, \"dasharray\": \"none\", \"alpha\": 1, \"zorder\": 1000002.0, \"drawstyle\": \"default\"}], \"paths\": [{\"data\": \"data03\", \"xindex\": 0, \"yindex\": 1, \"coordinates\": \"axes\", \"pathcodes\": [\"M\", \"L\", \"S\", \"L\", \"S\", \"L\", \"S\", \"L\", \"S\", \"Z\"], \"id\": \"el4604127071872954000\", \"dasharray\": \"none\", \"alpha\": 0.8, \"facecolor\": \"rgba(255, 255, 255, 0.8)\", \"edgecolor\": \"rgba(204, 204, 204, 0.8)\", \"edgewidth\": 1.0, \"zorder\": 1000000.0}], \"markers\": [], \"texts\": [{\"text\": \"p_G\", \"position\": [0.5, 1.0225468975468974], \"coordinates\": \"axes\", \"h_anchor\": \"middle\", \"v_baseline\": \"auto\", \"rotation\": -0.0, \"fontsize\": 12.0, \"color\": \"#000000\", \"alpha\": 1, \"zorder\": 3, \"id\": \"el4604127071872762928\"}, {\"text\": \"x\", \"position\": [0.10360663082437274, 0.9364177489177489], \"coordinates\": \"axes\", \"h_anchor\": \"start\", \"v_baseline\": \"auto\", \"rotation\": -0.0, \"fontsize\": 10.0, \"color\": \"#000000\", \"alpha\": 1, \"zorder\": 1000003.0, \"id\": \"el4604127071872942912\"}, {\"text\": \"y\", \"position\": [0.10360663082437274, 0.8797498797498798], \"coordinates\": \"axes\", \"h_anchor\": \"start\", \"v_baseline\": \"auto\", \"rotation\": -0.0, \"fontsize\": 10.0, \"color\": \"#000000\", \"alpha\": 1, \"zorder\": 1000003.0, \"id\": \"el4604127071872948624\"}, {\"text\": \"z\", \"position\": [0.10360663082437274, 0.8230820105820105], \"coordinates\": \"axes\", \"h_anchor\": \"start\", \"v_baseline\": \"auto\", \"rotation\": -0.0, \"fontsize\": 10.0, \"color\": \"#000000\", \"alpha\": 1, \"zorder\": 1000003.0, \"id\": \"el4604127071872942432\"}], \"collections\": [], \"images\": [], \"sharex\": [], \"sharey\": []}], \"data\": {\"data01\": [[0.0, 0.0, -0.25, 0.325], [5.3856870499500795, -0.2, -0.75, 0.3175], [7.3856870499500795, -0.2, -0.75, 0.2375], [9.385687049950079, -0.2, -0.75, 0.2375], [11.385687049950079, -0.2, -0.75, 0.3175], [18.140315093003228, 0.2750000000000001, -0.37500000000000006, 0.6174999999999999], [24.894943136056376, 0.75, 2.2809046634119452e-17, 0.3175], [26.894943136056376, 0.75, 1.3011872240940627e-17, 0.2375], [28.894943136056376, 0.75, 1.3011872240940627e-17, 0.2375], [30.894943136056376, 0.75, 2.2809046634119452e-17, 0.3175]], \"data02\": [[0.025201612903225812, 0.9495701058201058, 0.8929022366522368, 0.8362343674843674], [0.05320340501792115, 0.9495701058201058, 0.8929022366522368, 0.8362343674843674], [0.0812051971326165, 0.9495701058201058, 0.8929022366522368, 0.8362343674843674]], \"data03\": [[0.01960125448028671, 0.7999338624338624], [0.12584005376344085, 0.7999338624338624], [0.1314404121863799, 0.7999338624338624], [0.1314404121863799, 0.8074494949494949], [0.1314404121863799, 0.9736952861952862], [0.1314404121863799, 0.9812109187109187], [0.12584005376344085, 0.9812109187109187], [0.01960125448028671, 0.9812109187109187], [0.014000896057347667, 0.9812109187109187], [0.014000896057347667, 0.9736952861952862], [0.014000896057347667, 0.8074494949494949], [0.014000896057347667, 0.7999338624338624], [0.01960125448028671, 0.7999338624338624]]}, \"id\": \"el4604127071873022464\", \"plugins\": [{\"type\": \"reset\"}, {\"type\": \"zoom\", \"button\": true, \"enabled\": false}, {\"type\": \"boxzoom\", \"button\": true, \"enabled\": false}]});\n   }(mpld3);\n}else if(typeof define === \"function\" && define.amd){\n   // require.js is available: use it to load d3/mpld3\n   require.config({paths: {d3: \"https://d3js.org/d3.v5\"}});\n   require([\"d3\"], function(d3){\n      window.d3 = d3;\n      mpld3_load_lib(\"https://mpld3.github.io/js/mpld3.v0.5.10.js\", function(){\n         \n         mpld3.draw_figure(\"fig_el46041270718730224649065506071\", {\"width\": 640.0, \"height\": 480.0, \"axes\": [{\"bbox\": [0.125, 0.10999999999999999, 0.775, 0.77], \"xlim\": [-1.5447471568028188, 32.4396902928592], \"ylim\": [-0.825, 0.825], \"xdomain\": [-1.5447471568028188, 32.4396902928592], \"ydomain\": [-0.825, 0.825], \"xscale\": \"linear\", \"yscale\": \"linear\", \"axes\": [{\"position\": \"bottom\", \"nticks\": 9, \"tickvalues\": null, \"tickformat_formatter\": \"\", \"tickformat\": null, \"scale\": \"linear\", \"fontsize\": 10.0, \"grid\": {\"gridOn\": false}, \"visible\": true}, {\"position\": \"left\", \"nticks\": 11, \"tickvalues\": null, \"tickformat_formatter\": \"\", \"tickformat\": null, \"scale\": \"linear\", \"fontsize\": 10.0, \"grid\": {\"gridOn\": false}, \"visible\": true}], \"axesbg\": \"#FFFFFF\", \"axesbgalpha\": null, \"zoomable\": true, \"id\": \"el4604127071873014256\", \"lines\": [{\"data\": \"data01\", \"xindex\": 0, \"yindex\": 1, \"coordinates\": \"data\", \"id\": \"el4604127071872955296\", \"color\": \"#1F77B4\", \"linewidth\": 1.5, \"dasharray\": \"none\", \"alpha\": 1, \"zorder\": 2, \"drawstyle\": \"default\"}, {\"data\": \"data01\", \"xindex\": 0, \"yindex\": 2, \"coordinates\": \"data\", \"id\": \"el4604127071872944544\", \"color\": \"#FF7F0E\", \"linewidth\": 1.5, \"dasharray\": \"none\", \"alpha\": 1, \"zorder\": 2, \"drawstyle\": \"default\"}, {\"data\": \"data01\", \"xindex\": 0, \"yindex\": 3, \"coordinates\": \"data\", \"id\": \"el4604127071872944736\", \"color\": \"#2CA02C\", \"linewidth\": 1.5, \"dasharray\": \"none\", \"alpha\": 1, \"zorder\": 2, \"drawstyle\": \"default\"}, {\"data\": \"data02\", \"xindex\": 0, \"yindex\": 1, \"coordinates\": \"axes\", \"id\": \"el4604127071872942384\", \"color\": \"#1F77B4\", \"linewidth\": 1.5, \"dasharray\": \"none\", \"alpha\": 1, \"zorder\": 1000002.0, \"drawstyle\": \"default\"}, {\"data\": \"data02\", \"xindex\": 0, \"yindex\": 2, \"coordinates\": \"axes\", \"id\": \"el4604127071872768208\", \"color\": \"#FF7F0E\", \"linewidth\": 1.5, \"dasharray\": \"none\", \"alpha\": 1, \"zorder\": 1000002.0, \"drawstyle\": \"default\"}, {\"data\": \"data02\", \"xindex\": 0, \"yindex\": 3, \"coordinates\": \"axes\", \"id\": \"el4604127071872944784\", \"color\": \"#2CA02C\", \"linewidth\": 1.5, \"dasharray\": \"none\", \"alpha\": 1, \"zorder\": 1000002.0, \"drawstyle\": \"default\"}], \"paths\": [{\"data\": \"data03\", \"xindex\": 0, \"yindex\": 1, \"coordinates\": \"axes\", \"pathcodes\": [\"M\", \"L\", \"S\", \"L\", \"S\", \"L\", \"S\", \"L\", \"S\", \"Z\"], \"id\": \"el4604127071872954000\", \"dasharray\": \"none\", \"alpha\": 0.8, \"facecolor\": \"rgba(255, 255, 255, 0.8)\", \"edgecolor\": \"rgba(204, 204, 204, 0.8)\", \"edgewidth\": 1.0, \"zorder\": 1000000.0}], \"markers\": [], \"texts\": [{\"text\": \"p_G\", \"position\": [0.5, 1.0225468975468974], \"coordinates\": \"axes\", \"h_anchor\": \"middle\", \"v_baseline\": \"auto\", \"rotation\": -0.0, \"fontsize\": 12.0, \"color\": \"#000000\", \"alpha\": 1, \"zorder\": 3, \"id\": \"el4604127071872762928\"}, {\"text\": \"x\", \"position\": [0.10360663082437274, 0.9364177489177489], \"coordinates\": \"axes\", \"h_anchor\": \"start\", \"v_baseline\": \"auto\", \"rotation\": -0.0, \"fontsize\": 10.0, \"color\": \"#000000\", \"alpha\": 1, \"zorder\": 1000003.0, \"id\": \"el4604127071872942912\"}, {\"text\": \"y\", \"position\": [0.10360663082437274, 0.8797498797498798], \"coordinates\": \"axes\", \"h_anchor\": \"start\", \"v_baseline\": \"auto\", \"rotation\": -0.0, \"fontsize\": 10.0, \"color\": \"#000000\", \"alpha\": 1, \"zorder\": 1000003.0, \"id\": \"el4604127071872948624\"}, {\"text\": \"z\", \"position\": [0.10360663082437274, 0.8230820105820105], \"coordinates\": \"axes\", \"h_anchor\": \"start\", \"v_baseline\": \"auto\", \"rotation\": -0.0, \"fontsize\": 10.0, \"color\": \"#000000\", \"alpha\": 1, \"zorder\": 1000003.0, \"id\": \"el4604127071872942432\"}], \"collections\": [], \"images\": [], \"sharex\": [], \"sharey\": []}], \"data\": {\"data01\": [[0.0, 0.0, -0.25, 0.325], [5.3856870499500795, -0.2, -0.75, 0.3175], [7.3856870499500795, -0.2, -0.75, 0.2375], [9.385687049950079, -0.2, -0.75, 0.2375], [11.385687049950079, -0.2, -0.75, 0.3175], [18.140315093003228, 0.2750000000000001, -0.37500000000000006, 0.6174999999999999], [24.894943136056376, 0.75, 2.2809046634119452e-17, 0.3175], [26.894943136056376, 0.75, 1.3011872240940627e-17, 0.2375], [28.894943136056376, 0.75, 1.3011872240940627e-17, 0.2375], [30.894943136056376, 0.75, 2.2809046634119452e-17, 0.3175]], \"data02\": [[0.025201612903225812, 0.9495701058201058, 0.8929022366522368, 0.8362343674843674], [0.05320340501792115, 0.9495701058201058, 0.8929022366522368, 0.8362343674843674], [0.0812051971326165, 0.9495701058201058, 0.8929022366522368, 0.8362343674843674]], \"data03\": [[0.01960125448028671, 0.7999338624338624], [0.12584005376344085, 0.7999338624338624], [0.1314404121863799, 0.7999338624338624], [0.1314404121863799, 0.8074494949494949], [0.1314404121863799, 0.9736952861952862], [0.1314404121863799, 0.9812109187109187], [0.12584005376344085, 0.9812109187109187], [0.01960125448028671, 0.9812109187109187], [0.014000896057347667, 0.9812109187109187], [0.014000896057347667, 0.9736952861952862], [0.014000896057347667, 0.8074494949494949], [0.014000896057347667, 0.7999338624338624], [0.01960125448028671, 0.7999338624338624]]}, \"id\": \"el4604127071873022464\", \"plugins\": [{\"type\": \"reset\"}, {\"type\": \"zoom\", \"button\": true, \"enabled\": false}, {\"type\": \"boxzoom\", \"button\": true, \"enabled\": false}]});\n      });\n    });\n}else{\n    // require.js not available: dynamically load d3 & mpld3\n    mpld3_load_lib(\"https://d3js.org/d3.v5.js\", function(){\n         mpld3_load_lib(\"https://mpld3.github.io/js/mpld3.v0.5.10.js\", function(){\n                 \n                 mpld3.draw_figure(\"fig_el46041270718730224649065506071\", {\"width\": 640.0, \"height\": 480.0, \"axes\": [{\"bbox\": [0.125, 0.10999999999999999, 0.775, 0.77], \"xlim\": [-1.5447471568028188, 32.4396902928592], \"ylim\": [-0.825, 0.825], \"xdomain\": [-1.5447471568028188, 32.4396902928592], \"ydomain\": [-0.825, 0.825], \"xscale\": \"linear\", \"yscale\": \"linear\", \"axes\": [{\"position\": \"bottom\", \"nticks\": 9, \"tickvalues\": null, \"tickformat_formatter\": \"\", \"tickformat\": null, \"scale\": \"linear\", \"fontsize\": 10.0, \"grid\": {\"gridOn\": false}, \"visible\": true}, {\"position\": \"left\", \"nticks\": 11, \"tickvalues\": null, \"tickformat_formatter\": \"\", \"tickformat\": null, \"scale\": \"linear\", \"fontsize\": 10.0, \"grid\": {\"gridOn\": false}, \"visible\": true}], \"axesbg\": \"#FFFFFF\", \"axesbgalpha\": null, \"zoomable\": true, \"id\": \"el4604127071873014256\", \"lines\": [{\"data\": \"data01\", \"xindex\": 0, \"yindex\": 1, \"coordinates\": \"data\", \"id\": \"el4604127071872955296\", \"color\": \"#1F77B4\", \"linewidth\": 1.5, \"dasharray\": \"none\", \"alpha\": 1, \"zorder\": 2, \"drawstyle\": \"default\"}, {\"data\": \"data01\", \"xindex\": 0, \"yindex\": 2, \"coordinates\": \"data\", \"id\": \"el4604127071872944544\", \"color\": \"#FF7F0E\", \"linewidth\": 1.5, \"dasharray\": \"none\", \"alpha\": 1, \"zorder\": 2, \"drawstyle\": \"default\"}, {\"data\": \"data01\", \"xindex\": 0, \"yindex\": 3, \"coordinates\": \"data\", \"id\": \"el4604127071872944736\", \"color\": \"#2CA02C\", \"linewidth\": 1.5, \"dasharray\": \"none\", \"alpha\": 1, \"zorder\": 2, \"drawstyle\": \"default\"}, {\"data\": \"data02\", \"xindex\": 0, \"yindex\": 1, \"coordinates\": \"axes\", \"id\": \"el4604127071872942384\", \"color\": \"#1F77B4\", \"linewidth\": 1.5, \"dasharray\": \"none\", \"alpha\": 1, \"zorder\": 1000002.0, \"drawstyle\": \"default\"}, {\"data\": \"data02\", \"xindex\": 0, \"yindex\": 2, \"coordinates\": \"axes\", \"id\": \"el4604127071872768208\", \"color\": \"#FF7F0E\", \"linewidth\": 1.5, \"dasharray\": \"none\", \"alpha\": 1, \"zorder\": 1000002.0, \"drawstyle\": \"default\"}, {\"data\": \"data02\", \"xindex\": 0, \"yindex\": 3, \"coordinates\": \"axes\", \"id\": \"el4604127071872944784\", \"color\": \"#2CA02C\", \"linewidth\": 1.5, \"dasharray\": \"none\", \"alpha\": 1, \"zorder\": 1000002.0, \"drawstyle\": \"default\"}], \"paths\": [{\"data\": \"data03\", \"xindex\": 0, \"yindex\": 1, \"coordinates\": \"axes\", \"pathcodes\": [\"M\", \"L\", \"S\", \"L\", \"S\", \"L\", \"S\", \"L\", \"S\", \"Z\"], \"id\": \"el4604127071872954000\", \"dasharray\": \"none\", \"alpha\": 0.8, \"facecolor\": \"rgba(255, 255, 255, 0.8)\", \"edgecolor\": \"rgba(204, 204, 204, 0.8)\", \"edgewidth\": 1.0, \"zorder\": 1000000.0}], \"markers\": [], \"texts\": [{\"text\": \"p_G\", \"position\": [0.5, 1.0225468975468974], \"coordinates\": \"axes\", \"h_anchor\": \"middle\", \"v_baseline\": \"auto\", \"rotation\": -0.0, \"fontsize\": 12.0, \"color\": \"#000000\", \"alpha\": 1, \"zorder\": 3, \"id\": \"el4604127071872762928\"}, {\"text\": \"x\", \"position\": [0.10360663082437274, 0.9364177489177489], \"coordinates\": \"axes\", \"h_anchor\": \"start\", \"v_baseline\": \"auto\", \"rotation\": -0.0, \"fontsize\": 10.0, \"color\": \"#000000\", \"alpha\": 1, \"zorder\": 1000003.0, \"id\": \"el4604127071872942912\"}, {\"text\": \"y\", \"position\": [0.10360663082437274, 0.8797498797498798], \"coordinates\": \"axes\", \"h_anchor\": \"start\", \"v_baseline\": \"auto\", \"rotation\": -0.0, \"fontsize\": 10.0, \"color\": \"#000000\", \"alpha\": 1, \"zorder\": 1000003.0, \"id\": \"el4604127071872948624\"}, {\"text\": \"z\", \"position\": [0.10360663082437274, 0.8230820105820105], \"coordinates\": \"axes\", \"h_anchor\": \"start\", \"v_baseline\": \"auto\", \"rotation\": -0.0, \"fontsize\": 10.0, \"color\": \"#000000\", \"alpha\": 1, \"zorder\": 1000003.0, \"id\": \"el4604127071872942432\"}], \"collections\": [], \"images\": [], \"sharex\": [], \"sharey\": []}], \"data\": {\"data01\": [[0.0, 0.0, -0.25, 0.325], [5.3856870499500795, -0.2, -0.75, 0.3175], [7.3856870499500795, -0.2, -0.75, 0.2375], [9.385687049950079, -0.2, -0.75, 0.2375], [11.385687049950079, -0.2, -0.75, 0.3175], [18.140315093003228, 0.2750000000000001, -0.37500000000000006, 0.6174999999999999], [24.894943136056376, 0.75, 2.2809046634119452e-17, 0.3175], [26.894943136056376, 0.75, 1.3011872240940627e-17, 0.2375], [28.894943136056376, 0.75, 1.3011872240940627e-17, 0.2375], [30.894943136056376, 0.75, 2.2809046634119452e-17, 0.3175]], \"data02\": [[0.025201612903225812, 0.9495701058201058, 0.8929022366522368, 0.8362343674843674], [0.05320340501792115, 0.9495701058201058, 0.8929022366522368, 0.8362343674843674], [0.0812051971326165, 0.9495701058201058, 0.8929022366522368, 0.8362343674843674]], \"data03\": [[0.01960125448028671, 0.7999338624338624], [0.12584005376344085, 0.7999338624338624], [0.1314404121863799, 0.7999338624338624], [0.1314404121863799, 0.8074494949494949], [0.1314404121863799, 0.9736952861952862], [0.1314404121863799, 0.9812109187109187], [0.12584005376344085, 0.9812109187109187], [0.01960125448028671, 0.9812109187109187], [0.014000896057347667, 0.9812109187109187], [0.014000896057347667, 0.9736952861952862], [0.014000896057347667, 0.8074494949494949], [0.014000896057347667, 0.7999338624338624], [0.01960125448028671, 0.7999338624338624]]}, \"id\": \"el4604127071873022464\", \"plugins\": [{\"type\": \"reset\"}, {\"type\": \"zoom\", \"button\": true, \"enabled\": false}, {\"type\": \"boxzoom\", \"button\": true, \"enabled\": false}]});\n            })\n         });\n}\n</script>"
     },
     "execution_count": 78,
     "metadata": {},
     "output_type": "execute_result"
    }
   ],
   "source": [
    "traj_p_G = traj_X_G.get_position_trajectory()\n",
    "\n",
    "p_G = traj_p_G.vector_values(traj_p_G.get_segment_times())\n",
    "plt.plot(traj_p_G.get_segment_times(), p_G.T)\n",
    "plt.legend([\"x\", \"y\", \"z\"])\n",
    "plt.title(\"p_G\")\n",
    "mpld3.display()"
   ]
  },
  {
   "cell_type": "markdown",
   "metadata": {
    "collapsed": false
   },
   "source": [
    "We can also plot the trajectory in 3D directly in Meshcat."
   ]
  },
  {
   "cell_type": "code",
   "execution_count": 79,
   "metadata": {
    "collapsed": false,
    "ExecuteTime": {
     "end_time": "2024-03-25T09:59:29.741336Z",
     "start_time": "2024-03-25T09:59:29.737509Z"
    }
   },
   "outputs": [],
   "source": [
    "meshcat.ResetRenderMode()\n",
    "meshcat.SetLine(\"p_G\", p_G, 2.0, rgba=Rgba(1, 0.65, 0))"
   ]
  },
  {
   "cell_type": "markdown",
   "metadata": {
    "collapsed": false
   },
   "source": [
    "We can plot the orientation trajectory, too.  Here are the components of the quaternion over time."
   ]
  },
  {
   "cell_type": "code",
   "execution_count": 80,
   "metadata": {
    "collapsed": false,
    "ExecuteTime": {
     "end_time": "2024-03-25T09:59:34.597906Z",
     "start_time": "2024-03-25T09:59:34.448375Z"
    }
   },
   "outputs": [
    {
     "data": {
      "text/plain": "<IPython.core.display.HTML object>",
      "text/html": "\n\n<style>\n\n</style>\n\n<div id=\"fig_el46041270718727126567214292906\"></div>\n<script>\nfunction mpld3_load_lib(url, callback){\n  var s = document.createElement('script');\n  s.src = url;\n  s.async = true;\n  s.onreadystatechange = s.onload = callback;\n  s.onerror = function(){console.warn(\"failed to load library \" + url);};\n  document.getElementsByTagName(\"head\")[0].appendChild(s);\n}\n\nif(typeof(mpld3) !== \"undefined\" && mpld3._mpld3IsLoaded){\n   // already loaded: just create the figure\n   !function(mpld3){\n       \n       mpld3.draw_figure(\"fig_el46041270718727126567214292906\", {\"width\": 640.0, \"height\": 480.0, \"axes\": [{\"bbox\": [0.125, 0.10999999999999999, 0.775, 0.77], \"xlim\": [-1.5447471568028188, 32.4396902928592], \"ylim\": [-0.050000000000000065, 1.05], \"xdomain\": [-1.5447471568028188, 32.4396902928592], \"ydomain\": [-0.050000000000000065, 1.05], \"xscale\": \"linear\", \"yscale\": \"linear\", \"axes\": [{\"position\": \"bottom\", \"nticks\": 9, \"tickvalues\": null, \"tickformat_formatter\": \"\", \"tickformat\": null, \"scale\": \"linear\", \"fontsize\": 10.0, \"grid\": {\"gridOn\": false}, \"visible\": true}, {\"position\": \"left\", \"nticks\": 8, \"tickvalues\": null, \"tickformat_formatter\": \"\", \"tickformat\": null, \"scale\": \"linear\", \"fontsize\": 10.0, \"grid\": {\"gridOn\": false}, \"visible\": true}], \"axesbg\": \"#FFFFFF\", \"axesbgalpha\": null, \"zoomable\": true, \"id\": \"el4604127071873011328\", \"lines\": [{\"data\": \"data01\", \"xindex\": 0, \"yindex\": 1, \"coordinates\": \"data\", \"id\": \"el4604127071873051872\", \"color\": \"#1F77B4\", \"linewidth\": 1.5, \"dasharray\": \"none\", \"alpha\": 1, \"zorder\": 2, \"drawstyle\": \"default\"}, {\"data\": \"data01\", \"xindex\": 0, \"yindex\": 2, \"coordinates\": \"data\", \"id\": \"el4604127071873051920\", \"color\": \"#FF7F0E\", \"linewidth\": 1.5, \"dasharray\": \"none\", \"alpha\": 1, \"zorder\": 2, \"drawstyle\": \"default\"}, {\"data\": \"data01\", \"xindex\": 0, \"yindex\": 3, \"coordinates\": \"data\", \"id\": \"el4604127071873052160\", \"color\": \"#2CA02C\", \"linewidth\": 1.5, \"dasharray\": \"none\", \"alpha\": 1, \"zorder\": 2, \"drawstyle\": \"default\"}, {\"data\": \"data01\", \"xindex\": 0, \"yindex\": 4, \"coordinates\": \"data\", \"id\": \"el4604127071873053312\", \"color\": \"#D62728\", \"linewidth\": 1.5, \"dasharray\": \"none\", \"alpha\": 1, \"zorder\": 2, \"drawstyle\": \"default\"}, {\"data\": \"data02\", \"xindex\": 0, \"yindex\": 1, \"coordinates\": \"axes\", \"id\": \"el4604127071873011472\", \"color\": \"#1F77B4\", \"linewidth\": 1.5, \"dasharray\": \"none\", \"alpha\": 1, \"zorder\": 1000002.0, \"drawstyle\": \"default\"}, {\"data\": \"data02\", \"xindex\": 0, \"yindex\": 2, \"coordinates\": \"axes\", \"id\": \"el4604127071873191696\", \"color\": \"#FF7F0E\", \"linewidth\": 1.5, \"dasharray\": \"none\", \"alpha\": 1, \"zorder\": 1000002.0, \"drawstyle\": \"default\"}, {\"data\": \"data02\", \"xindex\": 0, \"yindex\": 3, \"coordinates\": \"axes\", \"id\": \"el4604127071873197648\", \"color\": \"#2CA02C\", \"linewidth\": 1.5, \"dasharray\": \"none\", \"alpha\": 1, \"zorder\": 1000002.0, \"drawstyle\": \"default\"}, {\"data\": \"data02\", \"xindex\": 0, \"yindex\": 4, \"coordinates\": \"axes\", \"id\": \"el4604127071873188096\", \"color\": \"#D62728\", \"linewidth\": 1.5, \"dasharray\": \"none\", \"alpha\": 1, \"zorder\": 1000002.0, \"drawstyle\": \"default\"}], \"paths\": [{\"data\": \"data03\", \"xindex\": 0, \"yindex\": 1, \"coordinates\": \"axes\", \"pathcodes\": [\"M\", \"L\", \"S\", \"L\", \"S\", \"L\", \"S\", \"L\", \"S\", \"Z\"], \"id\": \"el4604127071873055136\", \"dasharray\": \"none\", \"alpha\": 0.8, \"facecolor\": \"rgba(255, 255, 255, 0.8)\", \"edgecolor\": \"rgba(204, 204, 204, 0.8)\", \"edgewidth\": 1.0, \"zorder\": 1000000.0}], \"markers\": [], \"texts\": [{\"text\": \"R_G\", \"position\": [0.5, 1.0225468975468974], \"coordinates\": \"axes\", \"h_anchor\": \"middle\", \"v_baseline\": \"auto\", \"rotation\": -0.0, \"fontsize\": 12.0, \"color\": \"#000000\", \"alpha\": 1, \"zorder\": 3, \"id\": \"el4604127071873054416\"}, {\"text\": \"qx\", \"position\": [0.10360663082437274, 0.9364177489177489], \"coordinates\": \"axes\", \"h_anchor\": \"start\", \"v_baseline\": \"auto\", \"rotation\": -0.0, \"fontsize\": 10.0, \"color\": \"#000000\", \"alpha\": 1, \"zorder\": 1000003.0, \"id\": \"el4604127071873046736\"}, {\"text\": \"qy\", \"position\": [0.10360663082437274, 0.8797498797498798], \"coordinates\": \"axes\", \"h_anchor\": \"start\", \"v_baseline\": \"auto\", \"rotation\": -0.0, \"fontsize\": 10.0, \"color\": \"#000000\", \"alpha\": 1, \"zorder\": 1000003.0, \"id\": \"el4604127071873055952\"}, {\"text\": \"qz\", \"position\": [0.10360663082437274, 0.8230820105820105], \"coordinates\": \"axes\", \"h_anchor\": \"start\", \"v_baseline\": \"auto\", \"rotation\": -0.0, \"fontsize\": 10.0, \"color\": \"#000000\", \"alpha\": 1, \"zorder\": 1000003.0, \"id\": \"el4604127071873201440\"}, {\"text\": \"qw\", \"position\": [0.10360663082437274, 0.7664141414141414], \"coordinates\": \"axes\", \"h_anchor\": \"start\", \"v_baseline\": \"auto\", \"rotation\": -0.0, \"fontsize\": 10.0, \"color\": \"#000000\", \"alpha\": 1, \"zorder\": 1000003.0, \"id\": \"el4604127071873195632\"}], \"collections\": [], \"images\": [], \"sharex\": [], \"sharey\": []}], \"data\": {\"data01\": [[0.0, 4.3297802811774664e-17, 0.7071067811865476, 0.7071067811865476, 4.3297802811774664e-17], [5.3856870499500795, -4.3297802811774664e-17, 0.7071067811865476, 0.7071067811865476, -4.3297802811774664e-17], [7.3856870499500795, -4.3297802811774664e-17, 0.7071067811865476, 0.7071067811865476, -4.3297802811774664e-17], [9.385687049950079, -4.3297802811774664e-17, 0.7071067811865476, 0.7071067811865476, -4.3297802811774664e-17], [11.385687049950079, -4.3297802811774664e-17, 0.7071067811865476, 0.7071067811865476, -4.3297802811774664e-17], [18.140315093003228, -2.3432602026631496e-17, 0.38268343236508984, 0.9238795325112867, -5.657130561438501e-17], [24.894943136056376, -3.749399456654644e-33, 6.123233995736766e-17, 1.0, -6.123233995736766e-17], [26.894943136056376, -3.749399456654644e-33, 6.123233995736766e-17, 1.0, -6.123233995736766e-17], [28.894943136056376, -3.749399456654644e-33, 6.123233995736766e-17, 1.0, -6.123233995736766e-17], [30.894943136056376, -3.749399456654644e-33, 6.123233995736766e-17, 1.0, -6.123233995736766e-17]], \"data02\": [[0.025201612903225812, 0.9495701058201058, 0.8929022366522368, 0.8362343674843674, 0.7795664983164984], [0.05320340501792115, 0.9495701058201058, 0.8929022366522368, 0.8362343674843674, 0.7795664983164984], [0.0812051971326165, 0.9495701058201058, 0.8929022366522368, 0.8362343674843674, 0.7795664983164984]], \"data03\": [[0.01960125448028671, 0.7432659932659932], [0.1500336021505376, 0.7432659932659932], [0.15563396057347664, 0.7432659932659932], [0.15563396057347664, 0.7507816257816257], [0.15563396057347664, 0.9736952861952862], [0.15563396057347664, 0.9812109187109187], [0.1500336021505376, 0.9812109187109187], [0.01960125448028671, 0.9812109187109187], [0.014000896057347667, 0.9812109187109187], [0.014000896057347667, 0.9736952861952862], [0.014000896057347667, 0.7507816257816257], [0.014000896057347667, 0.7432659932659932], [0.01960125448028671, 0.7432659932659932]]}, \"id\": \"el4604127071872712656\", \"plugins\": [{\"type\": \"reset\"}, {\"type\": \"zoom\", \"button\": true, \"enabled\": false}, {\"type\": \"boxzoom\", \"button\": true, \"enabled\": false}]});\n   }(mpld3);\n}else if(typeof define === \"function\" && define.amd){\n   // require.js is available: use it to load d3/mpld3\n   require.config({paths: {d3: \"https://d3js.org/d3.v5\"}});\n   require([\"d3\"], function(d3){\n      window.d3 = d3;\n      mpld3_load_lib(\"https://mpld3.github.io/js/mpld3.v0.5.10.js\", function(){\n         \n         mpld3.draw_figure(\"fig_el46041270718727126567214292906\", {\"width\": 640.0, \"height\": 480.0, \"axes\": [{\"bbox\": [0.125, 0.10999999999999999, 0.775, 0.77], \"xlim\": [-1.5447471568028188, 32.4396902928592], \"ylim\": [-0.050000000000000065, 1.05], \"xdomain\": [-1.5447471568028188, 32.4396902928592], \"ydomain\": [-0.050000000000000065, 1.05], \"xscale\": \"linear\", \"yscale\": \"linear\", \"axes\": [{\"position\": \"bottom\", \"nticks\": 9, \"tickvalues\": null, \"tickformat_formatter\": \"\", \"tickformat\": null, \"scale\": \"linear\", \"fontsize\": 10.0, \"grid\": {\"gridOn\": false}, \"visible\": true}, {\"position\": \"left\", \"nticks\": 8, \"tickvalues\": null, \"tickformat_formatter\": \"\", \"tickformat\": null, \"scale\": \"linear\", \"fontsize\": 10.0, \"grid\": {\"gridOn\": false}, \"visible\": true}], \"axesbg\": \"#FFFFFF\", \"axesbgalpha\": null, \"zoomable\": true, \"id\": \"el4604127071873011328\", \"lines\": [{\"data\": \"data01\", \"xindex\": 0, \"yindex\": 1, \"coordinates\": \"data\", \"id\": \"el4604127071873051872\", \"color\": \"#1F77B4\", \"linewidth\": 1.5, \"dasharray\": \"none\", \"alpha\": 1, \"zorder\": 2, \"drawstyle\": \"default\"}, {\"data\": \"data01\", \"xindex\": 0, \"yindex\": 2, \"coordinates\": \"data\", \"id\": \"el4604127071873051920\", \"color\": \"#FF7F0E\", \"linewidth\": 1.5, \"dasharray\": \"none\", \"alpha\": 1, \"zorder\": 2, \"drawstyle\": \"default\"}, {\"data\": \"data01\", \"xindex\": 0, \"yindex\": 3, \"coordinates\": \"data\", \"id\": \"el4604127071873052160\", \"color\": \"#2CA02C\", \"linewidth\": 1.5, \"dasharray\": \"none\", \"alpha\": 1, \"zorder\": 2, \"drawstyle\": \"default\"}, {\"data\": \"data01\", \"xindex\": 0, \"yindex\": 4, \"coordinates\": \"data\", \"id\": \"el4604127071873053312\", \"color\": \"#D62728\", \"linewidth\": 1.5, \"dasharray\": \"none\", \"alpha\": 1, \"zorder\": 2, \"drawstyle\": \"default\"}, {\"data\": \"data02\", \"xindex\": 0, \"yindex\": 1, \"coordinates\": \"axes\", \"id\": \"el4604127071873011472\", \"color\": \"#1F77B4\", \"linewidth\": 1.5, \"dasharray\": \"none\", \"alpha\": 1, \"zorder\": 1000002.0, \"drawstyle\": \"default\"}, {\"data\": \"data02\", \"xindex\": 0, \"yindex\": 2, \"coordinates\": \"axes\", \"id\": \"el4604127071873191696\", \"color\": \"#FF7F0E\", \"linewidth\": 1.5, \"dasharray\": \"none\", \"alpha\": 1, \"zorder\": 1000002.0, \"drawstyle\": \"default\"}, {\"data\": \"data02\", \"xindex\": 0, \"yindex\": 3, \"coordinates\": \"axes\", \"id\": \"el4604127071873197648\", \"color\": \"#2CA02C\", \"linewidth\": 1.5, \"dasharray\": \"none\", \"alpha\": 1, \"zorder\": 1000002.0, \"drawstyle\": \"default\"}, {\"data\": \"data02\", \"xindex\": 0, \"yindex\": 4, \"coordinates\": \"axes\", \"id\": \"el4604127071873188096\", \"color\": \"#D62728\", \"linewidth\": 1.5, \"dasharray\": \"none\", \"alpha\": 1, \"zorder\": 1000002.0, \"drawstyle\": \"default\"}], \"paths\": [{\"data\": \"data03\", \"xindex\": 0, \"yindex\": 1, \"coordinates\": \"axes\", \"pathcodes\": [\"M\", \"L\", \"S\", \"L\", \"S\", \"L\", \"S\", \"L\", \"S\", \"Z\"], \"id\": \"el4604127071873055136\", \"dasharray\": \"none\", \"alpha\": 0.8, \"facecolor\": \"rgba(255, 255, 255, 0.8)\", \"edgecolor\": \"rgba(204, 204, 204, 0.8)\", \"edgewidth\": 1.0, \"zorder\": 1000000.0}], \"markers\": [], \"texts\": [{\"text\": \"R_G\", \"position\": [0.5, 1.0225468975468974], \"coordinates\": \"axes\", \"h_anchor\": \"middle\", \"v_baseline\": \"auto\", \"rotation\": -0.0, \"fontsize\": 12.0, \"color\": \"#000000\", \"alpha\": 1, \"zorder\": 3, \"id\": \"el4604127071873054416\"}, {\"text\": \"qx\", \"position\": [0.10360663082437274, 0.9364177489177489], \"coordinates\": \"axes\", \"h_anchor\": \"start\", \"v_baseline\": \"auto\", \"rotation\": -0.0, \"fontsize\": 10.0, \"color\": \"#000000\", \"alpha\": 1, \"zorder\": 1000003.0, \"id\": \"el4604127071873046736\"}, {\"text\": \"qy\", \"position\": [0.10360663082437274, 0.8797498797498798], \"coordinates\": \"axes\", \"h_anchor\": \"start\", \"v_baseline\": \"auto\", \"rotation\": -0.0, \"fontsize\": 10.0, \"color\": \"#000000\", \"alpha\": 1, \"zorder\": 1000003.0, \"id\": \"el4604127071873055952\"}, {\"text\": \"qz\", \"position\": [0.10360663082437274, 0.8230820105820105], \"coordinates\": \"axes\", \"h_anchor\": \"start\", \"v_baseline\": \"auto\", \"rotation\": -0.0, \"fontsize\": 10.0, \"color\": \"#000000\", \"alpha\": 1, \"zorder\": 1000003.0, \"id\": \"el4604127071873201440\"}, {\"text\": \"qw\", \"position\": [0.10360663082437274, 0.7664141414141414], \"coordinates\": \"axes\", \"h_anchor\": \"start\", \"v_baseline\": \"auto\", \"rotation\": -0.0, \"fontsize\": 10.0, \"color\": \"#000000\", \"alpha\": 1, \"zorder\": 1000003.0, \"id\": \"el4604127071873195632\"}], \"collections\": [], \"images\": [], \"sharex\": [], \"sharey\": []}], \"data\": {\"data01\": [[0.0, 4.3297802811774664e-17, 0.7071067811865476, 0.7071067811865476, 4.3297802811774664e-17], [5.3856870499500795, -4.3297802811774664e-17, 0.7071067811865476, 0.7071067811865476, -4.3297802811774664e-17], [7.3856870499500795, -4.3297802811774664e-17, 0.7071067811865476, 0.7071067811865476, -4.3297802811774664e-17], [9.385687049950079, -4.3297802811774664e-17, 0.7071067811865476, 0.7071067811865476, -4.3297802811774664e-17], [11.385687049950079, -4.3297802811774664e-17, 0.7071067811865476, 0.7071067811865476, -4.3297802811774664e-17], [18.140315093003228, -2.3432602026631496e-17, 0.38268343236508984, 0.9238795325112867, -5.657130561438501e-17], [24.894943136056376, -3.749399456654644e-33, 6.123233995736766e-17, 1.0, -6.123233995736766e-17], [26.894943136056376, -3.749399456654644e-33, 6.123233995736766e-17, 1.0, -6.123233995736766e-17], [28.894943136056376, -3.749399456654644e-33, 6.123233995736766e-17, 1.0, -6.123233995736766e-17], [30.894943136056376, -3.749399456654644e-33, 6.123233995736766e-17, 1.0, -6.123233995736766e-17]], \"data02\": [[0.025201612903225812, 0.9495701058201058, 0.8929022366522368, 0.8362343674843674, 0.7795664983164984], [0.05320340501792115, 0.9495701058201058, 0.8929022366522368, 0.8362343674843674, 0.7795664983164984], [0.0812051971326165, 0.9495701058201058, 0.8929022366522368, 0.8362343674843674, 0.7795664983164984]], \"data03\": [[0.01960125448028671, 0.7432659932659932], [0.1500336021505376, 0.7432659932659932], [0.15563396057347664, 0.7432659932659932], [0.15563396057347664, 0.7507816257816257], [0.15563396057347664, 0.9736952861952862], [0.15563396057347664, 0.9812109187109187], [0.1500336021505376, 0.9812109187109187], [0.01960125448028671, 0.9812109187109187], [0.014000896057347667, 0.9812109187109187], [0.014000896057347667, 0.9736952861952862], [0.014000896057347667, 0.7507816257816257], [0.014000896057347667, 0.7432659932659932], [0.01960125448028671, 0.7432659932659932]]}, \"id\": \"el4604127071872712656\", \"plugins\": [{\"type\": \"reset\"}, {\"type\": \"zoom\", \"button\": true, \"enabled\": false}, {\"type\": \"boxzoom\", \"button\": true, \"enabled\": false}]});\n      });\n    });\n}else{\n    // require.js not available: dynamically load d3 & mpld3\n    mpld3_load_lib(\"https://d3js.org/d3.v5.js\", function(){\n         mpld3_load_lib(\"https://mpld3.github.io/js/mpld3.v0.5.10.js\", function(){\n                 \n                 mpld3.draw_figure(\"fig_el46041270718727126567214292906\", {\"width\": 640.0, \"height\": 480.0, \"axes\": [{\"bbox\": [0.125, 0.10999999999999999, 0.775, 0.77], \"xlim\": [-1.5447471568028188, 32.4396902928592], \"ylim\": [-0.050000000000000065, 1.05], \"xdomain\": [-1.5447471568028188, 32.4396902928592], \"ydomain\": [-0.050000000000000065, 1.05], \"xscale\": \"linear\", \"yscale\": \"linear\", \"axes\": [{\"position\": \"bottom\", \"nticks\": 9, \"tickvalues\": null, \"tickformat_formatter\": \"\", \"tickformat\": null, \"scale\": \"linear\", \"fontsize\": 10.0, \"grid\": {\"gridOn\": false}, \"visible\": true}, {\"position\": \"left\", \"nticks\": 8, \"tickvalues\": null, \"tickformat_formatter\": \"\", \"tickformat\": null, \"scale\": \"linear\", \"fontsize\": 10.0, \"grid\": {\"gridOn\": false}, \"visible\": true}], \"axesbg\": \"#FFFFFF\", \"axesbgalpha\": null, \"zoomable\": true, \"id\": \"el4604127071873011328\", \"lines\": [{\"data\": \"data01\", \"xindex\": 0, \"yindex\": 1, \"coordinates\": \"data\", \"id\": \"el4604127071873051872\", \"color\": \"#1F77B4\", \"linewidth\": 1.5, \"dasharray\": \"none\", \"alpha\": 1, \"zorder\": 2, \"drawstyle\": \"default\"}, {\"data\": \"data01\", \"xindex\": 0, \"yindex\": 2, \"coordinates\": \"data\", \"id\": \"el4604127071873051920\", \"color\": \"#FF7F0E\", \"linewidth\": 1.5, \"dasharray\": \"none\", \"alpha\": 1, \"zorder\": 2, \"drawstyle\": \"default\"}, {\"data\": \"data01\", \"xindex\": 0, \"yindex\": 3, \"coordinates\": \"data\", \"id\": \"el4604127071873052160\", \"color\": \"#2CA02C\", \"linewidth\": 1.5, \"dasharray\": \"none\", \"alpha\": 1, \"zorder\": 2, \"drawstyle\": \"default\"}, {\"data\": \"data01\", \"xindex\": 0, \"yindex\": 4, \"coordinates\": \"data\", \"id\": \"el4604127071873053312\", \"color\": \"#D62728\", \"linewidth\": 1.5, \"dasharray\": \"none\", \"alpha\": 1, \"zorder\": 2, \"drawstyle\": \"default\"}, {\"data\": \"data02\", \"xindex\": 0, \"yindex\": 1, \"coordinates\": \"axes\", \"id\": \"el4604127071873011472\", \"color\": \"#1F77B4\", \"linewidth\": 1.5, \"dasharray\": \"none\", \"alpha\": 1, \"zorder\": 1000002.0, \"drawstyle\": \"default\"}, {\"data\": \"data02\", \"xindex\": 0, \"yindex\": 2, \"coordinates\": \"axes\", \"id\": \"el4604127071873191696\", \"color\": \"#FF7F0E\", \"linewidth\": 1.5, \"dasharray\": \"none\", \"alpha\": 1, \"zorder\": 1000002.0, \"drawstyle\": \"default\"}, {\"data\": \"data02\", \"xindex\": 0, \"yindex\": 3, \"coordinates\": \"axes\", \"id\": \"el4604127071873197648\", \"color\": \"#2CA02C\", \"linewidth\": 1.5, \"dasharray\": \"none\", \"alpha\": 1, \"zorder\": 1000002.0, \"drawstyle\": \"default\"}, {\"data\": \"data02\", \"xindex\": 0, \"yindex\": 4, \"coordinates\": \"axes\", \"id\": \"el4604127071873188096\", \"color\": \"#D62728\", \"linewidth\": 1.5, \"dasharray\": \"none\", \"alpha\": 1, \"zorder\": 1000002.0, \"drawstyle\": \"default\"}], \"paths\": [{\"data\": \"data03\", \"xindex\": 0, \"yindex\": 1, \"coordinates\": \"axes\", \"pathcodes\": [\"M\", \"L\", \"S\", \"L\", \"S\", \"L\", \"S\", \"L\", \"S\", \"Z\"], \"id\": \"el4604127071873055136\", \"dasharray\": \"none\", \"alpha\": 0.8, \"facecolor\": \"rgba(255, 255, 255, 0.8)\", \"edgecolor\": \"rgba(204, 204, 204, 0.8)\", \"edgewidth\": 1.0, \"zorder\": 1000000.0}], \"markers\": [], \"texts\": [{\"text\": \"R_G\", \"position\": [0.5, 1.0225468975468974], \"coordinates\": \"axes\", \"h_anchor\": \"middle\", \"v_baseline\": \"auto\", \"rotation\": -0.0, \"fontsize\": 12.0, \"color\": \"#000000\", \"alpha\": 1, \"zorder\": 3, \"id\": \"el4604127071873054416\"}, {\"text\": \"qx\", \"position\": [0.10360663082437274, 0.9364177489177489], \"coordinates\": \"axes\", \"h_anchor\": \"start\", \"v_baseline\": \"auto\", \"rotation\": -0.0, \"fontsize\": 10.0, \"color\": \"#000000\", \"alpha\": 1, \"zorder\": 1000003.0, \"id\": \"el4604127071873046736\"}, {\"text\": \"qy\", \"position\": [0.10360663082437274, 0.8797498797498798], \"coordinates\": \"axes\", \"h_anchor\": \"start\", \"v_baseline\": \"auto\", \"rotation\": -0.0, \"fontsize\": 10.0, \"color\": \"#000000\", \"alpha\": 1, \"zorder\": 1000003.0, \"id\": \"el4604127071873055952\"}, {\"text\": \"qz\", \"position\": [0.10360663082437274, 0.8230820105820105], \"coordinates\": \"axes\", \"h_anchor\": \"start\", \"v_baseline\": \"auto\", \"rotation\": -0.0, \"fontsize\": 10.0, \"color\": \"#000000\", \"alpha\": 1, \"zorder\": 1000003.0, \"id\": \"el4604127071873201440\"}, {\"text\": \"qw\", \"position\": [0.10360663082437274, 0.7664141414141414], \"coordinates\": \"axes\", \"h_anchor\": \"start\", \"v_baseline\": \"auto\", \"rotation\": -0.0, \"fontsize\": 10.0, \"color\": \"#000000\", \"alpha\": 1, \"zorder\": 1000003.0, \"id\": \"el4604127071873195632\"}], \"collections\": [], \"images\": [], \"sharex\": [], \"sharey\": []}], \"data\": {\"data01\": [[0.0, 4.3297802811774664e-17, 0.7071067811865476, 0.7071067811865476, 4.3297802811774664e-17], [5.3856870499500795, -4.3297802811774664e-17, 0.7071067811865476, 0.7071067811865476, -4.3297802811774664e-17], [7.3856870499500795, -4.3297802811774664e-17, 0.7071067811865476, 0.7071067811865476, -4.3297802811774664e-17], [9.385687049950079, -4.3297802811774664e-17, 0.7071067811865476, 0.7071067811865476, -4.3297802811774664e-17], [11.385687049950079, -4.3297802811774664e-17, 0.7071067811865476, 0.7071067811865476, -4.3297802811774664e-17], [18.140315093003228, -2.3432602026631496e-17, 0.38268343236508984, 0.9238795325112867, -5.657130561438501e-17], [24.894943136056376, -3.749399456654644e-33, 6.123233995736766e-17, 1.0, -6.123233995736766e-17], [26.894943136056376, -3.749399456654644e-33, 6.123233995736766e-17, 1.0, -6.123233995736766e-17], [28.894943136056376, -3.749399456654644e-33, 6.123233995736766e-17, 1.0, -6.123233995736766e-17], [30.894943136056376, -3.749399456654644e-33, 6.123233995736766e-17, 1.0, -6.123233995736766e-17]], \"data02\": [[0.025201612903225812, 0.9495701058201058, 0.8929022366522368, 0.8362343674843674, 0.7795664983164984], [0.05320340501792115, 0.9495701058201058, 0.8929022366522368, 0.8362343674843674, 0.7795664983164984], [0.0812051971326165, 0.9495701058201058, 0.8929022366522368, 0.8362343674843674, 0.7795664983164984]], \"data03\": [[0.01960125448028671, 0.7432659932659932], [0.1500336021505376, 0.7432659932659932], [0.15563396057347664, 0.7432659932659932], [0.15563396057347664, 0.7507816257816257], [0.15563396057347664, 0.9736952861952862], [0.15563396057347664, 0.9812109187109187], [0.1500336021505376, 0.9812109187109187], [0.01960125448028671, 0.9812109187109187], [0.014000896057347667, 0.9812109187109187], [0.014000896057347667, 0.9736952861952862], [0.014000896057347667, 0.7507816257816257], [0.014000896057347667, 0.7432659932659932], [0.01960125448028671, 0.7432659932659932]]}, \"id\": \"el4604127071872712656\", \"plugins\": [{\"type\": \"reset\"}, {\"type\": \"zoom\", \"button\": true, \"enabled\": false}, {\"type\": \"boxzoom\", \"button\": true, \"enabled\": false}]});\n            })\n         });\n}\n</script>"
     },
     "execution_count": 80,
     "metadata": {},
     "output_type": "execute_result"
    }
   ],
   "source": [
    "traj_R_G = traj_X_G.get_orientation_trajectory()\n",
    "R_G = traj_R_G.vector_values(traj_R_G.get_segment_times())\n",
    "plt.plot(traj_R_G.get_segment_times(), R_G.T)   \n",
    "plt.legend([\"qx\", \"qy\", \"qz\", \"qw\"])\n",
    "plt.title(\"R_G\")\n",
    "mpld3.display()"
   ]
  },
  {
   "cell_type": "markdown",
   "metadata": {
    "collapsed": false
   },
   "source": [
    "Better, I think, to just plot the entire result.  Before we do, let's quickly define the finger trajectory."
   ]
  },
  {
   "cell_type": "code",
   "execution_count": 81,
   "metadata": {
    "collapsed": false,
    "ExecuteTime": {
     "end_time": "2024-03-25T09:59:36.867509Z",
     "start_time": "2024-03-25T09:59:36.863874Z"
    }
   },
   "outputs": [],
   "source": [
    "def MakeGripperCommandTrajectory(times):\n",
    "    opened = np.array([0.107])\n",
    "    closed = np.array([0.0])\n",
    "\n",
    "    traj_wsg_command = PiecewisePolynomial.FirstOrderHold(\n",
    "        [times[\"initial\"], times[\"pick_start\"]],\n",
    "        np.hstack([[opened], [opened]]),\n",
    "    )\n",
    "    traj_wsg_command.AppendFirstOrderSegment(times[\"pick_end\"], closed)\n",
    "    traj_wsg_command.AppendFirstOrderSegment(times[\"place_start\"], closed)\n",
    "    traj_wsg_command.AppendFirstOrderSegment(times[\"place_end\"], opened)\n",
    "    traj_wsg_command.AppendFirstOrderSegment(times[\"postplace\"], opened)\n",
    "    return traj_wsg_command\n",
    "\n",
    "\n",
    "traj_wsg_command = MakeGripperCommandTrajectory(times)"
   ]
  },
  {
   "cell_type": "code",
   "execution_count": 82,
   "metadata": {
    "collapsed": false,
    "ExecuteTime": {
     "end_time": "2024-03-25T09:59:39.073289Z",
     "start_time": "2024-03-25T09:59:38.889193Z"
    }
   },
   "outputs": [
    {
     "data": {
      "text/plain": "<IPython.core.display.HTML object>",
      "text/html": "\n\n<style>\n\n</style>\n\n<div id=\"fig_el46041270718723652326896834267\"></div>\n<script>\nfunction mpld3_load_lib(url, callback){\n  var s = document.createElement('script');\n  s.src = url;\n  s.async = true;\n  s.onreadystatechange = s.onload = callback;\n  s.onerror = function(){console.warn(\"failed to load library \" + url);};\n  document.getElementsByTagName(\"head\")[0].appendChild(s);\n}\n\nif(typeof(mpld3) !== \"undefined\" && mpld3._mpld3IsLoaded){\n   // already loaded: just create the figure\n   !function(mpld3){\n       \n       mpld3.draw_figure(\"fig_el46041270718723652326896834267\", {\"width\": 640.0, \"height\": 480.0, \"axes\": [{\"bbox\": [0.125, 0.10999999999999999, 0.775, 0.77], \"xlim\": [-1.5447471568028188, 32.4396902928592], \"ylim\": [-0.005350000000000001, 0.11235], \"xdomain\": [-1.5447471568028188, 32.4396902928592], \"ydomain\": [-0.005350000000000001, 0.11235], \"xscale\": \"linear\", \"yscale\": \"linear\", \"axes\": [{\"position\": \"bottom\", \"nticks\": 9, \"tickvalues\": null, \"tickformat_formatter\": \"\", \"tickformat\": null, \"scale\": \"linear\", \"fontsize\": 10.0, \"grid\": {\"gridOn\": false}, \"visible\": true}, {\"position\": \"left\", \"nticks\": 8, \"tickvalues\": null, \"tickformat_formatter\": \"\", \"tickformat\": null, \"scale\": \"linear\", \"fontsize\": 10.0, \"grid\": {\"gridOn\": false}, \"visible\": true}], \"axesbg\": \"#FFFFFF\", \"axesbgalpha\": null, \"zoomable\": true, \"id\": \"el4604127071872355968\", \"lines\": [{\"data\": \"data01\", \"xindex\": 0, \"yindex\": 1, \"coordinates\": \"data\", \"id\": \"el4604127071826343728\", \"color\": \"#1F77B4\", \"linewidth\": 1.5, \"dasharray\": \"none\", \"alpha\": 1, \"zorder\": 2, \"drawstyle\": \"default\"}], \"paths\": [], \"markers\": [], \"texts\": [{\"text\": \"wsg_command\", \"position\": [0.5, 1.0225468975468974], \"coordinates\": \"axes\", \"h_anchor\": \"middle\", \"v_baseline\": \"auto\", \"rotation\": -0.0, \"fontsize\": 12.0, \"color\": \"#000000\", \"alpha\": 1, \"zorder\": 3, \"id\": \"el4604127071826335088\"}], \"collections\": [], \"images\": [], \"sharex\": [], \"sharey\": []}], \"data\": {\"data01\": [[0.0, 0.107], [7.3856870499500795, 0.107], [9.385687049950079, 0.0], [26.894943136056376, 0.0], [28.894943136056376, 0.107], [30.894943136056376, 0.107]]}, \"id\": \"el4604127071872365232\", \"plugins\": [{\"type\": \"reset\"}, {\"type\": \"zoom\", \"button\": true, \"enabled\": false}, {\"type\": \"boxzoom\", \"button\": true, \"enabled\": false}]});\n   }(mpld3);\n}else if(typeof define === \"function\" && define.amd){\n   // require.js is available: use it to load d3/mpld3\n   require.config({paths: {d3: \"https://d3js.org/d3.v5\"}});\n   require([\"d3\"], function(d3){\n      window.d3 = d3;\n      mpld3_load_lib(\"https://mpld3.github.io/js/mpld3.v0.5.10.js\", function(){\n         \n         mpld3.draw_figure(\"fig_el46041270718723652326896834267\", {\"width\": 640.0, \"height\": 480.0, \"axes\": [{\"bbox\": [0.125, 0.10999999999999999, 0.775, 0.77], \"xlim\": [-1.5447471568028188, 32.4396902928592], \"ylim\": [-0.005350000000000001, 0.11235], \"xdomain\": [-1.5447471568028188, 32.4396902928592], \"ydomain\": [-0.005350000000000001, 0.11235], \"xscale\": \"linear\", \"yscale\": \"linear\", \"axes\": [{\"position\": \"bottom\", \"nticks\": 9, \"tickvalues\": null, \"tickformat_formatter\": \"\", \"tickformat\": null, \"scale\": \"linear\", \"fontsize\": 10.0, \"grid\": {\"gridOn\": false}, \"visible\": true}, {\"position\": \"left\", \"nticks\": 8, \"tickvalues\": null, \"tickformat_formatter\": \"\", \"tickformat\": null, \"scale\": \"linear\", \"fontsize\": 10.0, \"grid\": {\"gridOn\": false}, \"visible\": true}], \"axesbg\": \"#FFFFFF\", \"axesbgalpha\": null, \"zoomable\": true, \"id\": \"el4604127071872355968\", \"lines\": [{\"data\": \"data01\", \"xindex\": 0, \"yindex\": 1, \"coordinates\": \"data\", \"id\": \"el4604127071826343728\", \"color\": \"#1F77B4\", \"linewidth\": 1.5, \"dasharray\": \"none\", \"alpha\": 1, \"zorder\": 2, \"drawstyle\": \"default\"}], \"paths\": [], \"markers\": [], \"texts\": [{\"text\": \"wsg_command\", \"position\": [0.5, 1.0225468975468974], \"coordinates\": \"axes\", \"h_anchor\": \"middle\", \"v_baseline\": \"auto\", \"rotation\": -0.0, \"fontsize\": 12.0, \"color\": \"#000000\", \"alpha\": 1, \"zorder\": 3, \"id\": \"el4604127071826335088\"}], \"collections\": [], \"images\": [], \"sharex\": [], \"sharey\": []}], \"data\": {\"data01\": [[0.0, 0.107], [7.3856870499500795, 0.107], [9.385687049950079, 0.0], [26.894943136056376, 0.0], [28.894943136056376, 0.107], [30.894943136056376, 0.107]]}, \"id\": \"el4604127071872365232\", \"plugins\": [{\"type\": \"reset\"}, {\"type\": \"zoom\", \"button\": true, \"enabled\": false}, {\"type\": \"boxzoom\", \"button\": true, \"enabled\": false}]});\n      });\n    });\n}else{\n    // require.js not available: dynamically load d3 & mpld3\n    mpld3_load_lib(\"https://d3js.org/d3.v5.js\", function(){\n         mpld3_load_lib(\"https://mpld3.github.io/js/mpld3.v0.5.10.js\", function(){\n                 \n                 mpld3.draw_figure(\"fig_el46041270718723652326896834267\", {\"width\": 640.0, \"height\": 480.0, \"axes\": [{\"bbox\": [0.125, 0.10999999999999999, 0.775, 0.77], \"xlim\": [-1.5447471568028188, 32.4396902928592], \"ylim\": [-0.005350000000000001, 0.11235], \"xdomain\": [-1.5447471568028188, 32.4396902928592], \"ydomain\": [-0.005350000000000001, 0.11235], \"xscale\": \"linear\", \"yscale\": \"linear\", \"axes\": [{\"position\": \"bottom\", \"nticks\": 9, \"tickvalues\": null, \"tickformat_formatter\": \"\", \"tickformat\": null, \"scale\": \"linear\", \"fontsize\": 10.0, \"grid\": {\"gridOn\": false}, \"visible\": true}, {\"position\": \"left\", \"nticks\": 8, \"tickvalues\": null, \"tickformat_formatter\": \"\", \"tickformat\": null, \"scale\": \"linear\", \"fontsize\": 10.0, \"grid\": {\"gridOn\": false}, \"visible\": true}], \"axesbg\": \"#FFFFFF\", \"axesbgalpha\": null, \"zoomable\": true, \"id\": \"el4604127071872355968\", \"lines\": [{\"data\": \"data01\", \"xindex\": 0, \"yindex\": 1, \"coordinates\": \"data\", \"id\": \"el4604127071826343728\", \"color\": \"#1F77B4\", \"linewidth\": 1.5, \"dasharray\": \"none\", \"alpha\": 1, \"zorder\": 2, \"drawstyle\": \"default\"}], \"paths\": [], \"markers\": [], \"texts\": [{\"text\": \"wsg_command\", \"position\": [0.5, 1.0225468975468974], \"coordinates\": \"axes\", \"h_anchor\": \"middle\", \"v_baseline\": \"auto\", \"rotation\": -0.0, \"fontsize\": 12.0, \"color\": \"#000000\", \"alpha\": 1, \"zorder\": 3, \"id\": \"el4604127071826335088\"}], \"collections\": [], \"images\": [], \"sharex\": [], \"sharey\": []}], \"data\": {\"data01\": [[0.0, 0.107], [7.3856870499500795, 0.107], [9.385687049950079, 0.0], [26.894943136056376, 0.0], [28.894943136056376, 0.107], [30.894943136056376, 0.107]]}, \"id\": \"el4604127071872365232\", \"plugins\": [{\"type\": \"reset\"}, {\"type\": \"zoom\", \"button\": true, \"enabled\": false}, {\"type\": \"boxzoom\", \"button\": true, \"enabled\": false}]});\n            })\n         });\n}\n</script>"
     },
     "execution_count": 82,
     "metadata": {},
     "output_type": "execute_result"
    }
   ],
   "source": [
    "wsg_command = traj_wsg_command.vector_values(traj_wsg_command.get_segment_times())\n",
    "plt.plot(traj_wsg_command.get_segment_times(), wsg_command.T)\n",
    "plt.title(\"wsg_command\")\n",
    "mpld3.display()"
   ]
  },
  {
   "cell_type": "markdown",
   "metadata": {
    "collapsed": false
   },
   "source": [
    "Now let's really visualize the trajectory.  The best way is to animate it in 3D!  Please forgive the messiness of this particular bit of code; I'm trying to provide some intermediate steps that aren't typically used by the main drake developers.\n",
    "\n",
    "TODO(russt): make this less \"bespoke\"."
   ]
  },
  {
   "cell_type": "code",
   "execution_count": 83,
   "metadata": {
    "collapsed": false,
    "ExecuteTime": {
     "end_time": "2024-03-25T09:59:42.290725Z",
     "start_time": "2024-03-25T09:59:41.408445Z"
    }
   },
   "outputs": [],
   "source": [
    "class GripperTrajectoriesToPosition(LeafSystem):\n",
    "    def __init__(self, plant, traj_p_G, traj_R_G, traj_wsg_command):\n",
    "        LeafSystem.__init__(self)\n",
    "        self.plant = plant\n",
    "        self.gripper_body = plant.GetBodyByName(\"body\")\n",
    "        self.left_finger_joint = plant.GetJointByName(\"left_finger_sliding_joint\")\n",
    "        self.right_finger_joint = plant.GetJointByName(\"right_finger_sliding_joint\")\n",
    "        self.traj_p_G = traj_p_G\n",
    "        self.traj_R_G = traj_R_G\n",
    "        self.traj_wsg_command = traj_wsg_command\n",
    "        self.plant_context = plant.CreateDefaultContext()\n",
    "\n",
    "        self.DeclareVectorOutputPort(\n",
    "            \"position\", plant.num_positions(), self.CalcPositionOutput\n",
    "        )\n",
    "\n",
    "    def CalcPositionOutput(self, context, output):\n",
    "        t = context.get_time()\n",
    "        X_G = RigidTransform(Quaternion(self.traj_R_G.value(t)), self.traj_p_G.value(t))\n",
    "        self.plant.SetFreeBodyPose(self.plant_context, self.gripper_body, X_G)\n",
    "        wsg = self.traj_wsg_command.value(t)[0, 0]\n",
    "        self.left_finger_joint.set_translation(self.plant_context, -wsg / 2.0)\n",
    "        self.right_finger_joint.set_translation(self.plant_context, wsg / 2.0)\n",
    "        output.SetFromVector(self.plant.GetPositions(self.plant_context))\n",
    "\n",
    "\n",
    "def visualize_pick_and_place_trajectory(traj_p_G, traj_R_G, traj_wsg_command, X_O):\n",
    "    builder = DiagramBuilder()\n",
    "\n",
    "    # Note: Don't use AddMultibodyPlantSceneGraph because we are only using\n",
    "    # MultibodyPlant for parsing, then wiring directly to SceneGraph.\n",
    "    scene_graph = builder.AddSystem(SceneGraph())\n",
    "    plant = MultibodyPlant(time_step=0.0)\n",
    "    plant.RegisterAsSourceForSceneGraph(scene_graph)\n",
    "    parser = Parser(plant, scene_graph)\n",
    "    parser.SetAutoRenaming(True)\n",
    "    gripper = parser.AddModelsFromUrl(\n",
    "        \"package://drake/manipulation/models/wsg_50_description/sdf/schunk_wsg_50_no_tip.sdf\"\n",
    "    )[0]\n",
    "    brick = \"package://drake/examples/manipulation_station/models/061_foam_brick.sdf\"\n",
    "    for key, pose in X_O.items():\n",
    "        o = parser.AddModelsFromUrl(brick)[0]\n",
    "        plant.WeldFrames(\n",
    "            plant.world_frame(), plant.GetFrameByName(\"base_link\", o), pose\n",
    "        )\n",
    "    plant.Finalize()\n",
    "\n",
    "    to_pose = builder.AddSystem(MultibodyPositionToGeometryPose(plant))\n",
    "    builder.Connect(\n",
    "        to_pose.get_output_port(),\n",
    "        scene_graph.get_source_pose_port(plant.get_source_id()),\n",
    "    )\n",
    "\n",
    "    traj_to_position = builder.AddSystem(\n",
    "        GripperTrajectoriesToPosition(plant, traj_p_G, traj_R_G, traj_wsg_command)\n",
    "    )\n",
    "    builder.Connect(traj_to_position.get_output_port(), to_pose.get_input_port())\n",
    "\n",
    "    meshcat.Delete()\n",
    "    MeshcatVisualizer.AddToBuilder(builder, scene_graph, meshcat)\n",
    "\n",
    "    diagram = builder.Build()\n",
    "\n",
    "    simulator = Simulator(diagram)\n",
    "    meshcat.StartRecording(set_visualizations_while_recording=False)\n",
    "    simulator.AdvanceTo(traj_p_G.end_time() if running_as_notebook else 0.1)\n",
    "    meshcat.PublishRecording()\n",
    "\n",
    "\n",
    "visualize_pick_and_place_trajectory(traj_p_G, traj_R_G, traj_wsg_command, X_O)"
   ]
  },
  {
   "cell_type": "markdown",
   "metadata": {
    "collapsed": false
   },
   "source": [
    "# Putting it all together\n",
    "\n",
    "In the visualization above, we animated the plan, but did not actually command the robot!  Let's put our grasping trajectories back together with our Jacobian-based controller.\n",
    "\n",
    "The first thing you might have noticed is that the Jacobian controller takes spatial velocities as input.  But so far we have trajectories for positions and orientations.  Let's differentiate them to get the velocities."
   ]
  },
  {
   "cell_type": "code",
   "execution_count": 13,
   "metadata": {
    "collapsed": false,
    "ExecuteTime": {
     "end_time": "2024-03-21T09:14:45.392670Z",
     "start_time": "2024-03-21T09:14:44.900657Z"
    }
   },
   "outputs": [
    {
     "data": {
      "text/plain": "<IPython.core.display.HTML object>",
      "text/html": "\n\n<style>\n\n</style>\n\n<div id=\"fig_el63401306360813533289310095214\"></div>\n<script>\nfunction mpld3_load_lib(url, callback){\n  var s = document.createElement('script');\n  s.src = url;\n  s.async = true;\n  s.onreadystatechange = s.onload = callback;\n  s.onerror = function(){console.warn(\"failed to load library \" + url);};\n  document.getElementsByTagName(\"head\")[0].appendChild(s);\n}\n\nif(typeof(mpld3) !== \"undefined\" && mpld3._mpld3IsLoaded){\n   // already loaded: just create the figure\n   !function(mpld3){\n       \n       mpld3.draw_figure(\"fig_el63401306360813533289310095214\", {\"width\": 640.0, \"height\": 480.0, \"axes\": [{\"bbox\": [0.125, 0.10999999999999999, 0.775, 0.77], \"xlim\": [-1.6995251034542251, 35.69002717253873], \"ylim\": [-0.09984079013989003, 0.09042928155245604], \"xdomain\": [-1.6995251034542251, 35.69002717253873], \"ydomain\": [-0.09984079013989003, 0.09042928155245604], \"xscale\": \"linear\", \"yscale\": \"linear\", \"axes\": [{\"position\": \"bottom\", \"nticks\": 10, \"tickvalues\": null, \"tickformat_formatter\": \"\", \"tickformat\": null, \"scale\": \"linear\", \"fontsize\": 10.0, \"grid\": {\"gridOn\": false}, \"visible\": true}, {\"position\": \"left\", \"nticks\": 9, \"tickvalues\": null, \"tickformat_formatter\": \"\", \"tickformat\": null, \"scale\": \"linear\", \"fontsize\": 10.0, \"grid\": {\"gridOn\": false}, \"visible\": true}], \"axesbg\": \"#FFFFFF\", \"axesbgalpha\": null, \"zoomable\": true, \"id\": \"el6340130636080005568\", \"lines\": [{\"data\": \"data01\", \"xindex\": 0, \"yindex\": 1, \"coordinates\": \"data\", \"id\": \"el6340130636079709920\", \"color\": \"#1F77B4\", \"linewidth\": 1.5, \"dasharray\": \"none\", \"alpha\": 1, \"zorder\": 2, \"drawstyle\": \"default\"}, {\"data\": \"data01\", \"xindex\": 0, \"yindex\": 2, \"coordinates\": \"data\", \"id\": \"el6340130636079709824\", \"color\": \"#FF7F0E\", \"linewidth\": 1.5, \"dasharray\": \"none\", \"alpha\": 1, \"zorder\": 2, \"drawstyle\": \"default\"}, {\"data\": \"data01\", \"xindex\": 0, \"yindex\": 3, \"coordinates\": \"data\", \"id\": \"el6340130636079709776\", \"color\": \"#2CA02C\", \"linewidth\": 1.5, \"dasharray\": \"none\", \"alpha\": 1, \"zorder\": 2, \"drawstyle\": \"default\"}, {\"data\": \"data02\", \"xindex\": 0, \"yindex\": 1, \"coordinates\": \"axes\", \"id\": \"el6340130636079699024\", \"color\": \"#1F77B4\", \"linewidth\": 1.5, \"dasharray\": \"none\", \"alpha\": 1, \"zorder\": 1000002.0, \"drawstyle\": \"default\"}, {\"data\": \"data02\", \"xindex\": 0, \"yindex\": 2, \"coordinates\": \"axes\", \"id\": \"el6340130636079697056\", \"color\": \"#FF7F0E\", \"linewidth\": 1.5, \"dasharray\": \"none\", \"alpha\": 1, \"zorder\": 1000002.0, \"drawstyle\": \"default\"}, {\"data\": \"data02\", \"xindex\": 0, \"yindex\": 3, \"coordinates\": \"axes\", \"id\": \"el6340130636079703248\", \"color\": \"#2CA02C\", \"linewidth\": 1.5, \"dasharray\": \"none\", \"alpha\": 1, \"zorder\": 1000002.0, \"drawstyle\": \"default\"}], \"paths\": [{\"data\": \"data03\", \"xindex\": 0, \"yindex\": 1, \"coordinates\": \"axes\", \"pathcodes\": [\"M\", \"L\", \"S\", \"L\", \"S\", \"L\", \"S\", \"L\", \"S\", \"Z\"], \"id\": \"el6340130636079709392\", \"dasharray\": \"none\", \"alpha\": 0.8, \"facecolor\": \"rgba(255, 255, 255, 0.8)\", \"edgecolor\": \"rgba(204, 204, 204, 0.8)\", \"edgewidth\": 1.0, \"zorder\": 1000000.0}], \"markers\": [], \"texts\": [{\"text\": \"v_G\", \"position\": [0.5, 1.0225468975468974], \"coordinates\": \"axes\", \"h_anchor\": \"middle\", \"v_baseline\": \"auto\", \"rotation\": -0.0, \"fontsize\": 12.0, \"color\": \"#000000\", \"alpha\": 1, \"zorder\": 3, \"id\": \"el6340130636080011664\"}, {\"text\": \"vx\", \"position\": [0.9415322580645161, 0.9364177489177489], \"coordinates\": \"axes\", \"h_anchor\": \"start\", \"v_baseline\": \"auto\", \"rotation\": -0.0, \"fontsize\": 10.0, \"color\": \"#000000\", \"alpha\": 1, \"zorder\": 1000003.0, \"id\": \"el6340130636079703296\"}, {\"text\": \"vy\", \"position\": [0.9415322580645161, 0.8797498797498798], \"coordinates\": \"axes\", \"h_anchor\": \"start\", \"v_baseline\": \"auto\", \"rotation\": -0.0, \"fontsize\": 10.0, \"color\": \"#000000\", \"alpha\": 1, \"zorder\": 1000003.0, \"id\": \"el6340130636079698496\"}, {\"text\": \"vz\", \"position\": [0.9415322580645161, 0.8230820105820105], \"coordinates\": \"axes\", \"h_anchor\": \"start\", \"v_baseline\": \"auto\", \"rotation\": -0.0, \"fontsize\": 10.0, \"color\": \"#000000\", \"alpha\": 1, \"zorder\": 1000003.0, \"id\": \"el6340130636079697872\"}], \"collections\": [], \"images\": [], \"sharex\": [], \"sharey\": []}], \"data\": {\"data01\": [[0.0, -2.5310906292405805e-18, -0.09119215051751066, -0.04103646773287979], [5.482928049865326, -0.04, 0.0, -5.204170427930421e-18], [7.482928049865326, 0.0, 0.0, 0.0], [9.482928049865325, 0.04, 0.0, 5.204170427930421e-18], [11.482928049865325, 0.08178064193007667, 0.05754934061746136, 4.6238067964507534e-18], [19.736715059474914, 0.009086737992230734, 0.05754934061746135, -4.6238067964507534e-18], [27.990502069084503, 0.0, -0.04000000000000001, -5.204170427930421e-18], [29.990502069084503, 0.0, 0.0, 0.0], [31.990502069084503, 0.0, 0.04000000000000008, 5.2041704279304305e-18], [33.9905020690845, 0.0, 0.04000000000000008, 5.2041704279304305e-18]], \"data02\": [[0.8631272401433691, 0.9495701058201058, 0.8929022366522368, 0.8362343674843674], [0.8911290322580644, 0.9495701058201058, 0.8929022366522368, 0.8362343674843674], [0.9191308243727597, 0.9495701058201058, 0.8929022366522368, 0.8362343674843674]], \"data03\": [[0.8575268817204301, 0.7999338624338624], [0.9803987455197131, 0.7999338624338624], [0.9859991039426522, 0.7999338624338624], [0.9859991039426522, 0.8074494949494949], [0.9859991039426522, 0.9736952861952862], [0.9859991039426522, 0.9812109187109187], [0.9803987455197131, 0.9812109187109187], [0.8575268817204301, 0.9812109187109187], [0.851926523297491, 0.9812109187109187], [0.851926523297491, 0.9736952861952862], [0.851926523297491, 0.8074494949494949], [0.851926523297491, 0.7999338624338624], [0.8575268817204301, 0.7999338624338624]]}, \"id\": \"el6340130636081353328\", \"plugins\": [{\"type\": \"reset\"}, {\"type\": \"zoom\", \"button\": true, \"enabled\": false}, {\"type\": \"boxzoom\", \"button\": true, \"enabled\": false}]});\n   }(mpld3);\n}else if(typeof define === \"function\" && define.amd){\n   // require.js is available: use it to load d3/mpld3\n   require.config({paths: {d3: \"https://d3js.org/d3.v5\"}});\n   require([\"d3\"], function(d3){\n      window.d3 = d3;\n      mpld3_load_lib(\"https://mpld3.github.io/js/mpld3.v0.5.10.js\", function(){\n         \n         mpld3.draw_figure(\"fig_el63401306360813533289310095214\", {\"width\": 640.0, \"height\": 480.0, \"axes\": [{\"bbox\": [0.125, 0.10999999999999999, 0.775, 0.77], \"xlim\": [-1.6995251034542251, 35.69002717253873], \"ylim\": [-0.09984079013989003, 0.09042928155245604], \"xdomain\": [-1.6995251034542251, 35.69002717253873], \"ydomain\": [-0.09984079013989003, 0.09042928155245604], \"xscale\": \"linear\", \"yscale\": \"linear\", \"axes\": [{\"position\": \"bottom\", \"nticks\": 10, \"tickvalues\": null, \"tickformat_formatter\": \"\", \"tickformat\": null, \"scale\": \"linear\", \"fontsize\": 10.0, \"grid\": {\"gridOn\": false}, \"visible\": true}, {\"position\": \"left\", \"nticks\": 9, \"tickvalues\": null, \"tickformat_formatter\": \"\", \"tickformat\": null, \"scale\": \"linear\", \"fontsize\": 10.0, \"grid\": {\"gridOn\": false}, \"visible\": true}], \"axesbg\": \"#FFFFFF\", \"axesbgalpha\": null, \"zoomable\": true, \"id\": \"el6340130636080005568\", \"lines\": [{\"data\": \"data01\", \"xindex\": 0, \"yindex\": 1, \"coordinates\": \"data\", \"id\": \"el6340130636079709920\", \"color\": \"#1F77B4\", \"linewidth\": 1.5, \"dasharray\": \"none\", \"alpha\": 1, \"zorder\": 2, \"drawstyle\": \"default\"}, {\"data\": \"data01\", \"xindex\": 0, \"yindex\": 2, \"coordinates\": \"data\", \"id\": \"el6340130636079709824\", \"color\": \"#FF7F0E\", \"linewidth\": 1.5, \"dasharray\": \"none\", \"alpha\": 1, \"zorder\": 2, \"drawstyle\": \"default\"}, {\"data\": \"data01\", \"xindex\": 0, \"yindex\": 3, \"coordinates\": \"data\", \"id\": \"el6340130636079709776\", \"color\": \"#2CA02C\", \"linewidth\": 1.5, \"dasharray\": \"none\", \"alpha\": 1, \"zorder\": 2, \"drawstyle\": \"default\"}, {\"data\": \"data02\", \"xindex\": 0, \"yindex\": 1, \"coordinates\": \"axes\", \"id\": \"el6340130636079699024\", \"color\": \"#1F77B4\", \"linewidth\": 1.5, \"dasharray\": \"none\", \"alpha\": 1, \"zorder\": 1000002.0, \"drawstyle\": \"default\"}, {\"data\": \"data02\", \"xindex\": 0, \"yindex\": 2, \"coordinates\": \"axes\", \"id\": \"el6340130636079697056\", \"color\": \"#FF7F0E\", \"linewidth\": 1.5, \"dasharray\": \"none\", \"alpha\": 1, \"zorder\": 1000002.0, \"drawstyle\": \"default\"}, {\"data\": \"data02\", \"xindex\": 0, \"yindex\": 3, \"coordinates\": \"axes\", \"id\": \"el6340130636079703248\", \"color\": \"#2CA02C\", \"linewidth\": 1.5, \"dasharray\": \"none\", \"alpha\": 1, \"zorder\": 1000002.0, \"drawstyle\": \"default\"}], \"paths\": [{\"data\": \"data03\", \"xindex\": 0, \"yindex\": 1, \"coordinates\": \"axes\", \"pathcodes\": [\"M\", \"L\", \"S\", \"L\", \"S\", \"L\", \"S\", \"L\", \"S\", \"Z\"], \"id\": \"el6340130636079709392\", \"dasharray\": \"none\", \"alpha\": 0.8, \"facecolor\": \"rgba(255, 255, 255, 0.8)\", \"edgecolor\": \"rgba(204, 204, 204, 0.8)\", \"edgewidth\": 1.0, \"zorder\": 1000000.0}], \"markers\": [], \"texts\": [{\"text\": \"v_G\", \"position\": [0.5, 1.0225468975468974], \"coordinates\": \"axes\", \"h_anchor\": \"middle\", \"v_baseline\": \"auto\", \"rotation\": -0.0, \"fontsize\": 12.0, \"color\": \"#000000\", \"alpha\": 1, \"zorder\": 3, \"id\": \"el6340130636080011664\"}, {\"text\": \"vx\", \"position\": [0.9415322580645161, 0.9364177489177489], \"coordinates\": \"axes\", \"h_anchor\": \"start\", \"v_baseline\": \"auto\", \"rotation\": -0.0, \"fontsize\": 10.0, \"color\": \"#000000\", \"alpha\": 1, \"zorder\": 1000003.0, \"id\": \"el6340130636079703296\"}, {\"text\": \"vy\", \"position\": [0.9415322580645161, 0.8797498797498798], \"coordinates\": \"axes\", \"h_anchor\": \"start\", \"v_baseline\": \"auto\", \"rotation\": -0.0, \"fontsize\": 10.0, \"color\": \"#000000\", \"alpha\": 1, \"zorder\": 1000003.0, \"id\": \"el6340130636079698496\"}, {\"text\": \"vz\", \"position\": [0.9415322580645161, 0.8230820105820105], \"coordinates\": \"axes\", \"h_anchor\": \"start\", \"v_baseline\": \"auto\", \"rotation\": -0.0, \"fontsize\": 10.0, \"color\": \"#000000\", \"alpha\": 1, \"zorder\": 1000003.0, \"id\": \"el6340130636079697872\"}], \"collections\": [], \"images\": [], \"sharex\": [], \"sharey\": []}], \"data\": {\"data01\": [[0.0, -2.5310906292405805e-18, -0.09119215051751066, -0.04103646773287979], [5.482928049865326, -0.04, 0.0, -5.204170427930421e-18], [7.482928049865326, 0.0, 0.0, 0.0], [9.482928049865325, 0.04, 0.0, 5.204170427930421e-18], [11.482928049865325, 0.08178064193007667, 0.05754934061746136, 4.6238067964507534e-18], [19.736715059474914, 0.009086737992230734, 0.05754934061746135, -4.6238067964507534e-18], [27.990502069084503, 0.0, -0.04000000000000001, -5.204170427930421e-18], [29.990502069084503, 0.0, 0.0, 0.0], [31.990502069084503, 0.0, 0.04000000000000008, 5.2041704279304305e-18], [33.9905020690845, 0.0, 0.04000000000000008, 5.2041704279304305e-18]], \"data02\": [[0.8631272401433691, 0.9495701058201058, 0.8929022366522368, 0.8362343674843674], [0.8911290322580644, 0.9495701058201058, 0.8929022366522368, 0.8362343674843674], [0.9191308243727597, 0.9495701058201058, 0.8929022366522368, 0.8362343674843674]], \"data03\": [[0.8575268817204301, 0.7999338624338624], [0.9803987455197131, 0.7999338624338624], [0.9859991039426522, 0.7999338624338624], [0.9859991039426522, 0.8074494949494949], [0.9859991039426522, 0.9736952861952862], [0.9859991039426522, 0.9812109187109187], [0.9803987455197131, 0.9812109187109187], [0.8575268817204301, 0.9812109187109187], [0.851926523297491, 0.9812109187109187], [0.851926523297491, 0.9736952861952862], [0.851926523297491, 0.8074494949494949], [0.851926523297491, 0.7999338624338624], [0.8575268817204301, 0.7999338624338624]]}, \"id\": \"el6340130636081353328\", \"plugins\": [{\"type\": \"reset\"}, {\"type\": \"zoom\", \"button\": true, \"enabled\": false}, {\"type\": \"boxzoom\", \"button\": true, \"enabled\": false}]});\n      });\n    });\n}else{\n    // require.js not available: dynamically load d3 & mpld3\n    mpld3_load_lib(\"https://d3js.org/d3.v5.js\", function(){\n         mpld3_load_lib(\"https://mpld3.github.io/js/mpld3.v0.5.10.js\", function(){\n                 \n                 mpld3.draw_figure(\"fig_el63401306360813533289310095214\", {\"width\": 640.0, \"height\": 480.0, \"axes\": [{\"bbox\": [0.125, 0.10999999999999999, 0.775, 0.77], \"xlim\": [-1.6995251034542251, 35.69002717253873], \"ylim\": [-0.09984079013989003, 0.09042928155245604], \"xdomain\": [-1.6995251034542251, 35.69002717253873], \"ydomain\": [-0.09984079013989003, 0.09042928155245604], \"xscale\": \"linear\", \"yscale\": \"linear\", \"axes\": [{\"position\": \"bottom\", \"nticks\": 10, \"tickvalues\": null, \"tickformat_formatter\": \"\", \"tickformat\": null, \"scale\": \"linear\", \"fontsize\": 10.0, \"grid\": {\"gridOn\": false}, \"visible\": true}, {\"position\": \"left\", \"nticks\": 9, \"tickvalues\": null, \"tickformat_formatter\": \"\", \"tickformat\": null, \"scale\": \"linear\", \"fontsize\": 10.0, \"grid\": {\"gridOn\": false}, \"visible\": true}], \"axesbg\": \"#FFFFFF\", \"axesbgalpha\": null, \"zoomable\": true, \"id\": \"el6340130636080005568\", \"lines\": [{\"data\": \"data01\", \"xindex\": 0, \"yindex\": 1, \"coordinates\": \"data\", \"id\": \"el6340130636079709920\", \"color\": \"#1F77B4\", \"linewidth\": 1.5, \"dasharray\": \"none\", \"alpha\": 1, \"zorder\": 2, \"drawstyle\": \"default\"}, {\"data\": \"data01\", \"xindex\": 0, \"yindex\": 2, \"coordinates\": \"data\", \"id\": \"el6340130636079709824\", \"color\": \"#FF7F0E\", \"linewidth\": 1.5, \"dasharray\": \"none\", \"alpha\": 1, \"zorder\": 2, \"drawstyle\": \"default\"}, {\"data\": \"data01\", \"xindex\": 0, \"yindex\": 3, \"coordinates\": \"data\", \"id\": \"el6340130636079709776\", \"color\": \"#2CA02C\", \"linewidth\": 1.5, \"dasharray\": \"none\", \"alpha\": 1, \"zorder\": 2, \"drawstyle\": \"default\"}, {\"data\": \"data02\", \"xindex\": 0, \"yindex\": 1, \"coordinates\": \"axes\", \"id\": \"el6340130636079699024\", \"color\": \"#1F77B4\", \"linewidth\": 1.5, \"dasharray\": \"none\", \"alpha\": 1, \"zorder\": 1000002.0, \"drawstyle\": \"default\"}, {\"data\": \"data02\", \"xindex\": 0, \"yindex\": 2, \"coordinates\": \"axes\", \"id\": \"el6340130636079697056\", \"color\": \"#FF7F0E\", \"linewidth\": 1.5, \"dasharray\": \"none\", \"alpha\": 1, \"zorder\": 1000002.0, \"drawstyle\": \"default\"}, {\"data\": \"data02\", \"xindex\": 0, \"yindex\": 3, \"coordinates\": \"axes\", \"id\": \"el6340130636079703248\", \"color\": \"#2CA02C\", \"linewidth\": 1.5, \"dasharray\": \"none\", \"alpha\": 1, \"zorder\": 1000002.0, \"drawstyle\": \"default\"}], \"paths\": [{\"data\": \"data03\", \"xindex\": 0, \"yindex\": 1, \"coordinates\": \"axes\", \"pathcodes\": [\"M\", \"L\", \"S\", \"L\", \"S\", \"L\", \"S\", \"L\", \"S\", \"Z\"], \"id\": \"el6340130636079709392\", \"dasharray\": \"none\", \"alpha\": 0.8, \"facecolor\": \"rgba(255, 255, 255, 0.8)\", \"edgecolor\": \"rgba(204, 204, 204, 0.8)\", \"edgewidth\": 1.0, \"zorder\": 1000000.0}], \"markers\": [], \"texts\": [{\"text\": \"v_G\", \"position\": [0.5, 1.0225468975468974], \"coordinates\": \"axes\", \"h_anchor\": \"middle\", \"v_baseline\": \"auto\", \"rotation\": -0.0, \"fontsize\": 12.0, \"color\": \"#000000\", \"alpha\": 1, \"zorder\": 3, \"id\": \"el6340130636080011664\"}, {\"text\": \"vx\", \"position\": [0.9415322580645161, 0.9364177489177489], \"coordinates\": \"axes\", \"h_anchor\": \"start\", \"v_baseline\": \"auto\", \"rotation\": -0.0, \"fontsize\": 10.0, \"color\": \"#000000\", \"alpha\": 1, \"zorder\": 1000003.0, \"id\": \"el6340130636079703296\"}, {\"text\": \"vy\", \"position\": [0.9415322580645161, 0.8797498797498798], \"coordinates\": \"axes\", \"h_anchor\": \"start\", \"v_baseline\": \"auto\", \"rotation\": -0.0, \"fontsize\": 10.0, \"color\": \"#000000\", \"alpha\": 1, \"zorder\": 1000003.0, \"id\": \"el6340130636079698496\"}, {\"text\": \"vz\", \"position\": [0.9415322580645161, 0.8230820105820105], \"coordinates\": \"axes\", \"h_anchor\": \"start\", \"v_baseline\": \"auto\", \"rotation\": -0.0, \"fontsize\": 10.0, \"color\": \"#000000\", \"alpha\": 1, \"zorder\": 1000003.0, \"id\": \"el6340130636079697872\"}], \"collections\": [], \"images\": [], \"sharex\": [], \"sharey\": []}], \"data\": {\"data01\": [[0.0, -2.5310906292405805e-18, -0.09119215051751066, -0.04103646773287979], [5.482928049865326, -0.04, 0.0, -5.204170427930421e-18], [7.482928049865326, 0.0, 0.0, 0.0], [9.482928049865325, 0.04, 0.0, 5.204170427930421e-18], [11.482928049865325, 0.08178064193007667, 0.05754934061746136, 4.6238067964507534e-18], [19.736715059474914, 0.009086737992230734, 0.05754934061746135, -4.6238067964507534e-18], [27.990502069084503, 0.0, -0.04000000000000001, -5.204170427930421e-18], [29.990502069084503, 0.0, 0.0, 0.0], [31.990502069084503, 0.0, 0.04000000000000008, 5.2041704279304305e-18], [33.9905020690845, 0.0, 0.04000000000000008, 5.2041704279304305e-18]], \"data02\": [[0.8631272401433691, 0.9495701058201058, 0.8929022366522368, 0.8362343674843674], [0.8911290322580644, 0.9495701058201058, 0.8929022366522368, 0.8362343674843674], [0.9191308243727597, 0.9495701058201058, 0.8929022366522368, 0.8362343674843674]], \"data03\": [[0.8575268817204301, 0.7999338624338624], [0.9803987455197131, 0.7999338624338624], [0.9859991039426522, 0.7999338624338624], [0.9859991039426522, 0.8074494949494949], [0.9859991039426522, 0.9736952861952862], [0.9859991039426522, 0.9812109187109187], [0.9803987455197131, 0.9812109187109187], [0.8575268817204301, 0.9812109187109187], [0.851926523297491, 0.9812109187109187], [0.851926523297491, 0.9736952861952862], [0.851926523297491, 0.8074494949494949], [0.851926523297491, 0.7999338624338624], [0.8575268817204301, 0.7999338624338624]]}, \"id\": \"el6340130636081353328\", \"plugins\": [{\"type\": \"reset\"}, {\"type\": \"zoom\", \"button\": true, \"enabled\": false}, {\"type\": \"boxzoom\", \"button\": true, \"enabled\": false}]});\n            })\n         });\n}\n</script>"
     },
     "execution_count": 13,
     "metadata": {},
     "output_type": "execute_result"
    }
   ],
   "source": [
    "traj_v_G = traj_p_G.MakeDerivative()\n",
    "\n",
    "v_G = traj_v_G.vector_values(traj_v_G.get_segment_times())\n",
    "plt.plot(traj_v_G.get_segment_times(), v_G.T)\n",
    "plt.legend([\"vx\", \"vy\", \"vz\"])\n",
    "plt.title(\"v_G\")\n",
    "mpld3.display()"
   ]
  },
  {
   "cell_type": "markdown",
   "metadata": {
    "collapsed": false
   },
   "source": [
    "Now we need a slightly modified version of our Jacobian controller, which can take the spatial velocity commands from an input port."
   ]
  },
  {
   "cell_type": "code",
   "execution_count": 14,
   "metadata": {
    "collapsed": false,
    "ExecuteTime": {
     "end_time": "2024-03-21T09:14:48.789238Z",
     "start_time": "2024-03-21T09:14:48.770838Z"
    }
   },
   "outputs": [],
   "source": [
    "class PseudoInverseController(LeafSystem):\n",
    "    def __init__(self, plant):\n",
    "        LeafSystem.__init__(self)\n",
    "        self._plant = plant\n",
    "        self._plant_context = plant.CreateDefaultContext()\n",
    "        self._iiwa = plant.GetModelInstanceByName(\"iiwa\")\n",
    "        self._G = plant.GetBodyByName(\"body\").body_frame()\n",
    "        self._W = plant.world_frame()\n",
    "\n",
    "        self.V_G_port = self.DeclareVectorInputPort(\"V_WG\", 6)\n",
    "        self.q_port = self.DeclareVectorInputPort(\"iiwa.position\", 7)\n",
    "        self.DeclareVectorOutputPort(\"iiwa.velocity\", 7, self.CalcOutput)\n",
    "        self.iiwa_start = plant.GetJointByName(\"iiwa_joint_1\").velocity_start()\n",
    "        self.iiwa_end = plant.GetJointByName(\"iiwa_joint_7\").velocity_start()\n",
    "\n",
    "    def CalcOutput(self, context, output):\n",
    "        V_G = self.V_G_port.Eval(context)\n",
    "        q = self.q_port.Eval(context)\n",
    "        self._plant.SetPositions(self._plant_context, self._iiwa, q)\n",
    "        J_G = self._plant.CalcJacobianSpatialVelocity(\n",
    "            self._plant_context,\n",
    "            JacobianWrtVariable.kV,\n",
    "            self._G,\n",
    "            [0, 0, 0],\n",
    "            self._W,\n",
    "            self._W,\n",
    "        )\n",
    "        J_G = J_G[:, self.iiwa_start : self.iiwa_end + 1]  # Only iiwa terms.\n",
    "        v = np.linalg.pinv(J_G).dot(V_G)\n",
    "        output.SetFromVector(v)"
   ]
  },
  {
   "cell_type": "markdown",
   "metadata": {
    "collapsed": false
   },
   "source": [
    "Oh, boy.  Big moment.  I'm excited... are you?  Let's do this thing!"
   ]
  },
  {
   "cell_type": "code",
   "execution_count": 15,
   "metadata": {
    "collapsed": false,
    "ExecuteTime": {
     "end_time": "2024-03-21T09:16:49.044629Z",
     "start_time": "2024-03-21T09:15:29.269882Z"
    }
   },
   "outputs": [
    {
     "name": "stdout",
     "output_type": "stream",
     "text": [
      "Sanity check: The entire maneuver will take 31.24845571278131 seconds to execute.\n"
     ]
    }
   ],
   "source": [
    "from manipulation.station import LoadScenario\n",
    "\n",
    "X_O = {\n",
    "    \"initial\": RigidTransform(\n",
    "        RotationMatrix.MakeZRotation(np.pi / 2.0), [0, -0.6, 0.0]\n",
    "    ),\n",
    "    \"goal\": RigidTransform(RotationMatrix.MakeZRotation(np.pi), [0.5, 0, 0.0]),\n",
    "}\n",
    "\n",
    "meshcat.Delete()\n",
    "builder = DiagramBuilder()\n",
    "\n",
    "scenario_data = \"\"\"\n",
    "directives:\n",
    "- add_directives:\n",
    "    file: package://manipulation/clutter.dmd.yaml\n",
    "- add_model:\n",
    "    name: foam_brick\n",
    "    file: package://manipulation/hydro/061_foam_brick.sdf\n",
    "model_drivers:\n",
    "    iiwa: !IiwaDriver\n",
    "      hand_model_name: wsg\n",
    "    wsg: !SchunkWsgDriver {}\n",
    "\"\"\"\n",
    "\n",
    "scenario = LoadScenario(data=scenario_data)\n",
    "station = builder.AddSystem(MakeHardwareStation(scenario, meshcat=meshcat))\n",
    "plant = station.GetSubsystemByName(\"plant\")\n",
    "plant.SetDefaultFreeBodyPose(plant.GetBodyByName(\"base_link\"), X_O[\"initial\"])\n",
    "\n",
    "# Find the initial pose of the gripper and object (as set in the default Context)\n",
    "temp_context = station.CreateDefaultContext()\n",
    "temp_plant_context = plant.GetMyContextFromRoot(temp_context)\n",
    "X_G = {\n",
    "    \"initial\": plant.EvalBodyPoseInWorld(\n",
    "        temp_plant_context, plant.GetBodyByName(\"body\")\n",
    "    )\n",
    "}\n",
    "X_O[\"initial\"] = plant.EvalBodyPoseInWorld(\n",
    "    temp_plant_context, plant.GetBodyByName(\"base_link\")\n",
    ")\n",
    "X_G, times = MakeGripperFrames(X_G, X_O)\n",
    "print(\n",
    "    f\"Sanity check: The entire maneuver will take {times['postplace']} seconds to execute.\"\n",
    ")\n",
    "\n",
    "# Make the trajectories\n",
    "traj = MakeGripperPoseTrajectory(X_G, times)\n",
    "traj_V_G = traj.MakeDerivative()\n",
    "\n",
    "V_G_source = builder.AddSystem(TrajectorySource(traj_V_G))\n",
    "V_G_source.set_name(\"v_WG\")\n",
    "controller = builder.AddSystem(PseudoInverseController(plant))\n",
    "controller.set_name(\"PseudoInverseController\")\n",
    "builder.Connect(V_G_source.get_output_port(), controller.GetInputPort(\"V_WG\"))\n",
    "\n",
    "integrator = builder.AddSystem(Integrator(7))\n",
    "integrator.set_name(\"integrator\")\n",
    "builder.Connect(controller.get_output_port(), integrator.get_input_port())\n",
    "builder.Connect(integrator.get_output_port(), station.GetInputPort(\"iiwa.position\"))\n",
    "builder.Connect(\n",
    "    station.GetOutputPort(\"iiwa.position_measured\"),\n",
    "    controller.GetInputPort(\"iiwa.position\"),\n",
    ")\n",
    "\n",
    "traj_wsg_command = MakeGripperCommandTrajectory(times)\n",
    "wsg_source = builder.AddSystem(TrajectorySource(traj_wsg_command))\n",
    "wsg_source.set_name(\"wsg.command\")\n",
    "builder.Connect(wsg_source.get_output_port(), station.GetInputPort(\"wsg.position\"))\n",
    "\n",
    "diagram = builder.Build()\n",
    "diagram.set_name(\"pick_and_place\")\n",
    "\n",
    "simulator = Simulator(diagram)\n",
    "context = simulator.get_mutable_context()\n",
    "station_context = station.GetMyContextFromRoot(context)\n",
    "integrator.set_integral_value(\n",
    "    integrator.GetMyContextFromRoot(context),\n",
    "    plant.GetPositions(\n",
    "        plant.GetMyContextFromRoot(context),\n",
    "        plant.GetModelInstanceByName(\"iiwa\"),\n",
    "    ),\n",
    ")\n",
    "\n",
    "diagram.ForcedPublish(context)\n",
    "meshcat.StartRecording(set_visualizations_while_recording=False)\n",
    "simulator.AdvanceTo(traj_p_G.end_time() if running_as_notebook else 0.1)\n",
    "meshcat.PublishRecording()"
   ]
  },
  {
   "cell_type": "markdown",
   "metadata": {
    "collapsed": false
   },
   "source": [
    "That's quite some diagram we've assembled.  Do you understand all of the parts?"
   ]
  },
  {
   "cell_type": "code",
   "execution_count": 17,
   "metadata": {
    "ExecuteTime": {
     "end_time": "2024-03-13T17:13:46.439632Z",
     "start_time": "2024-03-13T17:13:46.093084Z"
    },
    "collapsed": false
   },
   "outputs": [
    {
     "data": {
      "image/svg+xml": [
       "<svg xmlns=\"http://www.w3.org/2000/svg\" xmlns:xlink=\"http://www.w3.org/1999/xlink\" width=\"1349pt\" height=\"1295pt\" viewBox=\"0.00 0.00 1349.00 1295.00\">\n",
       "<g id=\"graph0\" class=\"graph\" transform=\"scale(1 1) rotate(0) translate(4 1291)\">\n",
       "<title>_726</title>\n",
       "<polygon fill=\"white\" stroke=\"transparent\" points=\"-4,4 -4,-1291 1345,-1291 1345,4 -4,4\"/>\n",
       "<g id=\"clust1\" class=\"cluster\">\n",
       "<title>cluster726diagram</title>\n",
       "<polygon fill=\"none\" stroke=\"black\" points=\"8,-8 8,-1279 1333,-1279 1333,-8 8,-8\"/>\n",
       "<text text-anchor=\"start\" x=\"636.5\" y=\"-1260.8\" font-family=\"Times,serif\" font-weight=\"bold\" font-size=\"14.00\">Diagram</text>\n",
       "<text text-anchor=\"start\" x=\"591.5\" y=\"-1246.8\" font-family=\"Times,serif\" font-size=\"14.00\">name=pick_and_place</text>\n",
       "</g>\n",
       "<g id=\"clust2\" class=\"cluster\">\n",
       "<title>cluster726subsystems</title>\n",
       "<polygon fill=\"none\" stroke=\"white\" points=\"16,-16 16,-1227 1325,-1227 1325,-16 16,-16\"/>\n",
       "</g>\n",
       "<!-- s666 -->\n",
       "<g id=\"node1\" class=\"node\">\n",
       "<title>s666</title>\n",
       "<polygon fill=\"none\" stroke=\"black\" points=\"244,-1099 244,-1133 800,-1133 800,-1099 244,-1099\"/>\n",
       "<text text-anchor=\"start\" x=\"464.5\" y=\"-1119.8\" font-family=\"Times,serif\" font-weight=\"bold\" font-size=\"14.00\">RobotDiagram</text>\n",
       "<text text-anchor=\"start\" x=\"471.5\" y=\"-1105.8\" font-family=\"Times,serif\" font-size=\"14.00\">name=station</text>\n",
       "<polygon fill=\"none\" stroke=\"black\" points=\"244,-1078 244,-1099 436,-1099 436,-1078 244,-1078\"/>\n",
       "<text text-anchor=\"start\" x=\"294.5\" y=\"-1084.8\" font-family=\"Times,serif\" font-size=\"14.00\">iiwa.position</text>\n",
       "<polygon fill=\"none\" stroke=\"black\" points=\"436,-1078 436,-1099 800,-1099 800,-1078 436,-1078\"/>\n",
       "<text text-anchor=\"start\" x=\"526\" y=\"-1084.8\" font-family=\"Times,serif\" font-size=\"14.00\">iiwa.position_commanded</text>\n",
       "<polygon fill=\"none\" stroke=\"black\" points=\"244,-1057 244,-1078 436,-1078 436,-1057 244,-1057\"/>\n",
       "<text text-anchor=\"start\" x=\"252.5\" y=\"-1063.8\" font-family=\"Times,serif\" font-size=\"14.00\">iiwa.feedforward_torque</text>\n",
       "<polygon fill=\"none\" stroke=\"black\" points=\"436,-1057 436,-1078 800,-1078 800,-1057 436,-1057\"/>\n",
       "<text text-anchor=\"start\" x=\"533.5\" y=\"-1063.8\" font-family=\"Times,serif\" font-size=\"14.00\">iiwa.position_measured</text>\n",
       "<polygon fill=\"none\" stroke=\"black\" points=\"244,-1036 244,-1057 436,-1057 436,-1036 244,-1036\"/>\n",
       "<text text-anchor=\"start\" x=\"294.5\" y=\"-1042.8\" font-family=\"Times,serif\" font-size=\"14.00\">wsg.position</text>\n",
       "<polygon fill=\"none\" stroke=\"black\" points=\"436,-1036 436,-1057 800,-1057 800,-1036 436,-1036\"/>\n",
       "<text text-anchor=\"start\" x=\"534\" y=\"-1042.8\" font-family=\"Times,serif\" font-size=\"14.00\">iiwa.velocity_estimated</text>\n",
       "<polygon fill=\"none\" stroke=\"black\" points=\"244,-1015 244,-1036 436,-1036 436,-1015 244,-1015\"/>\n",
       "<text text-anchor=\"start\" x=\"285.5\" y=\"-1021.8\" font-family=\"Times,serif\" font-size=\"14.00\">wsg.force_limit</text>\n",
       "<polygon fill=\"none\" stroke=\"black\" points=\"436,-1015 436,-1036 800,-1036 800,-1015 436,-1015\"/>\n",
       "<text text-anchor=\"start\" x=\"544\" y=\"-1021.8\" font-family=\"Times,serif\" font-size=\"14.00\">iiwa.state_estimated</text>\n",
       "<polygon fill=\"none\" stroke=\"black\" points=\"244,-994 244,-1015 436,-1015 436,-994 244,-994\"/>\n",
       "<text text-anchor=\"start\" x=\"247\" y=\"-1000.8\" font-family=\"Times,serif\" font-size=\"14.00\">applied_generalized_force</text>\n",
       "<polygon fill=\"none\" stroke=\"black\" points=\"436,-994 436,-1015 800,-1015 800,-994 436,-994\"/>\n",
       "<text text-anchor=\"start\" x=\"530.5\" y=\"-1000.8\" font-family=\"Times,serif\" font-size=\"14.00\">iiwa.torque_commanded</text>\n",
       "<polygon fill=\"none\" stroke=\"black\" points=\"244,-973 244,-994 436,-994 436,-973 244,-973\"/>\n",
       "<text text-anchor=\"start\" x=\"264.5\" y=\"-979.8\" font-family=\"Times,serif\" font-size=\"14.00\">applied_spatial_force</text>\n",
       "<polygon fill=\"none\" stroke=\"black\" points=\"436,-973 436,-994 800,-994 800,-973 436,-973\"/>\n",
       "<text text-anchor=\"start\" x=\"538.5\" y=\"-979.8\" font-family=\"Times,serif\" font-size=\"14.00\">iiwa.torque_measured</text>\n",
       "<polyline fill=\"none\" stroke=\"grey\" points=\"244,-973 244,-28 436,-28 \"/>\n",
       "<polygon fill=\"none\" stroke=\"black\" points=\"436,-952 436,-973 800,-973 800,-952 436,-952\"/>\n",
       "<text text-anchor=\"start\" x=\"544\" y=\"-958.8\" font-family=\"Times,serif\" font-size=\"14.00\">iiwa.torque_external</text>\n",
       "<polygon fill=\"none\" stroke=\"black\" points=\"436,-931 436,-952 800,-952 800,-931 436,-931\"/>\n",
       "<text text-anchor=\"start\" x=\"544.5\" y=\"-937.8\" font-family=\"Times,serif\" font-size=\"14.00\">wsg.state_measured</text>\n",
       "<polygon fill=\"none\" stroke=\"black\" points=\"436,-910 436,-931 800,-931 800,-910 436,-910\"/>\n",
       "<text text-anchor=\"start\" x=\"544.5\" y=\"-916.8\" font-family=\"Times,serif\" font-size=\"14.00\">wsg.force_measured</text>\n",
       "<polygon fill=\"none\" stroke=\"black\" points=\"436,-889 436,-910 800,-910 800,-889 436,-889\"/>\n",
       "<text text-anchor=\"start\" x=\"563.5\" y=\"-895.8\" font-family=\"Times,serif\" font-size=\"14.00\">geometry_pose</text>\n",
       "<polygon fill=\"none\" stroke=\"black\" points=\"436,-868 436,-889 800,-889 800,-868 436,-868\"/>\n",
       "<text text-anchor=\"start\" x=\"492.5\" y=\"-874.8\" font-family=\"Times,serif\" font-size=\"14.00\" fill=\"grey\">WorldModelInstance_net_actuation</text>\n",
       "<polygon fill=\"none\" stroke=\"black\" points=\"436,-847 436,-868 800,-868 800,-847 436,-847\"/>\n",
       "<text text-anchor=\"start\" x=\"487\" y=\"-853.8\" font-family=\"Times,serif\" font-size=\"14.00\" fill=\"grey\">DefaultModelInstance_net_actuation</text>\n",
       "<polygon fill=\"none\" stroke=\"black\" points=\"436,-826 436,-847 800,-847 800,-826 436,-826\"/>\n",
       "<text text-anchor=\"start\" x=\"551.5\" y=\"-832.8\" font-family=\"Times,serif\" font-size=\"14.00\">iiwa_net_actuation</text>\n",
       "<polygon fill=\"none\" stroke=\"black\" points=\"436,-805 436,-826 800,-826 800,-805 436,-805\"/>\n",
       "<text text-anchor=\"start\" x=\"551.5\" y=\"-811.8\" font-family=\"Times,serif\" font-size=\"14.00\">wsg_net_actuation</text>\n",
       "<polygon fill=\"none\" stroke=\"black\" points=\"436,-784 436,-805 800,-805 800,-784 436,-784\"/>\n",
       "<text text-anchor=\"start\" x=\"550\" y=\"-790.8\" font-family=\"Times,serif\" font-size=\"14.00\" fill=\"grey\">bin0_net_actuation</text>\n",
       "<polygon fill=\"none\" stroke=\"black\" points=\"436,-763 436,-784 800,-784 800,-763 436,-763\"/>\n",
       "<text text-anchor=\"start\" x=\"550\" y=\"-769.8\" font-family=\"Times,serif\" font-size=\"14.00\" fill=\"grey\">bin1_net_actuation</text>\n",
       "<polygon fill=\"none\" stroke=\"black\" points=\"436,-742 436,-763 800,-763 800,-742 436,-742\"/>\n",
       "<text text-anchor=\"start\" x=\"550\" y=\"-748.8\" font-family=\"Times,serif\" font-size=\"14.00\" fill=\"grey\">floor_net_actuation</text>\n",
       "<polygon fill=\"none\" stroke=\"black\" points=\"436,-721 436,-742 800,-742 800,-721 436,-721\"/>\n",
       "<text text-anchor=\"start\" x=\"527\" y=\"-727.8\" font-family=\"Times,serif\" font-size=\"14.00\" fill=\"grey\">foam_brick_net_actuation</text>\n",
       "<polygon fill=\"none\" stroke=\"black\" points=\"436,-700 436,-721 800,-721 800,-700 436,-700\"/>\n",
       "<text text-anchor=\"start\" x=\"569.5\" y=\"-706.8\" font-family=\"Times,serif\" font-size=\"14.00\">net_actuation</text>\n",
       "<polygon fill=\"none\" stroke=\"black\" points=\"436,-679 436,-700 800,-700 800,-679 436,-679\"/>\n",
       "<text text-anchor=\"start\" x=\"599.5\" y=\"-685.8\" font-family=\"Times,serif\" font-size=\"14.00\">state</text>\n",
       "<polygon fill=\"none\" stroke=\"black\" points=\"436,-658 436,-679 800,-679 800,-658 436,-658\"/>\n",
       "<text text-anchor=\"start\" x=\"577\" y=\"-664.8\" font-family=\"Times,serif\" font-size=\"14.00\">body_poses</text>\n",
       "<polygon fill=\"none\" stroke=\"black\" points=\"436,-637 436,-658 800,-658 800,-637 436,-637\"/>\n",
       "<text text-anchor=\"start\" x=\"556.5\" y=\"-643.8\" font-family=\"Times,serif\" font-size=\"14.00\">spatial_velocities</text>\n",
       "<polygon fill=\"none\" stroke=\"black\" points=\"436,-616 436,-637 800,-637 800,-616 436,-616\"/>\n",
       "<text text-anchor=\"start\" x=\"543\" y=\"-622.8\" font-family=\"Times,serif\" font-size=\"14.00\">spatial_accelerations</text>\n",
       "<polygon fill=\"none\" stroke=\"black\" points=\"436,-595 436,-616 800,-616 800,-595 436,-595\"/>\n",
       "<text text-anchor=\"start\" x=\"529\" y=\"-601.8\" font-family=\"Times,serif\" font-size=\"14.00\">generalized_acceleration</text>\n",
       "<polygon fill=\"none\" stroke=\"black\" points=\"436,-574 436,-595 800,-595 800,-574 436,-574\"/>\n",
       "<text text-anchor=\"start\" x=\"523\" y=\"-580.8\" font-family=\"Times,serif\" font-size=\"14.00\" fill=\"grey\">WorldModelInstance_state</text>\n",
       "<polygon fill=\"none\" stroke=\"black\" points=\"436,-553 436,-574 800,-574 800,-553 436,-553\"/>\n",
       "<text text-anchor=\"start\" x=\"452.5\" y=\"-559.8\" font-family=\"Times,serif\" font-size=\"14.00\" fill=\"grey\">WorldModelInstance_generalized_acceleration</text>\n",
       "<polygon fill=\"none\" stroke=\"black\" points=\"436,-532 436,-553 800,-553 800,-532 436,-532\"/>\n",
       "<text text-anchor=\"start\" x=\"517.5\" y=\"-538.8\" font-family=\"Times,serif\" font-size=\"14.00\" fill=\"grey\">DefaultModelInstance_state</text>\n",
       "<polygon fill=\"none\" stroke=\"black\" points=\"436,-511 436,-532 800,-532 800,-511 436,-511\"/>\n",
       "<text text-anchor=\"start\" x=\"447\" y=\"-517.8\" font-family=\"Times,serif\" font-size=\"14.00\" fill=\"grey\">DefaultModelInstance_generalized_acceleration</text>\n",
       "<polygon fill=\"none\" stroke=\"black\" points=\"436,-490 436,-511 800,-511 800,-490 436,-490\"/>\n",
       "<text text-anchor=\"start\" x=\"581.5\" y=\"-496.8\" font-family=\"Times,serif\" font-size=\"14.00\">iiwa_state</text>\n",
       "<polygon fill=\"none\" stroke=\"black\" points=\"436,-469 436,-490 800,-490 800,-469 436,-469\"/>\n",
       "<text text-anchor=\"start\" x=\"511\" y=\"-475.8\" font-family=\"Times,serif\" font-size=\"14.00\">iiwa_generalized_acceleration</text>\n",
       "<polygon fill=\"none\" stroke=\"black\" points=\"436,-448 436,-469 800,-469 800,-448 436,-448\"/>\n",
       "<text text-anchor=\"start\" x=\"582\" y=\"-454.8\" font-family=\"Times,serif\" font-size=\"14.00\">wsg_state</text>\n",
       "<polygon fill=\"none\" stroke=\"black\" points=\"436,-427 436,-448 800,-448 800,-427 436,-427\"/>\n",
       "<text text-anchor=\"start\" x=\"511.5\" y=\"-433.8\" font-family=\"Times,serif\" font-size=\"14.00\">wsg_generalized_acceleration</text>\n",
       "<polygon fill=\"none\" stroke=\"black\" points=\"436,-406 436,-427 800,-427 800,-406 436,-406\"/>\n",
       "<text text-anchor=\"start\" x=\"580.5\" y=\"-412.8\" font-family=\"Times,serif\" font-size=\"14.00\" fill=\"grey\">bin0_state</text>\n",
       "<polygon fill=\"none\" stroke=\"black\" points=\"436,-385 436,-406 800,-406 800,-385 436,-385\"/>\n",
       "<text text-anchor=\"start\" x=\"510\" y=\"-391.8\" font-family=\"Times,serif\" font-size=\"14.00\" fill=\"grey\">bin0_generalized_acceleration</text>\n",
       "<polygon fill=\"none\" stroke=\"black\" points=\"436,-364 436,-385 800,-385 800,-364 436,-364\"/>\n",
       "<text text-anchor=\"start\" x=\"580.5\" y=\"-370.8\" font-family=\"Times,serif\" font-size=\"14.00\" fill=\"grey\">bin1_state</text>\n",
       "<polygon fill=\"none\" stroke=\"black\" points=\"436,-343 436,-364 800,-364 800,-343 436,-343\"/>\n",
       "<text text-anchor=\"start\" x=\"510\" y=\"-349.8\" font-family=\"Times,serif\" font-size=\"14.00\" fill=\"grey\">bin1_generalized_acceleration</text>\n",
       "<polygon fill=\"none\" stroke=\"black\" points=\"436,-322 436,-343 800,-343 800,-322 436,-322\"/>\n",
       "<text text-anchor=\"start\" x=\"580\" y=\"-328.8\" font-family=\"Times,serif\" font-size=\"14.00\" fill=\"grey\">floor_state</text>\n",
       "<polygon fill=\"none\" stroke=\"black\" points=\"436,-301 436,-322 800,-322 800,-301 436,-301\"/>\n",
       "<text text-anchor=\"start\" x=\"509.5\" y=\"-307.8\" font-family=\"Times,serif\" font-size=\"14.00\" fill=\"grey\">floor_generalized_acceleration</text>\n",
       "<polygon fill=\"none\" stroke=\"black\" points=\"436,-280 436,-301 800,-301 800,-280 436,-280\"/>\n",
       "<text text-anchor=\"start\" x=\"557.5\" y=\"-286.8\" font-family=\"Times,serif\" font-size=\"14.00\">foam_brick_state</text>\n",
       "<polygon fill=\"none\" stroke=\"black\" points=\"436,-259 436,-280 800,-280 800,-259 436,-259\"/>\n",
       "<text text-anchor=\"start\" x=\"487\" y=\"-265.8\" font-family=\"Times,serif\" font-size=\"14.00\">foam_brick_generalized_acceleration</text>\n",
       "<polygon fill=\"none\" stroke=\"black\" points=\"436,-238 436,-259 800,-259 800,-238 436,-238\"/>\n",
       "<text text-anchor=\"start\" x=\"444.5\" y=\"-244.8\" font-family=\"Times,serif\" font-size=\"14.00\" fill=\"grey\">WorldModelInstance_generalized_contact_forces</text>\n",
       "<polygon fill=\"none\" stroke=\"black\" points=\"436,-217 436,-238 800,-238 800,-217 436,-217\"/>\n",
       "<text text-anchor=\"start\" x=\"439\" y=\"-223.8\" font-family=\"Times,serif\" font-size=\"14.00\" fill=\"grey\">DefaultModelInstance_generalized_contact_forces</text>\n",
       "<polygon fill=\"none\" stroke=\"black\" points=\"436,-196 436,-217 800,-217 800,-196 436,-196\"/>\n",
       "<text text-anchor=\"start\" x=\"503.5\" y=\"-202.8\" font-family=\"Times,serif\" font-size=\"14.00\">iiwa_generalized_contact_forces</text>\n",
       "<polygon fill=\"none\" stroke=\"black\" points=\"436,-175 436,-196 800,-196 800,-175 436,-175\"/>\n",
       "<text text-anchor=\"start\" x=\"503.5\" y=\"-181.8\" font-family=\"Times,serif\" font-size=\"14.00\">wsg_generalized_contact_forces</text>\n",
       "<polygon fill=\"none\" stroke=\"black\" points=\"436,-154 436,-175 800,-175 800,-154 436,-154\"/>\n",
       "<text text-anchor=\"start\" x=\"502\" y=\"-160.8\" font-family=\"Times,serif\" font-size=\"14.00\" fill=\"grey\">bin0_generalized_contact_forces</text>\n",
       "<polygon fill=\"none\" stroke=\"black\" points=\"436,-133 436,-154 800,-154 800,-133 436,-133\"/>\n",
       "<text text-anchor=\"start\" x=\"502\" y=\"-139.8\" font-family=\"Times,serif\" font-size=\"14.00\" fill=\"grey\">bin1_generalized_contact_forces</text>\n",
       "<polygon fill=\"none\" stroke=\"black\" points=\"436,-112 436,-133 800,-133 800,-112 436,-112\"/>\n",
       "<text text-anchor=\"start\" x=\"502\" y=\"-118.8\" font-family=\"Times,serif\" font-size=\"14.00\" fill=\"grey\">floor_generalized_contact_forces</text>\n",
       "<polygon fill=\"none\" stroke=\"black\" points=\"436,-91 436,-112 800,-112 800,-91 436,-91\"/>\n",
       "<text text-anchor=\"start\" x=\"479\" y=\"-97.8\" font-family=\"Times,serif\" font-size=\"14.00\">foam_brick_generalized_contact_forces</text>\n",
       "<polygon fill=\"none\" stroke=\"black\" points=\"436,-70 436,-91 800,-91 800,-70 436,-70\"/>\n",
       "<text text-anchor=\"start\" x=\"563.5\" y=\"-76.8\" font-family=\"Times,serif\" font-size=\"14.00\">reaction_forces</text>\n",
       "<polygon fill=\"none\" stroke=\"black\" points=\"436,-49 436,-70 800,-70 800,-49 436,-49\"/>\n",
       "<text text-anchor=\"start\" x=\"563.5\" y=\"-55.8\" font-family=\"Times,serif\" font-size=\"14.00\">contact_results</text>\n",
       "<polygon fill=\"none\" stroke=\"black\" points=\"436,-28 436,-49 800,-49 800,-28 436,-28\"/>\n",
       "<text text-anchor=\"start\" x=\"572\" y=\"-34.8\" font-family=\"Times,serif\" font-size=\"14.00\">query_object</text>\n",
       "</g>\n",
       "<!-- s697 -->\n",
       "<g id=\"node3\" class=\"node\">\n",
       "<title>s697</title>\n",
       "<polygon fill=\"none\" stroke=\"black\" points=\"852.5,-1154 852.5,-1188 1127.5,-1188 1127.5,-1154 852.5,-1154\"/>\n",
       "<text text-anchor=\"start\" x=\"855.5\" y=\"-1174.8\" font-family=\"Times,serif\" font-weight=\"bold\" font-size=\"14.00\">__main__.PseudoInverseController</text>\n",
       "<text text-anchor=\"start\" x=\"875.5\" y=\"-1160.8\" font-family=\"Times,serif\" font-size=\"14.00\">name=PseudoInverseController</text>\n",
       "<polygon fill=\"none\" stroke=\"black\" points=\"852.5,-1133 852.5,-1154 990.5,-1154 990.5,-1133 852.5,-1133\"/>\n",
       "<text text-anchor=\"start\" x=\"900\" y=\"-1139.8\" font-family=\"Times,serif\" font-size=\"14.00\">V_WG</text>\n",
       "<polygon fill=\"none\" stroke=\"black\" points=\"990.5,-1112 990.5,-1154 1127.5,-1154 1127.5,-1112 990.5,-1112\"/>\n",
       "<text text-anchor=\"start\" x=\"1014\" y=\"-1129.3\" font-family=\"Times,serif\" font-size=\"14.00\">iiwa.velocity</text>\n",
       "<polygon fill=\"none\" stroke=\"black\" points=\"852.5,-1112 852.5,-1133 990.5,-1133 990.5,-1112 852.5,-1112\"/>\n",
       "<text text-anchor=\"start\" x=\"876\" y=\"-1118.8\" font-family=\"Times,serif\" font-size=\"14.00\">iiwa.position</text>\n",
       "</g>\n",
       "<!-- s666&#45;&gt;s697 -->\n",
       "<g id=\"edge5\" class=\"edge\">\n",
       "<title>s666:e-&gt;s697:w</title>\n",
       "<path fill=\"none\" stroke=\"black\" d=\"M801,-1068C829.88,-1068 821.62,-1109.71 841.51,-1119.82\"/>\n",
       "<polygon fill=\"black\" stroke=\"black\" points=\"840.98,-1123.28 851.5,-1122 842.48,-1116.45 840.98,-1123.28\"/>\n",
       "</g>\n",
       "<!-- s696 -->\n",
       "<g id=\"node2\" class=\"node\">\n",
       "<title>s696</title>\n",
       "<polygon fill=\"none\" stroke=\"black\" points=\"452,-1180 452,-1214 593,-1214 593,-1180 452,-1180\"/>\n",
       "<text text-anchor=\"start\" x=\"455\" y=\"-1200.8\" font-family=\"Times,serif\" font-weight=\"bold\" font-size=\"14.00\">TrajectorySource</text>\n",
       "<text text-anchor=\"start\" x=\"476.5\" y=\"-1186.8\" font-family=\"Times,serif\" font-size=\"14.00\">name=v_WG</text>\n",
       "<polyline fill=\"none\" stroke=\"grey\" points=\"452,-1180 452,-1159 513,-1159 \"/>\n",
       "<polygon fill=\"none\" stroke=\"black\" points=\"513,-1159 513,-1180 593,-1180 593,-1159 513,-1159\"/>\n",
       "<text text-anchor=\"start\" x=\"544\" y=\"-1165.8\" font-family=\"Times,serif\" font-size=\"14.00\">y0</text>\n",
       "</g>\n",
       "<!-- s696&#45;&gt;s697 -->\n",
       "<g id=\"edge4\" class=\"edge\">\n",
       "<title>s696:e-&gt;s697:w</title>\n",
       "<path fill=\"none\" stroke=\"black\" d=\"M594,-1169C600.4,-1169 793.95,-1148.38 841.29,-1143.87\"/>\n",
       "<polygon fill=\"black\" stroke=\"black\" points=\"841.83,-1147.33 851.5,-1143 841.24,-1140.36 841.83,-1147.33\"/>\n",
       "</g>\n",
       "<!-- s698 -->\n",
       "<g id=\"node4\" class=\"node\">\n",
       "<title>s698</title>\n",
       "<polygon fill=\"none\" stroke=\"black\" points=\"1179,-1122 1179,-1156 1309,-1156 1309,-1122 1179,-1122\"/>\n",
       "<text text-anchor=\"start\" x=\"1202.5\" y=\"-1142.8\" font-family=\"Times,serif\" font-weight=\"bold\" font-size=\"14.00\">Integrator</text>\n",
       "<text text-anchor=\"start\" x=\"1182\" y=\"-1128.8\" font-family=\"Times,serif\" font-size=\"14.00\">name=integrator</text>\n",
       "<polygon fill=\"none\" stroke=\"black\" points=\"1179,-1101 1179,-1122 1244,-1122 1244,-1101 1179,-1101\"/>\n",
       "<text text-anchor=\"start\" x=\"1202\" y=\"-1107.8\" font-family=\"Times,serif\" font-size=\"14.00\">u0</text>\n",
       "<polygon fill=\"none\" stroke=\"black\" points=\"1244,-1101 1244,-1122 1309,-1122 1309,-1101 1244,-1101\"/>\n",
       "<text text-anchor=\"start\" x=\"1267.5\" y=\"-1107.8\" font-family=\"Times,serif\" font-size=\"14.00\">y0</text>\n",
       "</g>\n",
       "<!-- s697&#45;&gt;s698 -->\n",
       "<g id=\"edge3\" class=\"edge\">\n",
       "<title>s697:e-&gt;s698:w</title>\n",
       "<path fill=\"none\" stroke=\"black\" d=\"M1128.5,-1133C1148.63,-1133 1152.87,-1117.63 1167.78,-1112.58\"/>\n",
       "<polygon fill=\"black\" stroke=\"black\" points=\"1168.65,-1115.99 1178,-1111 1167.58,-1109.07 1168.65,-1115.99\"/>\n",
       "</g>\n",
       "<!-- s698&#45;&gt;s666 -->\n",
       "<g id=\"edge1\" class=\"edge\">\n",
       "<title>s698:e-&gt;s666:w</title>\n",
       "<path fill=\"none\" stroke=\"black\" d=\"M1310,-1111C1316.02,-1111 1313.41,-1101.59 1309,-1097.5 1264.06,-1055.76 1232.33,-1097.36 1171,-1097.5 1025.67,-1097.83 977.19,-1040.83 844,-1099 822.53,-1108.38 829.49,-1128.17 808,-1137.5 793.63,-1143.74 255.19,-1148.46 244,-1137.5 231.61,-1125.36 224.55,-1101.35 233.5,-1092.44\"/>\n",
       "<polygon fill=\"black\" stroke=\"black\" points=\"234.79,-1095.69 243,-1089 232.41,-1089.11 234.79,-1095.69\"/>\n",
       "</g>\n",
       "<!-- s699 -->\n",
       "<g id=\"node5\" class=\"node\">\n",
       "<title>s699</title>\n",
       "<polygon fill=\"none\" stroke=\"black\" points=\"32,-1058 32,-1092 192,-1092 192,-1058 32,-1058\"/>\n",
       "<text text-anchor=\"start\" x=\"44.5\" y=\"-1078.8\" font-family=\"Times,serif\" font-weight=\"bold\" font-size=\"14.00\">TrajectorySource</text>\n",
       "<text text-anchor=\"start\" x=\"35\" y=\"-1064.8\" font-family=\"Times,serif\" font-size=\"14.00\">name=wsg.command</text>\n",
       "<polyline fill=\"none\" stroke=\"grey\" points=\"32,-1058 32,-1037 103,-1037 \"/>\n",
       "<polygon fill=\"none\" stroke=\"black\" points=\"103,-1037 103,-1058 192,-1058 192,-1037 103,-1037\"/>\n",
       "<text text-anchor=\"start\" x=\"138.5\" y=\"-1043.8\" font-family=\"Times,serif\" font-size=\"14.00\">y0</text>\n",
       "</g>\n",
       "<!-- s699&#45;&gt;s666 -->\n",
       "<g id=\"edge2\" class=\"edge\">\n",
       "<title>s699:e-&gt;s666:w</title>\n",
       "<path fill=\"none\" stroke=\"black\" d=\"M193,-1047C211.4,-1047 218.38,-1047 232.85,-1047\"/>\n",
       "<polygon fill=\"black\" stroke=\"black\" points=\"233,-1050.5 243,-1047 233,-1043.5 233,-1050.5\"/>\n",
       "</g>\n",
       "</g>\n",
       "</svg>"
      ],
      "text/plain": [
       "<IPython.core.display.SVG object>"
      ]
     },
     "metadata": {},
     "output_type": "display_data"
    }
   ],
   "source": [
    "RenderDiagram(diagram, max_depth=1)"
   ]
  },
  {
   "cell_type": "code",
   "execution_count": null,
   "metadata": {
    "collapsed": false
   },
   "outputs": [],
   "source": []
  },
  {
   "cell_type": "markdown",
   "metadata": {
    "created_in_deepnote_cell": true,
    "deepnote_cell_type": "markdown"
   },
   "source": [
    "<a style='text-decoration:none;line-height:16px;display:flex;color:#5B5B62;padding:10px;justify-content:end;' href='https://deepnote.com?utm_source=created-in-deepnote-cell&projectId=f0b1cabc-34db-4d1b-ba7e-872ed2fe3b85' target=\"_blank\">\n",
    "<img alt='Created in deepnote.com' style='display:inline;max-height:16px;margin:0px;margin-right:7.5px;' src='data:image/svg+xml;base64,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' > </img>\n",
    "Created in <span style='font-weight:600;margin-left:4px;'>Deepnote</span></a>"
   ]
  }
 ],
 "metadata": {
  "deepnote_execution_queue": [],
  "deepnote_notebook_id": "5ed9a22f47a148b98d7b9291985e2c0a",
  "kernelspec": {
   "display_name": "Python 3 (ipykernel)",
   "language": "python",
   "name": "python3"
  },
  "language_info": {
   "codemirror_mode": {
    "name": "ipython",
    "version": 3
   },
   "file_extension": ".py",
   "mimetype": "text/x-python",
   "name": "python",
   "nbconvert_exporter": "python",
   "pygments_lexer": "ipython3",
   "version": "3.10.12"
  }
 },
 "nbformat": 4,
 "nbformat_minor": 4
}
